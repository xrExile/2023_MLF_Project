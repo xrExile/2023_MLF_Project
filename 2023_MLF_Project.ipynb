{
 "cells": [
  {
   "cell_type": "markdown",
   "id": "4c8f59fa",
   "metadata": {},
   "source": [
    "Group 12\n",
    "==\n",
    "---------------------\n",
    "Members: \n",
    "--\n",
    "Zhang Qilin, 2201212436\n",
    "\n",
    "Xing Fangrong, 2201212427\n",
    "\n",
    "Xin Shoushuo, 2201212243\n",
    "\n",
    "----------------"
   ]
  },
  {
   "cell_type": "markdown",
   "id": "c3cbb844",
   "metadata": {},
   "source": [
    "# Contents\n",
    "\n",
    "## Section 1: Data feature and preprocess\n",
    "### 1.1 Data feature: lots of missing observations and extreme imbalanced\n",
    "### 1.2 Data preprocess: fill up the missing observations and rebalance the data\n",
    "##### 1.2.1 Fill up the missing values\n",
    "#### 1.2.2 Rebalance the data\n",
    "##### (1)  Oversampling method\n",
    "##### (2) Undersampling method\n",
    "\n",
    "## Section 2: Using machine learning model for prediction\n",
    "### Section 2.1 Training the model with oversampling data\n",
    "#### (1) Logistic Regression\n",
    "#### (2) PCA+Logistic Regression\n",
    "#### (3) Decision Tree\n",
    "#### (4) PCA+Decision Tree\n",
    "#### (5) Random Forest\n",
    "#### (6) PCA+Random Forest\n",
    "#### (7) NN\n",
    "#### (8) Score card model\n",
    "#### (9) Cloglog model\n",
    "### Section 2.2 Training the model with undersampling data\n",
    "#### (1) Logistic Regression\n",
    "#### (2) PCA+Logistic Regression\n",
    "#### (3) Decision Tree\n",
    "#### (4) PCA+Decision Tree\n",
    "#### (5) Random Forest\n",
    "#### (6) PCA+Random Forest\n",
    "#### (7) NN\n",
    "#### (8) Score card model\n",
    "#### (9) Cloglog model\n",
    "\n",
    "## Section 3: Results display\n",
    "### 3.1 Model results with oversampling\n",
    "### 3.2 Model results with undersampling\n",
    "\n"
   ]
  },
  {
   "cell_type": "markdown",
   "id": "77b7877d",
   "metadata": {},
   "source": [
    "Section 1: Data feature and preprocess\n",
    "=="
   ]
  },
  {
   "cell_type": "markdown",
   "id": "af1acde2",
   "metadata": {},
   "source": [
    "1.1 Data feature: lots of missing observations and extreme imbalanced\n",
    "--"
   ]
  },
  {
   "cell_type": "code",
   "execution_count": 67,
   "id": "fc731244",
   "metadata": {},
   "outputs": [],
   "source": [
    "import pandas as pd\n",
    "import numpy as np\n",
    "import matplotlib.pyplot as plt\n",
    "train_data = pd.read_csv(\"./training.csv\")\n",
    "test_data = pd.read_csv(\"./test.csv\")"
   ]
  },
  {
   "cell_type": "code",
   "execution_count": 68,
   "id": "d0097b55",
   "metadata": {},
   "outputs": [
    {
     "data": {
      "text/html": [
       "<div>\n",
       "<style scoped>\n",
       "    .dataframe tbody tr th:only-of-type {\n",
       "        vertical-align: middle;\n",
       "    }\n",
       "\n",
       "    .dataframe tbody tr th {\n",
       "        vertical-align: top;\n",
       "    }\n",
       "\n",
       "    .dataframe thead th {\n",
       "        text-align: right;\n",
       "    }\n",
       "</style>\n",
       "<table border=\"1\" class=\"dataframe\">\n",
       "  <thead>\n",
       "    <tr style=\"text-align: right;\">\n",
       "      <th></th>\n",
       "      <th>event</th>\n",
       "      <th>var1</th>\n",
       "      <th>var2</th>\n",
       "      <th>var3</th>\n",
       "      <th>var4</th>\n",
       "      <th>var5</th>\n",
       "      <th>var6</th>\n",
       "      <th>var7</th>\n",
       "      <th>var8</th>\n",
       "      <th>split</th>\n",
       "      <th>id</th>\n",
       "    </tr>\n",
       "  </thead>\n",
       "  <tbody>\n",
       "    <tr>\n",
       "      <th>0</th>\n",
       "      <td>1</td>\n",
       "      <td>NaN</td>\n",
       "      <td>NaN</td>\n",
       "      <td>NaN</td>\n",
       "      <td>NaN</td>\n",
       "      <td>NaN</td>\n",
       "      <td>NaN</td>\n",
       "      <td>NaN</td>\n",
       "      <td>NaN</td>\n",
       "      <td>dev</td>\n",
       "      <td>0</td>\n",
       "    </tr>\n",
       "    <tr>\n",
       "      <th>1</th>\n",
       "      <td>1</td>\n",
       "      <td>NaN</td>\n",
       "      <td>NaN</td>\n",
       "      <td>NaN</td>\n",
       "      <td>NaN</td>\n",
       "      <td>NaN</td>\n",
       "      <td>NaN</td>\n",
       "      <td>NaN</td>\n",
       "      <td>NaN</td>\n",
       "      <td>dev</td>\n",
       "      <td>1</td>\n",
       "    </tr>\n",
       "    <tr>\n",
       "      <th>2</th>\n",
       "      <td>1</td>\n",
       "      <td>NaN</td>\n",
       "      <td>NaN</td>\n",
       "      <td>NaN</td>\n",
       "      <td>NaN</td>\n",
       "      <td>NaN</td>\n",
       "      <td>NaN</td>\n",
       "      <td>NaN</td>\n",
       "      <td>NaN</td>\n",
       "      <td>dev</td>\n",
       "      <td>2</td>\n",
       "    </tr>\n",
       "    <tr>\n",
       "      <th>3</th>\n",
       "      <td>1</td>\n",
       "      <td>1.0</td>\n",
       "      <td>2.096510e+07</td>\n",
       "      <td>NaN</td>\n",
       "      <td>NaN</td>\n",
       "      <td>NaN</td>\n",
       "      <td>NaN</td>\n",
       "      <td>NaN</td>\n",
       "      <td>62.75</td>\n",
       "      <td>dev</td>\n",
       "      <td>3</td>\n",
       "    </tr>\n",
       "    <tr>\n",
       "      <th>4</th>\n",
       "      <td>1</td>\n",
       "      <td>NaN</td>\n",
       "      <td>NaN</td>\n",
       "      <td>NaN</td>\n",
       "      <td>NaN</td>\n",
       "      <td>NaN</td>\n",
       "      <td>NaN</td>\n",
       "      <td>NaN</td>\n",
       "      <td>NaN</td>\n",
       "      <td>dev</td>\n",
       "      <td>4</td>\n",
       "    </tr>\n",
       "  </tbody>\n",
       "</table>\n",
       "</div>"
      ],
      "text/plain": [
       "   event  var1          var2  var3  var4  var5  var6  var7   var8 split  id\n",
       "0      1   NaN           NaN   NaN   NaN   NaN   NaN   NaN    NaN   dev   0\n",
       "1      1   NaN           NaN   NaN   NaN   NaN   NaN   NaN    NaN   dev   1\n",
       "2      1   NaN           NaN   NaN   NaN   NaN   NaN   NaN    NaN   dev   2\n",
       "3      1   1.0  2.096510e+07   NaN   NaN   NaN   NaN   NaN  62.75   dev   3\n",
       "4      1   NaN           NaN   NaN   NaN   NaN   NaN   NaN    NaN   dev   4"
      ]
     },
     "execution_count": 68,
     "metadata": {},
     "output_type": "execute_result"
    }
   ],
   "source": [
    "train_data.head(5)"
   ]
  },
  {
   "cell_type": "code",
   "execution_count": 69,
   "id": "0d097899",
   "metadata": {},
   "outputs": [
    {
     "data": {
      "text/html": [
       "<div>\n",
       "<style scoped>\n",
       "    .dataframe tbody tr th:only-of-type {\n",
       "        vertical-align: middle;\n",
       "    }\n",
       "\n",
       "    .dataframe tbody tr th {\n",
       "        vertical-align: top;\n",
       "    }\n",
       "\n",
       "    .dataframe thead th {\n",
       "        text-align: right;\n",
       "    }\n",
       "</style>\n",
       "<table border=\"1\" class=\"dataframe\">\n",
       "  <thead>\n",
       "    <tr style=\"text-align: right;\">\n",
       "      <th></th>\n",
       "      <th>var1</th>\n",
       "      <th>var2</th>\n",
       "      <th>var3</th>\n",
       "      <th>var4</th>\n",
       "      <th>var5</th>\n",
       "      <th>var6</th>\n",
       "      <th>var7</th>\n",
       "      <th>var8</th>\n",
       "    </tr>\n",
       "  </thead>\n",
       "  <tbody>\n",
       "    <tr>\n",
       "      <th>0</th>\n",
       "      <td>NaN</td>\n",
       "      <td>NaN</td>\n",
       "      <td>NaN</td>\n",
       "      <td>NaN</td>\n",
       "      <td>NaN</td>\n",
       "      <td>NaN</td>\n",
       "      <td>NaN</td>\n",
       "      <td>NaN</td>\n",
       "    </tr>\n",
       "    <tr>\n",
       "      <th>1</th>\n",
       "      <td>NaN</td>\n",
       "      <td>NaN</td>\n",
       "      <td>NaN</td>\n",
       "      <td>NaN</td>\n",
       "      <td>NaN</td>\n",
       "      <td>NaN</td>\n",
       "      <td>NaN</td>\n",
       "      <td>NaN</td>\n",
       "    </tr>\n",
       "    <tr>\n",
       "      <th>2</th>\n",
       "      <td>NaN</td>\n",
       "      <td>NaN</td>\n",
       "      <td>NaN</td>\n",
       "      <td>NaN</td>\n",
       "      <td>NaN</td>\n",
       "      <td>NaN</td>\n",
       "      <td>NaN</td>\n",
       "      <td>NaN</td>\n",
       "    </tr>\n",
       "    <tr>\n",
       "      <th>3</th>\n",
       "      <td>1.0</td>\n",
       "      <td>2.096510e+07</td>\n",
       "      <td>NaN</td>\n",
       "      <td>NaN</td>\n",
       "      <td>NaN</td>\n",
       "      <td>NaN</td>\n",
       "      <td>NaN</td>\n",
       "      <td>62.75</td>\n",
       "    </tr>\n",
       "    <tr>\n",
       "      <th>4</th>\n",
       "      <td>NaN</td>\n",
       "      <td>NaN</td>\n",
       "      <td>NaN</td>\n",
       "      <td>NaN</td>\n",
       "      <td>NaN</td>\n",
       "      <td>NaN</td>\n",
       "      <td>NaN</td>\n",
       "      <td>NaN</td>\n",
       "    </tr>\n",
       "  </tbody>\n",
       "</table>\n",
       "</div>"
      ],
      "text/plain": [
       "   var1          var2  var3  var4  var5  var6  var7   var8\n",
       "0   NaN           NaN   NaN   NaN   NaN   NaN   NaN    NaN\n",
       "1   NaN           NaN   NaN   NaN   NaN   NaN   NaN    NaN\n",
       "2   NaN           NaN   NaN   NaN   NaN   NaN   NaN    NaN\n",
       "3   1.0  2.096510e+07   NaN   NaN   NaN   NaN   NaN  62.75\n",
       "4   NaN           NaN   NaN   NaN   NaN   NaN   NaN    NaN"
      ]
     },
     "execution_count": 69,
     "metadata": {},
     "output_type": "execute_result"
    }
   ],
   "source": [
    "train_data_X = train_data.iloc[:,list(range(1,9))]\n",
    "train_data_X.head(5)"
   ]
  },
  {
   "cell_type": "code",
   "execution_count": 70,
   "id": "cf4f6d5c",
   "metadata": {},
   "outputs": [
    {
     "data": {
      "text/plain": [
       "0    1\n",
       "1    1\n",
       "2    1\n",
       "3    1\n",
       "4    1\n",
       "Name: event, dtype: int64"
      ]
     },
     "execution_count": 70,
     "metadata": {},
     "output_type": "execute_result"
    }
   ],
   "source": [
    "train_data_Y = train_data['event']\n",
    "train_data_Y.head(5)"
   ]
  },
  {
   "cell_type": "code",
   "execution_count": 71,
   "id": "7f6d10e2",
   "metadata": {},
   "outputs": [
    {
     "data": {
      "text/html": [
       "<div>\n",
       "<style scoped>\n",
       "    .dataframe tbody tr th:only-of-type {\n",
       "        vertical-align: middle;\n",
       "    }\n",
       "\n",
       "    .dataframe tbody tr th {\n",
       "        vertical-align: top;\n",
       "    }\n",
       "\n",
       "    .dataframe thead th {\n",
       "        text-align: right;\n",
       "    }\n",
       "</style>\n",
       "<table border=\"1\" class=\"dataframe\">\n",
       "  <thead>\n",
       "    <tr style=\"text-align: right;\">\n",
       "      <th></th>\n",
       "      <th>var1</th>\n",
       "      <th>var2</th>\n",
       "      <th>var3</th>\n",
       "      <th>var4</th>\n",
       "      <th>var5</th>\n",
       "      <th>var6</th>\n",
       "      <th>var7</th>\n",
       "      <th>var8</th>\n",
       "    </tr>\n",
       "  </thead>\n",
       "  <tbody>\n",
       "    <tr>\n",
       "      <th>0</th>\n",
       "      <td>1.0</td>\n",
       "      <td>9.248254e+07</td>\n",
       "      <td>0.908051</td>\n",
       "      <td>13.0</td>\n",
       "      <td>0.133592</td>\n",
       "      <td>0.027241</td>\n",
       "      <td>NaN</td>\n",
       "      <td>73.041667</td>\n",
       "    </tr>\n",
       "    <tr>\n",
       "      <th>1</th>\n",
       "      <td>NaN</td>\n",
       "      <td>NaN</td>\n",
       "      <td>NaN</td>\n",
       "      <td>4.0</td>\n",
       "      <td>NaN</td>\n",
       "      <td>NaN</td>\n",
       "      <td>NaN</td>\n",
       "      <td>NaN</td>\n",
       "    </tr>\n",
       "    <tr>\n",
       "      <th>2</th>\n",
       "      <td>1.0</td>\n",
       "      <td>6.718715e+06</td>\n",
       "      <td>7.035461</td>\n",
       "      <td>13.0</td>\n",
       "      <td>41.878073</td>\n",
       "      <td>-7.422937</td>\n",
       "      <td>NaN</td>\n",
       "      <td>76.250000</td>\n",
       "    </tr>\n",
       "    <tr>\n",
       "      <th>3</th>\n",
       "      <td>1.0</td>\n",
       "      <td>3.576348e+06</td>\n",
       "      <td>0.483255</td>\n",
       "      <td>13.0</td>\n",
       "      <td>60.801780</td>\n",
       "      <td>NaN</td>\n",
       "      <td>NaN</td>\n",
       "      <td>80.083333</td>\n",
       "    </tr>\n",
       "    <tr>\n",
       "      <th>4</th>\n",
       "      <td>1.0</td>\n",
       "      <td>8.443072e+06</td>\n",
       "      <td>NaN</td>\n",
       "      <td>NaN</td>\n",
       "      <td>0.525225</td>\n",
       "      <td>NaN</td>\n",
       "      <td>NaN</td>\n",
       "      <td>87.625000</td>\n",
       "    </tr>\n",
       "  </tbody>\n",
       "</table>\n",
       "</div>"
      ],
      "text/plain": [
       "   var1          var2      var3  var4       var5      var6  var7       var8\n",
       "0   1.0  9.248254e+07  0.908051  13.0   0.133592  0.027241   NaN  73.041667\n",
       "1   NaN           NaN       NaN   4.0        NaN       NaN   NaN        NaN\n",
       "2   1.0  6.718715e+06  7.035461  13.0  41.878073 -7.422937   NaN  76.250000\n",
       "3   1.0  3.576348e+06  0.483255  13.0  60.801780       NaN   NaN  80.083333\n",
       "4   1.0  8.443072e+06       NaN   NaN   0.525225       NaN   NaN  87.625000"
      ]
     },
     "execution_count": 71,
     "metadata": {},
     "output_type": "execute_result"
    }
   ],
   "source": [
    "test_data_X = test_data.iloc[:,list(range(1,9))]\n",
    "test_data_X.head(5)"
   ]
  },
  {
   "cell_type": "code",
   "execution_count": 72,
   "id": "7ced0b3a",
   "metadata": {},
   "outputs": [
    {
     "data": {
      "text/plain": [
       "0    1\n",
       "1    1\n",
       "2    1\n",
       "3    1\n",
       "4    1\n",
       "Name: event, dtype: int64"
      ]
     },
     "execution_count": 72,
     "metadata": {},
     "output_type": "execute_result"
    }
   ],
   "source": [
    "test_data_Y = test_data['event']\n",
    "test_data_Y.head(5)"
   ]
  },
  {
   "cell_type": "code",
   "execution_count": 73,
   "id": "2888bf91",
   "metadata": {},
   "outputs": [
    {
     "name": "stdout",
     "output_type": "stream",
     "text": [
      "<class 'pandas.core.frame.DataFrame'>\n",
      "RangeIndex: 238836 entries, 0 to 238835\n",
      "Data columns (total 11 columns):\n",
      " #   Column  Non-Null Count   Dtype  \n",
      "---  ------  --------------   -----  \n",
      " 0   event   238836 non-null  int64  \n",
      " 1   var1    133036 non-null  float64\n",
      " 2   var2    117036 non-null  float64\n",
      " 3   var3    46637 non-null   float64\n",
      " 4   var4    78187 non-null   float64\n",
      " 5   var5    8287 non-null    float64\n",
      " 6   var6    5939 non-null    float64\n",
      " 7   var7    27542 non-null   float64\n",
      " 8   var8    101147 non-null  float64\n",
      " 9   split   238836 non-null  object \n",
      " 10  id      238836 non-null  int64  \n",
      "dtypes: float64(8), int64(2), object(1)\n",
      "memory usage: 20.0+ MB\n",
      "None\n"
     ]
    }
   ],
   "source": [
    "print(train_data.info())"
   ]
  },
  {
   "cell_type": "code",
   "execution_count": 75,
   "id": "75d0322d",
   "metadata": {},
   "outputs": [
    {
     "data": {
      "text/plain": [
       "<AxesSubplot:>"
      ]
     },
     "execution_count": 75,
     "metadata": {},
     "output_type": "execute_result"
    },
    {
     "data": {
      "image/png": "[encoded data removed]",
      "text/plain": [
       "<Figure size 1800x720 with 2 Axes>"
      ]
     },
     "metadata": {
      "needs_background": "light"
     },
     "output_type": "display_data"
    }
   ],
   "source": [
    "import missingno\n",
    "import matplotlib.pyplot as plt\n",
    "missingno.matrix(train_data.iloc[:,1:9])"
   ]
  },
  {
   "cell_type": "markdown",
   "id": "cf3c112a",
   "metadata": {},
   "source": [
    "We can find that the data is suffering from the serious observation-missing issue."
   ]
  },
  {
   "cell_type": "code",
   "execution_count": 76,
   "id": "759a102d",
   "metadata": {},
   "outputs": [
    {
     "data": {
      "text/plain": [
       "<AxesSubplot:>"
      ]
     },
     "execution_count": 76,
     "metadata": {},
     "output_type": "execute_result"
    },
    {
     "data": {
      "image/png": "[encoded data removed]",
      "text/plain": [
       "<Figure size 432x288 with 1 Axes>"
      ]
     },
     "metadata": {
      "needs_background": "light"
     },
     "output_type": "display_data"
    }
   ],
   "source": [
    "a = pd.cut(train_data['event'],[0,0.5,1], labels=[u\"0\",u\"1\"])\n",
    "b = a.value_counts()\n",
    "b.plot.bar()"
   ]
  },
  {
   "cell_type": "markdown",
   "id": "4a966308",
   "metadata": {},
   "source": [
    "We further find that the data is also suffering from extreme imbalanced issue."
   ]
  },
  {
   "cell_type": "markdown",
   "id": "cc10325d",
   "metadata": {},
   "source": [
    "1.2 Data preprocess: fill up the missing observations and rebalance the data\n",
    "--"
   ]
  },
  {
   "cell_type": "markdown",
   "id": "e72be575",
   "metadata": {},
   "source": [
    "1.2.1 Fill up the missing values\n",
    "---"
   ]
  },
  {
   "cell_type": "markdown",
   "id": "bc3c1bc4",
   "metadata": {},
   "source": [
    "By observing the data, we find that \n",
    "\n",
    "(i) var1, var4, var7 are discrete variables;\n",
    "\n",
    "(ii) var2, var3, var5, var6, var8 are continuous variables;\n",
    "\n",
    "So, we decide to use median to fill up the missing values of var1, var4 and var7; use mean to fill up the missing values of other columns."
   ]
  },
  {
   "cell_type": "code",
   "execution_count": 77,
   "id": "a35b2c80",
   "metadata": {},
   "outputs": [
    {
     "data": {
      "text/plain": [
       "var1    1.000000e+00\n",
       "var2    5.989773e+06\n",
       "var3    1.677203e+01\n",
       "var4    1.300000e+01\n",
       "var5    2.891997e+02\n",
       "var6    2.843049e+01\n",
       "var7    2.400000e+01\n",
       "var8    5.849715e+01\n",
       "dtype: float64"
      ]
     },
     "execution_count": 77,
     "metadata": {},
     "output_type": "execute_result"
    }
   ],
   "source": [
    "fill_up = train_data_X.mean()\n",
    "fill_up[['var1','var4','var7']] = train_data_X[['var1','var4','var7']].median()\n",
    "fill_up"
   ]
  },
  {
   "cell_type": "code",
   "execution_count": 78,
   "id": "3c163704",
   "metadata": {},
   "outputs": [],
   "source": [
    "train_data_X = train_data_X.fillna(value=fill_up)\n",
    "test_data_X = test_data_X.fillna(value=fill_up)"
   ]
  },
  {
   "cell_type": "markdown",
   "id": "ecf38797",
   "metadata": {},
   "source": [
    "Since over 80% observations of var5 and var6 are missing, we argue that it does not provide us enough information for prediction. Using Random Forest to assess the feature importance, it is clear that var5 and var6 only explain less than 1% of the difference. So, we delete var5 and var6, In other words, we will only use var1, var2, var3, var4, var7 and var8 for further prediction."
   ]
  },
  {
   "cell_type": "code",
   "execution_count": 79,
   "id": "ef6fdad6",
   "metadata": {
    "scrolled": true
   },
   "outputs": [
    {
     "name": "stdout",
     "output_type": "stream",
     "text": [
      " 1) var2                           0.480434\n",
      " 2) var8                           0.180085\n",
      " 3) var3                           0.165347\n",
      " 4) var4                           0.080455\n",
      " 5) var1                           0.056929\n",
      " 6) var7                           0.024008\n",
      " 7) var5                           0.006659\n",
      " 8) var6                           0.006082\n"
     ]
    },
    {
     "data": {
      "image/png": "[encoded data removed]",
      "text/plain": [
       "<Figure size 432x288 with 1 Axes>"
      ]
     },
     "metadata": {
      "needs_background": "light"
     },
     "output_type": "display_data"
    }
   ],
   "source": [
    "from sklearn.ensemble import RandomForestClassifier\n",
    "\n",
    "feat_labels = pd.Series(['var{}'.format(i) for i in range(1,9)])\n",
    "\n",
    "forest = RandomForestClassifier(n_estimators=500,\n",
    "                                random_state=1)\n",
    "\n",
    "forest.fit(train_data_X, train_data_Y)\n",
    "importances = forest.feature_importances_\n",
    "\n",
    "indices = np.argsort(importances)[::-1]\n",
    "\n",
    "for f in range(train_data_X.shape[1]):\n",
    "    print(\"%2d) %-*s %f\" % (f + 1, 30, \n",
    "                            feat_labels[indices[f]], \n",
    "                            importances[indices[f]]))\n",
    "\n",
    "plt.title('Feature Importance')\n",
    "plt.bar(range(train_data_X.shape[1]), \n",
    "        importances[indices],\n",
    "        align='center')\n",
    "plt.xticks(range(8), \n",
    "           feat_labels[indices], rotation=90)\n",
    "plt.xlim([-1, train_data_X.shape[1]])\n",
    "plt.tight_layout()\n",
    "\n",
    "plt.show()"
   ]
  },
  {
   "cell_type": "code",
   "execution_count": 16,
   "id": "f1cd199d",
   "metadata": {},
   "outputs": [],
   "source": [
    "del train_data_X['var5']\n",
    "del train_data_X['var6']\n",
    "del test_data_X['var5']\n",
    "del test_data_X['var6']"
   ]
  },
  {
   "cell_type": "code",
   "execution_count": 17,
   "id": "40290af7",
   "metadata": {},
   "outputs": [
    {
     "data": {
      "text/html": [
       "<div>\n",
       "<style scoped>\n",
       "    .dataframe tbody tr th:only-of-type {\n",
       "        vertical-align: middle;\n",
       "    }\n",
       "\n",
       "    .dataframe tbody tr th {\n",
       "        vertical-align: top;\n",
       "    }\n",
       "\n",
       "    .dataframe thead th {\n",
       "        text-align: right;\n",
       "    }\n",
       "</style>\n",
       "<table border=\"1\" class=\"dataframe\">\n",
       "  <thead>\n",
       "    <tr style=\"text-align: right;\">\n",
       "      <th></th>\n",
       "      <th>var1</th>\n",
       "      <th>var2</th>\n",
       "      <th>var3</th>\n",
       "      <th>var4</th>\n",
       "      <th>var7</th>\n",
       "      <th>var8</th>\n",
       "    </tr>\n",
       "  </thead>\n",
       "  <tbody>\n",
       "    <tr>\n",
       "      <th>0</th>\n",
       "      <td>1.0</td>\n",
       "      <td>5.989773e+06</td>\n",
       "      <td>16.772031</td>\n",
       "      <td>13.0</td>\n",
       "      <td>24.0</td>\n",
       "      <td>58.497153</td>\n",
       "    </tr>\n",
       "    <tr>\n",
       "      <th>1</th>\n",
       "      <td>1.0</td>\n",
       "      <td>5.989773e+06</td>\n",
       "      <td>16.772031</td>\n",
       "      <td>13.0</td>\n",
       "      <td>24.0</td>\n",
       "      <td>58.497153</td>\n",
       "    </tr>\n",
       "    <tr>\n",
       "      <th>2</th>\n",
       "      <td>1.0</td>\n",
       "      <td>5.989773e+06</td>\n",
       "      <td>16.772031</td>\n",
       "      <td>13.0</td>\n",
       "      <td>24.0</td>\n",
       "      <td>58.497153</td>\n",
       "    </tr>\n",
       "    <tr>\n",
       "      <th>3</th>\n",
       "      <td>1.0</td>\n",
       "      <td>2.096510e+07</td>\n",
       "      <td>16.772031</td>\n",
       "      <td>13.0</td>\n",
       "      <td>24.0</td>\n",
       "      <td>62.750000</td>\n",
       "    </tr>\n",
       "    <tr>\n",
       "      <th>4</th>\n",
       "      <td>1.0</td>\n",
       "      <td>5.989773e+06</td>\n",
       "      <td>16.772031</td>\n",
       "      <td>13.0</td>\n",
       "      <td>24.0</td>\n",
       "      <td>58.497153</td>\n",
       "    </tr>\n",
       "  </tbody>\n",
       "</table>\n",
       "</div>"
      ],
      "text/plain": [
       "   var1          var2       var3  var4  var7       var8\n",
       "0   1.0  5.989773e+06  16.772031  13.0  24.0  58.497153\n",
       "1   1.0  5.989773e+06  16.772031  13.0  24.0  58.497153\n",
       "2   1.0  5.989773e+06  16.772031  13.0  24.0  58.497153\n",
       "3   1.0  2.096510e+07  16.772031  13.0  24.0  62.750000\n",
       "4   1.0  5.989773e+06  16.772031  13.0  24.0  58.497153"
      ]
     },
     "execution_count": 17,
     "metadata": {},
     "output_type": "execute_result"
    }
   ],
   "source": [
    "train_data_X.head(5)"
   ]
  },
  {
   "cell_type": "code",
   "execution_count": 18,
   "id": "98ec5611",
   "metadata": {},
   "outputs": [
    {
     "data": {
      "text/html": [
       "<div>\n",
       "<style scoped>\n",
       "    .dataframe tbody tr th:only-of-type {\n",
       "        vertical-align: middle;\n",
       "    }\n",
       "\n",
       "    .dataframe tbody tr th {\n",
       "        vertical-align: top;\n",
       "    }\n",
       "\n",
       "    .dataframe thead th {\n",
       "        text-align: right;\n",
       "    }\n",
       "</style>\n",
       "<table border=\"1\" class=\"dataframe\">\n",
       "  <thead>\n",
       "    <tr style=\"text-align: right;\">\n",
       "      <th></th>\n",
       "      <th>var1</th>\n",
       "      <th>var2</th>\n",
       "      <th>var3</th>\n",
       "      <th>var4</th>\n",
       "      <th>var7</th>\n",
       "      <th>var8</th>\n",
       "    </tr>\n",
       "  </thead>\n",
       "  <tbody>\n",
       "    <tr>\n",
       "      <th>0</th>\n",
       "      <td>1.0</td>\n",
       "      <td>9.248254e+07</td>\n",
       "      <td>0.908051</td>\n",
       "      <td>13.0</td>\n",
       "      <td>24.0</td>\n",
       "      <td>73.041667</td>\n",
       "    </tr>\n",
       "    <tr>\n",
       "      <th>1</th>\n",
       "      <td>1.0</td>\n",
       "      <td>5.989773e+06</td>\n",
       "      <td>16.772031</td>\n",
       "      <td>4.0</td>\n",
       "      <td>24.0</td>\n",
       "      <td>58.497153</td>\n",
       "    </tr>\n",
       "    <tr>\n",
       "      <th>2</th>\n",
       "      <td>1.0</td>\n",
       "      <td>6.718715e+06</td>\n",
       "      <td>7.035461</td>\n",
       "      <td>13.0</td>\n",
       "      <td>24.0</td>\n",
       "      <td>76.250000</td>\n",
       "    </tr>\n",
       "    <tr>\n",
       "      <th>3</th>\n",
       "      <td>1.0</td>\n",
       "      <td>3.576348e+06</td>\n",
       "      <td>0.483255</td>\n",
       "      <td>13.0</td>\n",
       "      <td>24.0</td>\n",
       "      <td>80.083333</td>\n",
       "    </tr>\n",
       "    <tr>\n",
       "      <th>4</th>\n",
       "      <td>1.0</td>\n",
       "      <td>8.443072e+06</td>\n",
       "      <td>16.772031</td>\n",
       "      <td>13.0</td>\n",
       "      <td>24.0</td>\n",
       "      <td>87.625000</td>\n",
       "    </tr>\n",
       "  </tbody>\n",
       "</table>\n",
       "</div>"
      ],
      "text/plain": [
       "   var1          var2       var3  var4  var7       var8\n",
       "0   1.0  9.248254e+07   0.908051  13.0  24.0  73.041667\n",
       "1   1.0  5.989773e+06  16.772031   4.0  24.0  58.497153\n",
       "2   1.0  6.718715e+06   7.035461  13.0  24.0  76.250000\n",
       "3   1.0  3.576348e+06   0.483255  13.0  24.0  80.083333\n",
       "4   1.0  8.443072e+06  16.772031  13.0  24.0  87.625000"
      ]
     },
     "execution_count": 18,
     "metadata": {},
     "output_type": "execute_result"
    }
   ],
   "source": [
    "test_data_X.head(5)"
   ]
  },
  {
   "cell_type": "markdown",
   "id": "685c74d5",
   "metadata": {},
   "source": [
    "1.2.2 Rebalance the data\n",
    "--"
   ]
  },
  {
   "cell_type": "markdown",
   "id": "ee962a8f",
   "metadata": {},
   "source": [
    "We employ oversampling method and undersampling method to rebalance the data, respectively."
   ]
  },
  {
   "cell_type": "markdown",
   "id": "ee682d68",
   "metadata": {},
   "source": [
    "(1) Oversampling method\n",
    "--"
   ]
  },
  {
   "cell_type": "code",
   "execution_count": 42,
   "id": "a76b31ae",
   "metadata": {},
   "outputs": [
    {
     "name": "stdout",
     "output_type": "stream",
     "text": [
      "Number of class 0 examples before: 6032\n",
      "Number of class 0 examples after: 232804\n"
     ]
    }
   ],
   "source": [
    "from sklearn.utils import resample\n",
    "\n",
    "print('Number of class 0 examples before:', train_data_X[train_data_Y == 0].shape[0])\n",
    "\n",
    "X_upsampled, Y_upsampled = resample(train_data_X[train_data_Y == 0],\n",
    "                                    train_data_Y[train_data_Y == 0],\n",
    "                                    replace=True,\n",
    "                                    n_samples=train_data_X[train_data_Y == 1].shape[0],\n",
    "                                    random_state=123)\n",
    "\n",
    "print('Number of class 0 examples after:', X_upsampled.shape[0])"
   ]
  },
  {
   "cell_type": "code",
   "execution_count": 23,
   "id": "f8ddff76",
   "metadata": {},
   "outputs": [],
   "source": [
    "train_data_X_bal_up = np.vstack((train_data_X[train_data_Y == 1], X_upsampled))\n",
    "train_data_Y_bal_up = np.hstack((train_data_Y[train_data_Y == 1], Y_upsampled))"
   ]
  },
  {
   "cell_type": "markdown",
   "id": "8ca0bf89",
   "metadata": {},
   "source": [
    "(2) Undersampling method\n",
    "--"
   ]
  },
  {
   "cell_type": "code",
   "execution_count": 43,
   "id": "6c84528f",
   "metadata": {},
   "outputs": [
    {
     "name": "stdout",
     "output_type": "stream",
     "text": [
      "Number of class 1 examples before: 232804\n",
      "Number of class 1 examples after: 6032\n"
     ]
    }
   ],
   "source": [
    "print('Number of class 1 examples before:', train_data_X[train_data_Y == 1].shape[0])\n",
    "\n",
    "X_downsampled, Y_downsampled = resample(train_data_X[train_data_Y == 1],\n",
    "                                    train_data_Y[train_data_Y == 1],\n",
    "                                    replace=True,\n",
    "                                    n_samples=train_data_X[train_data_Y == 0].shape[0],\n",
    "                                    random_state=123)\n",
    "\n",
    "print('Number of class 1 examples after:', X_downsampled.shape[0])"
   ]
  },
  {
   "cell_type": "code",
   "execution_count": 25,
   "id": "c7cdb7a5",
   "metadata": {},
   "outputs": [],
   "source": [
    "train_data_X_bal_down = np.vstack((train_data_X[train_data_Y == 0], X_downsampled))\n",
    "train_data_Y_bal_down = np.hstack((train_data_Y[train_data_Y == 0], Y_downsampled))"
   ]
  },
  {
   "cell_type": "markdown",
   "id": "d8bb9f18",
   "metadata": {},
   "source": [
    "Section 2: Using machine learning model for prediction\n",
    "=="
   ]
  },
  {
   "cell_type": "markdown",
   "id": "561005a7",
   "metadata": {},
   "source": [
    "Section 2.1 Training the model with oversampling data\n",
    "--"
   ]
  },
  {
   "cell_type": "markdown",
   "id": "31064335",
   "metadata": {},
   "source": [
    "(1) Logistic Regression\n",
    "--"
   ]
  },
  {
   "cell_type": "code",
   "execution_count": 19,
   "id": "362455db",
   "metadata": {},
   "outputs": [],
   "source": [
    "from sklearn.preprocessing import StandardScaler\n",
    "from sklearn.decomposition import PCA\n",
    "from sklearn.linear_model import LogisticRegression\n",
    "from sklearn.pipeline import make_pipeline\n",
    "from sklearn.model_selection import GridSearchCV"
   ]
  },
  {
   "cell_type": "code",
   "execution_count": 206,
   "id": "ece83275",
   "metadata": {},
   "outputs": [],
   "source": [
    "pipe_lr_o = make_pipeline(StandardScaler(),\n",
    "                        LogisticRegression(random_state=1))\n",
    "\n",
    "param_range = [0.0001, 0.001, 0.01, 0.1, 1.0, 10.0, 100.0, 1000.0]\n",
    "\n",
    "param_grid = [{'logisticregression__penalty': ['l1'], \n",
    "               'logisticregression__C': param_range,\n",
    "               'logisticregression__solver':['liblinear']},\n",
    "              {'logisticregression__penalty': ['l2'], \n",
    "               'logisticregression__C': param_range,\n",
    "               'logisticregression__solver':['lbfgs']}]\n",
    "\n",
    "gs_LR_up = GridSearchCV(estimator=pipe_lr_o, \n",
    "                  param_grid=param_grid, \n",
    "                  scoring='f1', \n",
    "                  refit=True,\n",
    "                  cv=10,\n",
    "                  n_jobs =-1)\n",
    "\n",
    "gs_LR_up = gs_LR_up.fit(train_data_X_bal_up, train_data_Y_bal_up)"
   ]
  },
  {
   "cell_type": "code",
   "execution_count": 207,
   "id": "53d9b04a",
   "metadata": {},
   "outputs": [
    {
     "name": "stdout",
     "output_type": "stream",
     "text": [
      "0.6949566850682953\n",
      "{'logisticregression__C': 0.0001, 'logisticregression__penalty': 'l1', 'logisticregression__solver': 'liblinear'}\n"
     ]
    }
   ],
   "source": [
    "print(gs_LR_up.best_score_)\n",
    "print(gs_LR_up.best_params_)"
   ]
  },
  {
   "cell_type": "code",
   "execution_count": 208,
   "id": "37681dfd",
   "metadata": {},
   "outputs": [],
   "source": [
    "LR_up_best = gs_LR_up.best_estimator_"
   ]
  },
  {
   "cell_type": "code",
   "execution_count": 209,
   "id": "a7b844ee",
   "metadata": {},
   "outputs": [],
   "source": [
    "import warnings\n",
    "warnings.filterwarnings(\"ignore\")\n",
    "Y_pred_LR_up_best = LR_up_best.predict(test_data_X)"
   ]
  },
  {
   "cell_type": "code",
   "execution_count": 210,
   "id": "3ddc39b1",
   "metadata": {},
   "outputs": [
    {
     "name": "stdout",
     "output_type": "stream",
     "text": [
      "Accuracy: 0.930\n",
      "Precision: 0.979\n",
      "Recall: 0.948\n",
      "F1: 0.964\n",
      "Auc: 0.586\n"
     ]
    }
   ],
   "source": [
    "from sklearn.metrics import precision_score, recall_score, f1_score, roc_auc_score\n",
    "print('Accuracy: %.3f' % LR_up_best.score(test_data_X, test_data_Y))\n",
    "print('Precision: %.3f' % precision_score(y_true=test_data_Y, y_pred=Y_pred_LR_up_best))\n",
    "print('Recall: %.3f' % recall_score(y_true=test_data_Y, y_pred=Y_pred_LR_up_best))\n",
    "print('F1: %.3f' % f1_score(y_true=test_data_Y, y_pred=Y_pred_LR_up_best))\n",
    "print('Auc: %.3f' % roc_auc_score(test_data_Y,Y_pred_LR_up_best))"
   ]
  },
  {
   "cell_type": "code",
   "execution_count": 211,
   "id": "9af5e07d",
   "metadata": {},
   "outputs": [
    {
     "data": {
      "image/png": "[encoded data removed]",
      "text/plain": [
       "<Figure size 180x180 with 1 Axes>"
      ]
     },
     "metadata": {
      "needs_background": "light"
     },
     "output_type": "display_data"
    }
   ],
   "source": [
    "from sklearn.metrics import confusion_matrix\n",
    "\n",
    "confmat = confusion_matrix(y_true=test_data_Y, y_pred=Y_pred_LR_up_best)\n",
    "fig, ax = plt.subplots(figsize=(2.5, 2.5))\n",
    "ax.matshow(confmat, cmap=plt.cm.Blues, alpha=0.3)\n",
    "for i in range(confmat.shape[0]):\n",
    "    for j in range(confmat.shape[1]):\n",
    "        ax.text(x=j, y=i, s=confmat[i, j], va='center', ha='center')\n",
    "\n",
    "plt.xlabel('Predicted label')\n",
    "plt.ylabel('True label')\n",
    "\n",
    "plt.tight_layout()\n",
    "plt.show()"
   ]
  },
  {
   "cell_type": "code",
   "execution_count": 107,
   "id": "be4a93ef",
   "metadata": {},
   "outputs": [
    {
     "data": {
      "text/html": [
       "<div>\n",
       "<style scoped>\n",
       "    .dataframe tbody tr th:only-of-type {\n",
       "        vertical-align: middle;\n",
       "    }\n",
       "\n",
       "    .dataframe tbody tr th {\n",
       "        vertical-align: top;\n",
       "    }\n",
       "\n",
       "    .dataframe thead th {\n",
       "        text-align: right;\n",
       "    }\n",
       "</style>\n",
       "<table border=\"1\" class=\"dataframe\">\n",
       "  <thead>\n",
       "    <tr style=\"text-align: right;\">\n",
       "      <th></th>\n",
       "      <th>Logistic Regression</th>\n",
       "    </tr>\n",
       "  </thead>\n",
       "  <tbody>\n",
       "    <tr>\n",
       "      <th>Accuracy</th>\n",
       "      <td>0.930</td>\n",
       "    </tr>\n",
       "    <tr>\n",
       "      <th>Precision</th>\n",
       "      <td>0.979</td>\n",
       "    </tr>\n",
       "    <tr>\n",
       "      <th>Recall</th>\n",
       "      <td>0.948</td>\n",
       "    </tr>\n",
       "    <tr>\n",
       "      <th>F1</th>\n",
       "      <td>0.964</td>\n",
       "    </tr>\n",
       "    <tr>\n",
       "      <th>Auc</th>\n",
       "      <td>0.586</td>\n",
       "    </tr>\n",
       "  </tbody>\n",
       "</table>\n",
       "</div>"
      ],
      "text/plain": [
       "           Logistic Regression\n",
       "Accuracy                 0.930\n",
       "Precision                0.979\n",
       "Recall                   0.948\n",
       "F1                       0.964\n",
       "Auc                      0.586"
      ]
     },
     "execution_count": 107,
     "metadata": {},
     "output_type": "execute_result"
    }
   ],
   "source": [
    "outcome_oversample=pd.DataFrame()\n",
    "outcome_oversample['Logistic Regression']=[0.930,0.979,0.948,0.964,0.586]\n",
    "outcome_oversample.index = ['Accuracy', 'Precision', 'Recall', 'F1', 'Auc']\n",
    "outcome_oversample"
   ]
  },
  {
   "cell_type": "markdown",
   "id": "3cc8e497",
   "metadata": {},
   "source": [
    "(2) PCA + Logistic Regression\n",
    "--"
   ]
  },
  {
   "cell_type": "code",
   "execution_count": 212,
   "id": "7309727d",
   "metadata": {},
   "outputs": [],
   "source": [
    "pipe_lr = make_pipeline(StandardScaler(),\n",
    "                        PCA(),\n",
    "                        LogisticRegression(random_state=1))\n",
    "\n",
    "param_range = [0.0001, 0.001, 0.01, 0.1, 1.0, 10.0, 100.0, 1000.0]\n",
    "\n",
    "n_components=[2,3,4,5,6]\n",
    "\n",
    "param_grid = [{'logisticregression__penalty': ['l1'], \n",
    "               'logisticregression__C': param_range,\n",
    "               'logisticregression__solver':['liblinear'],\n",
    "               'pca__n_components':n_components},\n",
    "              {'logisticregression__penalty': ['l2'], \n",
    "               'logisticregression__C': param_range,\n",
    "               'logisticregression__solver':['lbfgs'],\n",
    "               'pca__n_components':n_components}]\n",
    "\n",
    "gs_PCA_LR_up = GridSearchCV(estimator=pipe_lr, \n",
    "                  param_grid=param_grid, \n",
    "                  scoring='f1', \n",
    "                  refit=True,\n",
    "                  cv=10,\n",
    "                  n_jobs =-1)\n",
    "\n",
    "gs_PCA_LR_up = gs_PCA_LR_up.fit(train_data_X_bal_up, train_data_Y_bal_up)"
   ]
  },
  {
   "cell_type": "code",
   "execution_count": 213,
   "id": "f744c14c",
   "metadata": {},
   "outputs": [
    {
     "name": "stdout",
     "output_type": "stream",
     "text": [
      "0.6818598329266263\n",
      "{'logisticregression__C': 0.0001, 'logisticregression__penalty': 'l1', 'logisticregression__solver': 'liblinear', 'pca__n_components': 6}\n"
     ]
    }
   ],
   "source": [
    "print(gs_PCA_LR_up.best_score_)\n",
    "print(gs_PCA_LR_up.best_params_)"
   ]
  },
  {
   "cell_type": "code",
   "execution_count": 214,
   "id": "00110211",
   "metadata": {},
   "outputs": [],
   "source": [
    "PCA_LR_up_best = gs_PCA_LR_up.best_estimator_"
   ]
  },
  {
   "cell_type": "code",
   "execution_count": 215,
   "id": "4322d02a",
   "metadata": {},
   "outputs": [],
   "source": [
    "warnings.filterwarnings(\"ignore\")\n",
    "Y_pred_PCA_LR_up_best = PCA_LR_up_best.predict(test_data_X)"
   ]
  },
  {
   "cell_type": "code",
   "execution_count": 216,
   "id": "19ccca30",
   "metadata": {},
   "outputs": [
    {
     "name": "stdout",
     "output_type": "stream",
     "text": [
      "Accuracy: 0.885\n",
      "Precision: 0.980\n",
      "Recall: 0.900\n",
      "F1: 0.938\n",
      "Auc: 0.589\n"
     ]
    }
   ],
   "source": [
    "print('Accuracy: %.3f' % PCA_LR_up_best.score(test_data_X, test_data_Y))\n",
    "print('Precision: %.3f' % precision_score(y_true=test_data_Y, y_pred=Y_pred_PCA_LR_up_best))\n",
    "print('Recall: %.3f' % recall_score(y_true=test_data_Y, y_pred=Y_pred_PCA_LR_up_best))\n",
    "print('F1: %.3f' % f1_score(y_true=test_data_Y, y_pred=Y_pred_PCA_LR_up_best))\n",
    "print('Auc: %.3f' % roc_auc_score(test_data_Y,Y_pred_PCA_LR_up_best))"
   ]
  },
  {
   "cell_type": "code",
   "execution_count": 217,
   "id": "1ac7c4b7",
   "metadata": {},
   "outputs": [
    {
     "data": {
      "image/png": "[encoded data removed]",
      "text/plain": [
       "<Figure size 180x180 with 1 Axes>"
      ]
     },
     "metadata": {
      "needs_background": "light"
     },
     "output_type": "display_data"
    }
   ],
   "source": [
    "confmat = confusion_matrix(y_true=test_data_Y, y_pred=Y_pred_PCA_LR_up_best)\n",
    "fig, ax = plt.subplots(figsize=(2.5, 2.5))\n",
    "ax.matshow(confmat, cmap=plt.cm.Blues, alpha=0.3)\n",
    "for i in range(confmat.shape[0]):\n",
    "    for j in range(confmat.shape[1]):\n",
    "        ax.text(x=j, y=i, s=confmat[i, j], va='center', ha='center')\n",
    "\n",
    "plt.xlabel('Predicted label')\n",
    "plt.ylabel('True label')\n",
    "\n",
    "plt.tight_layout()\n",
    "plt.show()"
   ]
  },
  {
   "cell_type": "code",
   "execution_count": 108,
   "id": "ac6a6b6a",
   "metadata": {},
   "outputs": [
    {
     "data": {
      "text/html": [
       "<div>\n",
       "<style scoped>\n",
       "    .dataframe tbody tr th:only-of-type {\n",
       "        vertical-align: middle;\n",
       "    }\n",
       "\n",
       "    .dataframe tbody tr th {\n",
       "        vertical-align: top;\n",
       "    }\n",
       "\n",
       "    .dataframe thead th {\n",
       "        text-align: right;\n",
       "    }\n",
       "</style>\n",
       "<table border=\"1\" class=\"dataframe\">\n",
       "  <thead>\n",
       "    <tr style=\"text-align: right;\">\n",
       "      <th></th>\n",
       "      <th>Logistic Regression</th>\n",
       "      <th>PCA + Logistic Regression</th>\n",
       "    </tr>\n",
       "  </thead>\n",
       "  <tbody>\n",
       "    <tr>\n",
       "      <th>Accuracy</th>\n",
       "      <td>0.930</td>\n",
       "      <td>0.885</td>\n",
       "    </tr>\n",
       "    <tr>\n",
       "      <th>Precision</th>\n",
       "      <td>0.979</td>\n",
       "      <td>0.980</td>\n",
       "    </tr>\n",
       "    <tr>\n",
       "      <th>Recall</th>\n",
       "      <td>0.948</td>\n",
       "      <td>0.900</td>\n",
       "    </tr>\n",
       "    <tr>\n",
       "      <th>F1</th>\n",
       "      <td>0.964</td>\n",
       "      <td>0.938</td>\n",
       "    </tr>\n",
       "    <tr>\n",
       "      <th>Auc</th>\n",
       "      <td>0.586</td>\n",
       "      <td>0.589</td>\n",
       "    </tr>\n",
       "  </tbody>\n",
       "</table>\n",
       "</div>"
      ],
      "text/plain": [
       "           Logistic Regression  PCA + Logistic Regression\n",
       "Accuracy                 0.930                      0.885\n",
       "Precision                0.979                      0.980\n",
       "Recall                   0.948                      0.900\n",
       "F1                       0.964                      0.938\n",
       "Auc                      0.586                      0.589"
      ]
     },
     "execution_count": 108,
     "metadata": {},
     "output_type": "execute_result"
    }
   ],
   "source": [
    "\n",
    "outcome_oversample['PCA + Logistic Regression']=[0.885,0.980,0.900,0.938,0.589]\n",
    "outcome_oversample"
   ]
  },
  {
   "cell_type": "markdown",
   "id": "4a546003",
   "metadata": {},
   "source": [
    "(3) Decision Tree\n",
    "--"
   ]
  },
  {
   "cell_type": "code",
   "execution_count": 218,
   "id": "0bd5b2be",
   "metadata": {},
   "outputs": [],
   "source": [
    "from sklearn.tree import DecisionTreeClassifier\n",
    "\n",
    "pipe_tree_o = make_pipeline(StandardScaler(),\n",
    "                 DecisionTreeClassifier(random_state=0,criterion='gini'))\n",
    "\n",
    "param_grid=[{'decisiontreeclassifier__max_depth': [1, 2, 3, 4, 5, 6, 7, None]}]\n",
    "\n",
    "gs_DT_up = GridSearchCV(estimator=pipe_tree_o,\n",
    "                  param_grid=param_grid,\n",
    "                  scoring='f1',\n",
    "                  cv=10,\n",
    "                  n_jobs = -1)\n",
    "\n",
    "gs_DT_up = gs_DT_up.fit(train_data_X_bal_up, train_data_Y_bal_up)"
   ]
  },
  {
   "cell_type": "code",
   "execution_count": 219,
   "id": "bcfe3a41",
   "metadata": {},
   "outputs": [
    {
     "name": "stdout",
     "output_type": "stream",
     "text": [
      "0.7188244945541546\n",
      "{'decisiontreeclassifier__max_depth': None}\n"
     ]
    }
   ],
   "source": [
    "print(gs_DT_up.best_score_)\n",
    "print(gs_DT_up.best_params_)"
   ]
  },
  {
   "cell_type": "code",
   "execution_count": 220,
   "id": "d47a088e",
   "metadata": {},
   "outputs": [],
   "source": [
    "DT_up_best = gs_DT_up.best_estimator_"
   ]
  },
  {
   "cell_type": "code",
   "execution_count": 221,
   "id": "fcf4c687",
   "metadata": {},
   "outputs": [],
   "source": [
    "warnings.filterwarnings(\"ignore\")\n",
    "Y_pred_DT_up_best = DT_up_best.predict(test_data_X)"
   ]
  },
  {
   "cell_type": "code",
   "execution_count": 222,
   "id": "6a2dcc8a",
   "metadata": {},
   "outputs": [
    {
     "name": "stdout",
     "output_type": "stream",
     "text": [
      "Accuracy: 0.563\n",
      "Precision: 0.983\n",
      "Recall: 0.562\n",
      "F1: 0.715\n",
      "Auc: 0.587\n"
     ]
    }
   ],
   "source": [
    "print('Accuracy: %.3f' % DT_up_best.score(test_data_X, test_data_Y))\n",
    "print('Precision: %.3f' % precision_score(y_true=test_data_Y, y_pred=Y_pred_DT_up_best))\n",
    "print('Recall: %.3f' % recall_score(y_true=test_data_Y, y_pred=Y_pred_DT_up_best))\n",
    "print('F1: %.3f' % f1_score(y_true=test_data_Y, y_pred=Y_pred_DT_up_best))\n",
    "print('Auc: %.3f' % roc_auc_score(test_data_Y,Y_pred_DT_up_best))"
   ]
  },
  {
   "cell_type": "code",
   "execution_count": 223,
   "id": "cbb53fb1",
   "metadata": {},
   "outputs": [
    {
     "data": {
      "image/png": "[encoded data removed]",
      "text/plain": [
       "<Figure size 180x180 with 1 Axes>"
      ]
     },
     "metadata": {
      "needs_background": "light"
     },
     "output_type": "display_data"
    }
   ],
   "source": [
    "confmat = confusion_matrix(y_true=test_data_Y, y_pred=Y_pred_DT_up_best)\n",
    "fig, ax = plt.subplots(figsize=(2.5, 2.5))\n",
    "ax.matshow(confmat, cmap=plt.cm.Blues, alpha=0.3)\n",
    "for i in range(confmat.shape[0]):\n",
    "    for j in range(confmat.shape[1]):\n",
    "        ax.text(x=j, y=i, s=confmat[i, j], va='center', ha='center')\n",
    "\n",
    "plt.xlabel('Predicted label')\n",
    "plt.ylabel('True label')\n",
    "\n",
    "plt.tight_layout()\n",
    "plt.show()"
   ]
  },
  {
   "cell_type": "code",
   "execution_count": 109,
   "id": "c456eab4",
   "metadata": {},
   "outputs": [
    {
     "data": {
      "text/html": [
       "<div>\n",
       "<style scoped>\n",
       "    .dataframe tbody tr th:only-of-type {\n",
       "        vertical-align: middle;\n",
       "    }\n",
       "\n",
       "    .dataframe tbody tr th {\n",
       "        vertical-align: top;\n",
       "    }\n",
       "\n",
       "    .dataframe thead th {\n",
       "        text-align: right;\n",
       "    }\n",
       "</style>\n",
       "<table border=\"1\" class=\"dataframe\">\n",
       "  <thead>\n",
       "    <tr style=\"text-align: right;\">\n",
       "      <th></th>\n",
       "      <th>Logistic Regression</th>\n",
       "      <th>PCA + Logistic Regression</th>\n",
       "      <th>Decision Tree</th>\n",
       "    </tr>\n",
       "  </thead>\n",
       "  <tbody>\n",
       "    <tr>\n",
       "      <th>Accuracy</th>\n",
       "      <td>0.930</td>\n",
       "      <td>0.885</td>\n",
       "      <td>0.563</td>\n",
       "    </tr>\n",
       "    <tr>\n",
       "      <th>Precision</th>\n",
       "      <td>0.979</td>\n",
       "      <td>0.980</td>\n",
       "      <td>0.983</td>\n",
       "    </tr>\n",
       "    <tr>\n",
       "      <th>Recall</th>\n",
       "      <td>0.948</td>\n",
       "      <td>0.900</td>\n",
       "      <td>0.562</td>\n",
       "    </tr>\n",
       "    <tr>\n",
       "      <th>F1</th>\n",
       "      <td>0.964</td>\n",
       "      <td>0.938</td>\n",
       "      <td>0.715</td>\n",
       "    </tr>\n",
       "    <tr>\n",
       "      <th>Auc</th>\n",
       "      <td>0.586</td>\n",
       "      <td>0.589</td>\n",
       "      <td>0.587</td>\n",
       "    </tr>\n",
       "  </tbody>\n",
       "</table>\n",
       "</div>"
      ],
      "text/plain": [
       "           Logistic Regression  PCA + Logistic Regression  Decision Tree\n",
       "Accuracy                 0.930                      0.885          0.563\n",
       "Precision                0.979                      0.980          0.983\n",
       "Recall                   0.948                      0.900          0.562\n",
       "F1                       0.964                      0.938          0.715\n",
       "Auc                      0.586                      0.589          0.587"
      ]
     },
     "execution_count": 109,
     "metadata": {},
     "output_type": "execute_result"
    }
   ],
   "source": [
    "outcome_oversample['Decision Tree']=[0.563,0.983,0.562,0.715,0.587]\n",
    "outcome_oversample"
   ]
  },
  {
   "cell_type": "markdown",
   "id": "70e38d88",
   "metadata": {},
   "source": [
    "(4) PCA + Decision Tree\n",
    "--"
   ]
  },
  {
   "cell_type": "code",
   "execution_count": 224,
   "id": "3cab35a2",
   "metadata": {},
   "outputs": [
    {
     "name": "stdout",
     "output_type": "stream",
     "text": [
      "0.7174708833062808\n",
      "{'decisiontreeclassifier__max_depth': None, 'pca__n_components': 4}\n"
     ]
    }
   ],
   "source": [
    "pipe_tree = make_pipeline(StandardScaler(),\n",
    "                 PCA(),\n",
    "                 DecisionTreeClassifier(random_state=0,criterion='gini'))\n",
    "                 \n",
    "n_components=[2,3,4,5,6]\n",
    "\n",
    "param_grid=[{'decisiontreeclassifier__max_depth': [1, 2, 3, 4, 5, 6, 7, None],\n",
    "             'pca__n_components':n_components}]\n",
    "\n",
    "gs_PCA_DT_up = GridSearchCV(estimator=pipe_tree,\n",
    "                  param_grid=param_grid,\n",
    "                  scoring='f1',\n",
    "                  cv=10,\n",
    "                  n_jobs = -1)\n",
    "\n",
    "gs_PCA_DT_up = gs_PCA_DT_up.fit(train_data_X_bal_up, train_data_Y_bal_up)\n",
    "\n",
    "print(gs_PCA_DT_up.best_score_)\n",
    "print(gs_PCA_DT_up.best_params_)"
   ]
  },
  {
   "cell_type": "code",
   "execution_count": 225,
   "id": "83dc8834",
   "metadata": {},
   "outputs": [],
   "source": [
    "PCA_DT_up_best = gs_PCA_DT_up.best_estimator_"
   ]
  },
  {
   "cell_type": "code",
   "execution_count": 226,
   "id": "9e855649",
   "metadata": {},
   "outputs": [],
   "source": [
    "warnings.filterwarnings(\"ignore\")\n",
    "Y_pred_PCA_DT_up_best = PCA_DT_up_best.predict(test_data_X)"
   ]
  },
  {
   "cell_type": "code",
   "execution_count": 227,
   "id": "f420e12f",
   "metadata": {},
   "outputs": [
    {
     "name": "stdout",
     "output_type": "stream",
     "text": [
      "Accuracy: 0.562\n",
      "Precision: 0.982\n",
      "Recall: 0.561\n",
      "F1: 0.714\n",
      "Auc: 0.583\n"
     ]
    }
   ],
   "source": [
    "print('Accuracy: %.3f' % PCA_DT_up_best.score(test_data_X, test_data_Y))\n",
    "print('Precision: %.3f' % precision_score(y_true=test_data_Y, y_pred=Y_pred_PCA_DT_up_best))\n",
    "print('Recall: %.3f' % recall_score(y_true=test_data_Y, y_pred=Y_pred_PCA_DT_up_best))\n",
    "print('F1: %.3f' % f1_score(y_true=test_data_Y, y_pred=Y_pred_PCA_DT_up_best))\n",
    "print('Auc: %.3f' % roc_auc_score(test_data_Y,Y_pred_PCA_DT_up_best))"
   ]
  },
  {
   "cell_type": "code",
   "execution_count": 228,
   "id": "35aa58ee",
   "metadata": {},
   "outputs": [
    {
     "data": {
      "image/png": "[encoded data removed]",
      "text/plain": [
       "<Figure size 180x180 with 1 Axes>"
      ]
     },
     "metadata": {
      "needs_background": "light"
     },
     "output_type": "display_data"
    }
   ],
   "source": [
    "confmat = confusion_matrix(y_true=test_data_Y, y_pred=Y_pred_PCA_DT_up_best)\n",
    "fig, ax = plt.subplots(figsize=(2.5, 2.5))\n",
    "ax.matshow(confmat, cmap=plt.cm.Blues, alpha=0.3)\n",
    "for i in range(confmat.shape[0]):\n",
    "    for j in range(confmat.shape[1]):\n",
    "        ax.text(x=j, y=i, s=confmat[i, j], va='center', ha='center')\n",
    "\n",
    "plt.xlabel('Predicted label')\n",
    "plt.ylabel('True label')\n",
    "\n",
    "plt.tight_layout()\n",
    "plt.show()"
   ]
  },
  {
   "cell_type": "code",
   "execution_count": 110,
   "id": "5428212e",
   "metadata": {},
   "outputs": [
    {
     "data": {
      "text/html": [
       "<div>\n",
       "<style scoped>\n",
       "    .dataframe tbody tr th:only-of-type {\n",
       "        vertical-align: middle;\n",
       "    }\n",
       "\n",
       "    .dataframe tbody tr th {\n",
       "        vertical-align: top;\n",
       "    }\n",
       "\n",
       "    .dataframe thead th {\n",
       "        text-align: right;\n",
       "    }\n",
       "</style>\n",
       "<table border=\"1\" class=\"dataframe\">\n",
       "  <thead>\n",
       "    <tr style=\"text-align: right;\">\n",
       "      <th></th>\n",
       "      <th>Logistic Regression</th>\n",
       "      <th>PCA + Logistic Regression</th>\n",
       "      <th>Decision Tree</th>\n",
       "      <th>PCA+Decision Tree</th>\n",
       "    </tr>\n",
       "  </thead>\n",
       "  <tbody>\n",
       "    <tr>\n",
       "      <th>Accuracy</th>\n",
       "      <td>0.930</td>\n",
       "      <td>0.885</td>\n",
       "      <td>0.563</td>\n",
       "      <td>0.562</td>\n",
       "    </tr>\n",
       "    <tr>\n",
       "      <th>Precision</th>\n",
       "      <td>0.979</td>\n",
       "      <td>0.980</td>\n",
       "      <td>0.983</td>\n",
       "      <td>0.982</td>\n",
       "    </tr>\n",
       "    <tr>\n",
       "      <th>Recall</th>\n",
       "      <td>0.948</td>\n",
       "      <td>0.900</td>\n",
       "      <td>0.562</td>\n",
       "      <td>0.561</td>\n",
       "    </tr>\n",
       "    <tr>\n",
       "      <th>F1</th>\n",
       "      <td>0.964</td>\n",
       "      <td>0.938</td>\n",
       "      <td>0.715</td>\n",
       "      <td>0.714</td>\n",
       "    </tr>\n",
       "    <tr>\n",
       "      <th>Auc</th>\n",
       "      <td>0.586</td>\n",
       "      <td>0.589</td>\n",
       "      <td>0.587</td>\n",
       "      <td>0.583</td>\n",
       "    </tr>\n",
       "  </tbody>\n",
       "</table>\n",
       "</div>"
      ],
      "text/plain": [
       "           Logistic Regression  PCA + Logistic Regression  Decision Tree  \\\n",
       "Accuracy                 0.930                      0.885          0.563   \n",
       "Precision                0.979                      0.980          0.983   \n",
       "Recall                   0.948                      0.900          0.562   \n",
       "F1                       0.964                      0.938          0.715   \n",
       "Auc                      0.586                      0.589          0.587   \n",
       "\n",
       "           PCA+Decision Tree  \n",
       "Accuracy               0.562  \n",
       "Precision              0.982  \n",
       "Recall                 0.561  \n",
       "F1                     0.714  \n",
       "Auc                    0.583  "
      ]
     },
     "execution_count": 110,
     "metadata": {},
     "output_type": "execute_result"
    }
   ],
   "source": [
    "outcome_oversample['PCA+Decision Tree']=[0.562,0.982,0.561,0.714,0.583]\n",
    "outcome_oversample"
   ]
  },
  {
   "cell_type": "markdown",
   "id": "9007518b",
   "metadata": {},
   "source": [
    "(5) Random Forest\n",
    "---"
   ]
  },
  {
   "cell_type": "code",
   "execution_count": 229,
   "id": "14dbdba7",
   "metadata": {},
   "outputs": [],
   "source": [
    "from sklearn.ensemble import RandomForestClassifier\n",
    "\n",
    "pipe_forest_o = make_pipeline(StandardScaler(),\n",
    "                 RandomForestClassifier(random_state=1,criterion='gini'))\n",
    "\n",
    "param_grid=[{'randomforestclassifier__n_estimators': list(range(20,30))}]\n",
    "\n",
    "gs_RF_up = GridSearchCV(estimator=pipe_forest_o,\n",
    "                  param_grid=param_grid,\n",
    "                  scoring='f1',\n",
    "                  cv=5,\n",
    "                  n_jobs=-1)\n",
    "\n",
    "gs_RF_up = gs_RF_up.fit(train_data_X_bal_up, train_data_Y_bal_up)"
   ]
  },
  {
   "cell_type": "code",
   "execution_count": 230,
   "id": "05b1899f",
   "metadata": {},
   "outputs": [
    {
     "name": "stdout",
     "output_type": "stream",
     "text": [
      "0.7211657971997193\n",
      "{'randomforestclassifier__n_estimators': 27}\n"
     ]
    }
   ],
   "source": [
    "print(gs_RF_up.best_score_)\n",
    "print(gs_RF_up.best_params_)"
   ]
  },
  {
   "cell_type": "code",
   "execution_count": 231,
   "id": "2e77fa2f",
   "metadata": {},
   "outputs": [],
   "source": [
    "RF_up_best = gs_RF_up.best_estimator_"
   ]
  },
  {
   "cell_type": "code",
   "execution_count": 232,
   "id": "bc7a63bb",
   "metadata": {},
   "outputs": [],
   "source": [
    "warnings.filterwarnings(\"ignore\")\n",
    "Y_pred_RF_up_best = RF_up_best.predict(test_data_X)"
   ]
  },
  {
   "cell_type": "code",
   "execution_count": 233,
   "id": "242bbc84",
   "metadata": {},
   "outputs": [
    {
     "name": "stdout",
     "output_type": "stream",
     "text": [
      "Accuracy: 0.567\n",
      "Precision: 0.982\n",
      "Recall: 0.566\n",
      "F1: 0.718\n",
      "Auc: 0.586\n"
     ]
    }
   ],
   "source": [
    "print('Accuracy: %.3f' % RF_up_best.score(test_data_X, test_data_Y))\n",
    "print('Precision: %.3f' % precision_score(y_true=test_data_Y, y_pred=Y_pred_RF_up_best))\n",
    "print('Recall: %.3f' % recall_score(y_true=test_data_Y, y_pred=Y_pred_RF_up_best))\n",
    "print('F1: %.3f' % f1_score(y_true=test_data_Y, y_pred=Y_pred_RF_up_best))\n",
    "print('Auc: %.3f' % roc_auc_score(test_data_Y,Y_pred_RF_up_best))"
   ]
  },
  {
   "cell_type": "code",
   "execution_count": 234,
   "id": "6e320542",
   "metadata": {},
   "outputs": [
    {
     "data": {
      "image/png": "[encoded data removed]",
      "text/plain": [
       "<Figure size 180x180 with 1 Axes>"
      ]
     },
     "metadata": {
      "needs_background": "light"
     },
     "output_type": "display_data"
    }
   ],
   "source": [
    "confmat = confusion_matrix(y_true=test_data_Y, y_pred=Y_pred_PCA_RF_up_best)\n",
    "fig, ax = plt.subplots(figsize=(2.5, 2.5))\n",
    "ax.matshow(confmat, cmap=plt.cm.Blues, alpha=0.3)\n",
    "for i in range(confmat.shape[0]):\n",
    "    for j in range(confmat.shape[1]):\n",
    "        ax.text(x=j, y=i, s=confmat[i, j], va='center', ha='center')\n",
    "\n",
    "plt.xlabel('Predicted label')\n",
    "plt.ylabel('True label')\n",
    "\n",
    "plt.tight_layout()\n",
    "plt.show()"
   ]
  },
  {
   "cell_type": "code",
   "execution_count": 111,
   "id": "7b07afee",
   "metadata": {},
   "outputs": [
    {
     "data": {
      "text/html": [
       "<div>\n",
       "<style scoped>\n",
       "    .dataframe tbody tr th:only-of-type {\n",
       "        vertical-align: middle;\n",
       "    }\n",
       "\n",
       "    .dataframe tbody tr th {\n",
       "        vertical-align: top;\n",
       "    }\n",
       "\n",
       "    .dataframe thead th {\n",
       "        text-align: right;\n",
       "    }\n",
       "</style>\n",
       "<table border=\"1\" class=\"dataframe\">\n",
       "  <thead>\n",
       "    <tr style=\"text-align: right;\">\n",
       "      <th></th>\n",
       "      <th>Logistic Regression</th>\n",
       "      <th>PCA + Logistic Regression</th>\n",
       "      <th>Decision Tree</th>\n",
       "      <th>PCA+Decision Tree</th>\n",
       "      <th>Random Forest</th>\n",
       "    </tr>\n",
       "  </thead>\n",
       "  <tbody>\n",
       "    <tr>\n",
       "      <th>Accuracy</th>\n",
       "      <td>0.930</td>\n",
       "      <td>0.885</td>\n",
       "      <td>0.563</td>\n",
       "      <td>0.562</td>\n",
       "      <td>0.567</td>\n",
       "    </tr>\n",
       "    <tr>\n",
       "      <th>Precision</th>\n",
       "      <td>0.979</td>\n",
       "      <td>0.980</td>\n",
       "      <td>0.983</td>\n",
       "      <td>0.982</td>\n",
       "      <td>0.982</td>\n",
       "    </tr>\n",
       "    <tr>\n",
       "      <th>Recall</th>\n",
       "      <td>0.948</td>\n",
       "      <td>0.900</td>\n",
       "      <td>0.562</td>\n",
       "      <td>0.561</td>\n",
       "      <td>0.566</td>\n",
       "    </tr>\n",
       "    <tr>\n",
       "      <th>F1</th>\n",
       "      <td>0.964</td>\n",
       "      <td>0.938</td>\n",
       "      <td>0.715</td>\n",
       "      <td>0.714</td>\n",
       "      <td>0.718</td>\n",
       "    </tr>\n",
       "    <tr>\n",
       "      <th>Auc</th>\n",
       "      <td>0.586</td>\n",
       "      <td>0.589</td>\n",
       "      <td>0.587</td>\n",
       "      <td>0.583</td>\n",
       "      <td>0.586</td>\n",
       "    </tr>\n",
       "  </tbody>\n",
       "</table>\n",
       "</div>"
      ],
      "text/plain": [
       "           Logistic Regression  PCA + Logistic Regression  Decision Tree  \\\n",
       "Accuracy                 0.930                      0.885          0.563   \n",
       "Precision                0.979                      0.980          0.983   \n",
       "Recall                   0.948                      0.900          0.562   \n",
       "F1                       0.964                      0.938          0.715   \n",
       "Auc                      0.586                      0.589          0.587   \n",
       "\n",
       "           PCA+Decision Tree  Random Forest  \n",
       "Accuracy               0.562          0.567  \n",
       "Precision              0.982          0.982  \n",
       "Recall                 0.561          0.566  \n",
       "F1                     0.714          0.718  \n",
       "Auc                    0.583          0.586  "
      ]
     },
     "execution_count": 111,
     "metadata": {},
     "output_type": "execute_result"
    }
   ],
   "source": [
    "outcome_oversample['Random Forest']=[0.567,0.982,0.566,0.718,0.586]\n",
    "outcome_oversample"
   ]
  },
  {
   "cell_type": "markdown",
   "id": "f76c00b5",
   "metadata": {},
   "source": [
    "(6) PCA + Random Forest\n",
    "--"
   ]
  },
  {
   "cell_type": "code",
   "execution_count": 235,
   "id": "32be4963",
   "metadata": {},
   "outputs": [],
   "source": [
    "pipe_forest = make_pipeline(StandardScaler(),\n",
    "                 PCA(),\n",
    "                 RandomForestClassifier(random_state=1,criterion='gini'))\n",
    "                 \n",
    "n_components=[2,3,4,5,6]\n",
    "\n",
    "param_grid=[{'randomforestclassifier__n_estimators': list(range(20,30)),\n",
    "             'pca__n_components':n_components}]\n",
    "\n",
    "gs_PCA_RF_up = GridSearchCV(estimator=pipe_forest,\n",
    "                  param_grid=param_grid,\n",
    "                  scoring='f1',\n",
    "                  cv=5,\n",
    "                  n_jobs=-1)\n",
    "\n",
    "gs_PCA_RF_up = gs_PCA_RF_up.fit(train_data_X_bal_up, train_data_Y_bal_up)"
   ]
  },
  {
   "cell_type": "code",
   "execution_count": 236,
   "id": "75048c0c",
   "metadata": {},
   "outputs": [
    {
     "name": "stdout",
     "output_type": "stream",
     "text": [
      "0.7200809686168396\n",
      "{'pca__n_components': 3, 'randomforestclassifier__n_estimators': 27}\n"
     ]
    }
   ],
   "source": [
    "print(gs_PCA_RF_up.best_score_)\n",
    "print(gs_PCA_RF_up.best_params_)"
   ]
  },
  {
   "cell_type": "code",
   "execution_count": 237,
   "id": "ffa58c73",
   "metadata": {},
   "outputs": [],
   "source": [
    "PCA_RF_up_best = gs_PCA_RF_up.best_estimator_"
   ]
  },
  {
   "cell_type": "code",
   "execution_count": 238,
   "id": "e7e8ed3a",
   "metadata": {},
   "outputs": [],
   "source": [
    "warnings.filterwarnings(\"ignore\")\n",
    "Y_pred_PCA_RF_up_best = PCA_RF_up_best.predict(test_data_X)"
   ]
  },
  {
   "cell_type": "code",
   "execution_count": 239,
   "id": "85c4209d",
   "metadata": {},
   "outputs": [
    {
     "name": "stdout",
     "output_type": "stream",
     "text": [
      "Accuracy: 0.565\n",
      "Precision: 0.982\n",
      "Recall: 0.564\n",
      "F1: 0.717\n",
      "Auc: 0.585\n"
     ]
    }
   ],
   "source": [
    "print('Accuracy: %.3f' % PCA_RF_up_best.score(test_data_X, test_data_Y))\n",
    "print('Precision: %.3f' % precision_score(y_true=test_data_Y, y_pred=Y_pred_PCA_RF_up_best))\n",
    "print('Recall: %.3f' % recall_score(y_true=test_data_Y, y_pred=Y_pred_PCA_RF_up_best))\n",
    "print('F1: %.3f' % f1_score(y_true=test_data_Y, y_pred=Y_pred_PCA_RF_up_best))\n",
    "print('Auc: %.3f' % roc_auc_score(test_data_Y,Y_pred_PCA_RF_up_best))"
   ]
  },
  {
   "cell_type": "code",
   "execution_count": 240,
   "id": "4470c24c",
   "metadata": {},
   "outputs": [
    {
     "data": {
      "image/png": "[encoded data removed]",
      "text/plain": [
       "<Figure size 180x180 with 1 Axes>"
      ]
     },
     "metadata": {
      "needs_background": "light"
     },
     "output_type": "display_data"
    }
   ],
   "source": [
    "confmat = confusion_matrix(y_true=test_data_Y, y_pred=Y_pred_PCA_RF_up_best)\n",
    "fig, ax = plt.subplots(figsize=(2.5, 2.5))\n",
    "ax.matshow(confmat, cmap=plt.cm.Blues, alpha=0.3)\n",
    "for i in range(confmat.shape[0]):\n",
    "    for j in range(confmat.shape[1]):\n",
    "        ax.text(x=j, y=i, s=confmat[i, j], va='center', ha='center')\n",
    "\n",
    "plt.xlabel('Predicted label')\n",
    "plt.ylabel('True label')\n",
    "\n",
    "plt.tight_layout()\n",
    "plt.show()"
   ]
  },
  {
   "cell_type": "code",
   "execution_count": 112,
   "id": "58e36a86",
   "metadata": {},
   "outputs": [
    {
     "data": {
      "text/html": [
       "<div>\n",
       "<style scoped>\n",
       "    .dataframe tbody tr th:only-of-type {\n",
       "        vertical-align: middle;\n",
       "    }\n",
       "\n",
       "    .dataframe tbody tr th {\n",
       "        vertical-align: top;\n",
       "    }\n",
       "\n",
       "    .dataframe thead th {\n",
       "        text-align: right;\n",
       "    }\n",
       "</style>\n",
       "<table border=\"1\" class=\"dataframe\">\n",
       "  <thead>\n",
       "    <tr style=\"text-align: right;\">\n",
       "      <th></th>\n",
       "      <th>Logistic Regression</th>\n",
       "      <th>PCA + Logistic Regression</th>\n",
       "      <th>Decision Tree</th>\n",
       "      <th>PCA+Decision Tree</th>\n",
       "      <th>Random Forest</th>\n",
       "      <th>PCA+Random Forest</th>\n",
       "    </tr>\n",
       "  </thead>\n",
       "  <tbody>\n",
       "    <tr>\n",
       "      <th>Accuracy</th>\n",
       "      <td>0.930</td>\n",
       "      <td>0.885</td>\n",
       "      <td>0.563</td>\n",
       "      <td>0.562</td>\n",
       "      <td>0.567</td>\n",
       "      <td>0.565</td>\n",
       "    </tr>\n",
       "    <tr>\n",
       "      <th>Precision</th>\n",
       "      <td>0.979</td>\n",
       "      <td>0.980</td>\n",
       "      <td>0.983</td>\n",
       "      <td>0.982</td>\n",
       "      <td>0.982</td>\n",
       "      <td>0.982</td>\n",
       "    </tr>\n",
       "    <tr>\n",
       "      <th>Recall</th>\n",
       "      <td>0.948</td>\n",
       "      <td>0.900</td>\n",
       "      <td>0.562</td>\n",
       "      <td>0.561</td>\n",
       "      <td>0.566</td>\n",
       "      <td>0.564</td>\n",
       "    </tr>\n",
       "    <tr>\n",
       "      <th>F1</th>\n",
       "      <td>0.964</td>\n",
       "      <td>0.938</td>\n",
       "      <td>0.715</td>\n",
       "      <td>0.714</td>\n",
       "      <td>0.718</td>\n",
       "      <td>0.717</td>\n",
       "    </tr>\n",
       "    <tr>\n",
       "      <th>Auc</th>\n",
       "      <td>0.586</td>\n",
       "      <td>0.589</td>\n",
       "      <td>0.587</td>\n",
       "      <td>0.583</td>\n",
       "      <td>0.586</td>\n",
       "      <td>0.585</td>\n",
       "    </tr>\n",
       "  </tbody>\n",
       "</table>\n",
       "</div>"
      ],
      "text/plain": [
       "           Logistic Regression  PCA + Logistic Regression  Decision Tree  \\\n",
       "Accuracy                 0.930                      0.885          0.563   \n",
       "Precision                0.979                      0.980          0.983   \n",
       "Recall                   0.948                      0.900          0.562   \n",
       "F1                       0.964                      0.938          0.715   \n",
       "Auc                      0.586                      0.589          0.587   \n",
       "\n",
       "           PCA+Decision Tree  Random Forest  PCA+Random Forest  \n",
       "Accuracy               0.562          0.567              0.565  \n",
       "Precision              0.982          0.982              0.982  \n",
       "Recall                 0.561          0.566              0.564  \n",
       "F1                     0.714          0.718              0.717  \n",
       "Auc                    0.583          0.586              0.585  "
      ]
     },
     "execution_count": 112,
     "metadata": {},
     "output_type": "execute_result"
    }
   ],
   "source": [
    "outcome_oversample['PCA+Random Forest']=[0.565,0.982,0.564,0.717,0.585]\n",
    "outcome_oversample"
   ]
  },
  {
   "cell_type": "markdown",
   "id": "f4036070",
   "metadata": {},
   "source": [
    "(7) NN\n",
    "--"
   ]
  },
  {
   "cell_type": "code",
   "execution_count": 29,
   "id": "f33a30cc",
   "metadata": {
    "scrolled": true
   },
   "outputs": [],
   "source": [
    "from sklearn import neural_network\n",
    "\n",
    "pipe_nn = make_pipeline(StandardScaler(),\n",
    "                        neural_network.MLPClassifier(learning_rate='adaptive', warm_start=True))\n",
    "\n",
    "#param_range = [0.0001, 0.001, 0.01, 0.1, 1.0, 10.0, 100.0, 1000.0]\n",
    "\n",
    "param_grid = [{'mlpclassifier__activation':['identity', 'logistic', 'tanh', 'relu']}]\n",
    "\n",
    "gs_nn_up = GridSearchCV(estimator=pipe_nn, \n",
    "                  param_grid=param_grid, \n",
    "                  scoring='f1', \n",
    "                  refit=True,\n",
    "                  cv=10,\n",
    "                  n_jobs =-1)\n",
    "\n",
    "gs_nn_up = gs_nn_up.fit(train_data_X_bal_up, train_data_Y_bal_up)"
   ]
  },
  {
   "cell_type": "code",
   "execution_count": 30,
   "id": "d358efc7",
   "metadata": {},
   "outputs": [
    {
     "name": "stdout",
     "output_type": "stream",
     "text": [
      "0.6700472801645578\n",
      "{'mlpclassifier__activation': 'identity'}\n"
     ]
    }
   ],
   "source": [
    "print(gs_nn_up.best_score_)\n",
    "print(gs_nn_up.best_params_)"
   ]
  },
  {
   "cell_type": "code",
   "execution_count": 31,
   "id": "c65a984b",
   "metadata": {},
   "outputs": [],
   "source": [
    "nn_up_best = gs_nn_up.best_estimator_"
   ]
  },
  {
   "cell_type": "code",
   "execution_count": 33,
   "id": "2e732746",
   "metadata": {},
   "outputs": [],
   "source": [
    "#warnings.filterwarnings(\"ignore\")\n",
    "Y_pred_nn_up_best = nn_up_best.predict(test_data_X)"
   ]
  },
  {
   "cell_type": "code",
   "execution_count": 34,
   "id": "9772a603",
   "metadata": {},
   "outputs": [
    {
     "name": "stdout",
     "output_type": "stream",
     "text": [
      "Accuracy: 0.849\n",
      "Precision: 0.979\n",
      "Recall: 0.863\n",
      "F1: 0.917\n",
      "Auc: 0.578\n"
     ]
    }
   ],
   "source": [
    "from sklearn.metrics import precision_score, recall_score, f1_score, roc_auc_score\n",
    "print('Accuracy: %.3f' % nn_up_best.score(test_data_X, test_data_Y))\n",
    "print('Precision: %.3f' % precision_score(y_true=test_data_Y, y_pred=Y_pred_nn_up_best))\n",
    "print('Recall: %.3f' % recall_score(y_true=test_data_Y, y_pred=Y_pred_nn_up_best))\n",
    "print('F1: %.3f' % f1_score(y_true=test_data_Y, y_pred=Y_pred_nn_up_best))\n",
    "print('Auc: %.3f' % roc_auc_score(test_data_Y,Y_pred_nn_up_best))"
   ]
  },
  {
   "cell_type": "code",
   "execution_count": 35,
   "id": "736e4410",
   "metadata": {},
   "outputs": [
    {
     "data": {
      "image/png": "[encoded data removed]",
      "text/plain": [
       "<Figure size 180x180 with 1 Axes>"
      ]
     },
     "metadata": {
      "needs_background": "light"
     },
     "output_type": "display_data"
    }
   ],
   "source": [
    "from sklearn.metrics import confusion_matrix\n",
    "\n",
    "confmat = confusion_matrix(y_true=test_data_Y, y_pred=Y_pred_nn_up_best)\n",
    "fig, ax = plt.subplots(figsize=(2.5, 2.5))\n",
    "ax.matshow(confmat, cmap=plt.cm.Blues, alpha=0.3)\n",
    "for i in range(confmat.shape[0]):\n",
    "    for j in range(confmat.shape[1]):\n",
    "        ax.text(x=j, y=i, s=confmat[i, j], va='center', ha='center')\n",
    "\n",
    "plt.xlabel('Predicted label')\n",
    "plt.ylabel('True label')\n",
    "\n",
    "plt.tight_layout()\n",
    "plt.show()"
   ]
  },
  {
   "cell_type": "code",
   "execution_count": 113,
   "id": "1759ac4c",
   "metadata": {},
   "outputs": [
    {
     "data": {
      "text/html": [
       "<div>\n",
       "<style scoped>\n",
       "    .dataframe tbody tr th:only-of-type {\n",
       "        vertical-align: middle;\n",
       "    }\n",
       "\n",
       "    .dataframe tbody tr th {\n",
       "        vertical-align: top;\n",
       "    }\n",
       "\n",
       "    .dataframe thead th {\n",
       "        text-align: right;\n",
       "    }\n",
       "</style>\n",
       "<table border=\"1\" class=\"dataframe\">\n",
       "  <thead>\n",
       "    <tr style=\"text-align: right;\">\n",
       "      <th></th>\n",
       "      <th>Logistic Regression</th>\n",
       "      <th>PCA + Logistic Regression</th>\n",
       "      <th>Decision Tree</th>\n",
       "      <th>PCA+Decision Tree</th>\n",
       "      <th>Random Forest</th>\n",
       "      <th>PCA+Random Forest</th>\n",
       "      <th>NN</th>\n",
       "    </tr>\n",
       "  </thead>\n",
       "  <tbody>\n",
       "    <tr>\n",
       "      <th>Accuracy</th>\n",
       "      <td>0.930</td>\n",
       "      <td>0.885</td>\n",
       "      <td>0.563</td>\n",
       "      <td>0.562</td>\n",
       "      <td>0.567</td>\n",
       "      <td>0.565</td>\n",
       "      <td>0.849</td>\n",
       "    </tr>\n",
       "    <tr>\n",
       "      <th>Precision</th>\n",
       "      <td>0.979</td>\n",
       "      <td>0.980</td>\n",
       "      <td>0.983</td>\n",
       "      <td>0.982</td>\n",
       "      <td>0.982</td>\n",
       "      <td>0.982</td>\n",
       "      <td>0.979</td>\n",
       "    </tr>\n",
       "    <tr>\n",
       "      <th>Recall</th>\n",
       "      <td>0.948</td>\n",
       "      <td>0.900</td>\n",
       "      <td>0.562</td>\n",
       "      <td>0.561</td>\n",
       "      <td>0.566</td>\n",
       "      <td>0.564</td>\n",
       "      <td>0.863</td>\n",
       "    </tr>\n",
       "    <tr>\n",
       "      <th>F1</th>\n",
       "      <td>0.964</td>\n",
       "      <td>0.938</td>\n",
       "      <td>0.715</td>\n",
       "      <td>0.714</td>\n",
       "      <td>0.718</td>\n",
       "      <td>0.717</td>\n",
       "      <td>0.917</td>\n",
       "    </tr>\n",
       "    <tr>\n",
       "      <th>Auc</th>\n",
       "      <td>0.586</td>\n",
       "      <td>0.589</td>\n",
       "      <td>0.587</td>\n",
       "      <td>0.583</td>\n",
       "      <td>0.586</td>\n",
       "      <td>0.585</td>\n",
       "      <td>0.578</td>\n",
       "    </tr>\n",
       "  </tbody>\n",
       "</table>\n",
       "</div>"
      ],
      "text/plain": [
       "           Logistic Regression  PCA + Logistic Regression  Decision Tree  \\\n",
       "Accuracy                 0.930                      0.885          0.563   \n",
       "Precision                0.979                      0.980          0.983   \n",
       "Recall                   0.948                      0.900          0.562   \n",
       "F1                       0.964                      0.938          0.715   \n",
       "Auc                      0.586                      0.589          0.587   \n",
       "\n",
       "           PCA+Decision Tree  Random Forest  PCA+Random Forest     NN  \n",
       "Accuracy               0.562          0.567              0.565  0.849  \n",
       "Precision              0.982          0.982              0.982  0.979  \n",
       "Recall                 0.561          0.566              0.564  0.863  \n",
       "F1                     0.714          0.718              0.717  0.917  \n",
       "Auc                    0.583          0.586              0.585  0.578  "
      ]
     },
     "execution_count": 113,
     "metadata": {},
     "output_type": "execute_result"
    }
   ],
   "source": [
    "outcome_oversample['NN']=[0.849,0.979,0.863,0.917,0.578]\n",
    "outcome_oversample"
   ]
  },
  {
   "cell_type": "markdown",
   "id": "1f29f664",
   "metadata": {},
   "source": [
    "# (8) Score card model\n"
   ]
  },
  {
   "cell_type": "code",
   "execution_count": 16,
   "id": "8bc91298",
   "metadata": {},
   "outputs": [],
   "source": [
    "null_count = train_data.isnull().sum(axis=1)\n",
    "data= train_data[null_count <= 6]\n",
    "from sklearn.model_selection import train_test_split\n",
    "X, y = data.iloc[:, [1,2,3,4,7,8]].values, data.iloc[:, 0].values\n",
    "data = data.fillna(-1)"
   ]
  },
  {
   "cell_type": "code",
   "execution_count": 17,
   "id": "8bb319a3",
   "metadata": {},
   "outputs": [],
   "source": [
    "#binning\n",
    "import warnings\n",
    "warnings.filterwarnings('ignore')\n",
    "bins_var1 = [-np.inf, -1, 20, 40, 60, np.inf]\n",
    "data['var1_group'] = pd.cut(data['var1'], bins=bins_var1, labels=False)\n",
    "bins_var2 = [-np.inf,-1, 6134, 189900, 1010800, 3683678, np.inf]\n",
    "data['var2_group'] = pd.cut(data['var2'], bins=bins_var2, labels=False)\n",
    "bin_var3=[-np.inf, -1, 1.04, 3.46, np.inf]\n",
    "data['var3_group'] = pd.cut(data['var3'], bins=bin_var3, labels=False, duplicates='drop')\n",
    "data['var4_group'] = pd.factorize(data['var4'])[0]\n",
    "data['var7_group'] = pd.factorize(data['var7'])[0]\n",
    "bin_var8=[-np.inf, -1, 40,60, 80, np.inf]\n",
    "data['var8_group'] = pd.cut(data['var8'], bins=bin_var8, labels=False, duplicates='drop')"
   ]
  },
  {
   "cell_type": "code",
   "execution_count": 19,
   "id": "2fda1c63",
   "metadata": {},
   "outputs": [
    {
     "data": {
      "text/html": [
       "<div>\n",
       "<style scoped>\n",
       "    .dataframe tbody tr th:only-of-type {\n",
       "        vertical-align: middle;\n",
       "    }\n",
       "\n",
       "    .dataframe tbody tr th {\n",
       "        vertical-align: top;\n",
       "    }\n",
       "\n",
       "    .dataframe thead th {\n",
       "        text-align: right;\n",
       "    }\n",
       "</style>\n",
       "<table border=\"1\" class=\"dataframe\">\n",
       "  <thead>\n",
       "    <tr style=\"text-align: right;\">\n",
       "      <th></th>\n",
       "      <th>var1</th>\n",
       "      <th>var2</th>\n",
       "      <th>var3</th>\n",
       "      <th>var4</th>\n",
       "      <th>var7</th>\n",
       "      <th>var8</th>\n",
       "      <th>event</th>\n",
       "    </tr>\n",
       "  </thead>\n",
       "  <tbody>\n",
       "    <tr>\n",
       "      <th>3</th>\n",
       "      <td>-0.001416</td>\n",
       "      <td>-1.164968</td>\n",
       "      <td>-0.012546</td>\n",
       "      <td>-0.195742</td>\n",
       "      <td>-0.063663</td>\n",
       "      <td>-0.622652</td>\n",
       "      <td>1</td>\n",
       "    </tr>\n",
       "    <tr>\n",
       "      <th>6</th>\n",
       "      <td>-0.001416</td>\n",
       "      <td>-0.738206</td>\n",
       "      <td>-0.012546</td>\n",
       "      <td>-0.195742</td>\n",
       "      <td>-0.063663</td>\n",
       "      <td>-0.622652</td>\n",
       "      <td>1</td>\n",
       "    </tr>\n",
       "    <tr>\n",
       "      <th>8</th>\n",
       "      <td>-0.001416</td>\n",
       "      <td>-0.738206</td>\n",
       "      <td>-0.012546</td>\n",
       "      <td>-0.195742</td>\n",
       "      <td>-0.063663</td>\n",
       "      <td>-0.622652</td>\n",
       "      <td>1</td>\n",
       "    </tr>\n",
       "    <tr>\n",
       "      <th>9</th>\n",
       "      <td>-0.001416</td>\n",
       "      <td>1.100750</td>\n",
       "      <td>-0.012546</td>\n",
       "      <td>-0.778804</td>\n",
       "      <td>-0.063663</td>\n",
       "      <td>0.361676</td>\n",
       "      <td>1</td>\n",
       "    </tr>\n",
       "    <tr>\n",
       "      <th>11</th>\n",
       "      <td>-0.001416</td>\n",
       "      <td>-1.164968</td>\n",
       "      <td>-0.674988</td>\n",
       "      <td>-0.778804</td>\n",
       "      <td>-0.063663</td>\n",
       "      <td>0.025446</td>\n",
       "      <td>1</td>\n",
       "    </tr>\n",
       "    <tr>\n",
       "      <th>...</th>\n",
       "      <td>...</td>\n",
       "      <td>...</td>\n",
       "      <td>...</td>\n",
       "      <td>...</td>\n",
       "      <td>...</td>\n",
       "      <td>...</td>\n",
       "      <td>...</td>\n",
       "    </tr>\n",
       "    <tr>\n",
       "      <th>238823</th>\n",
       "      <td>-0.001416</td>\n",
       "      <td>0.163199</td>\n",
       "      <td>-0.012546</td>\n",
       "      <td>-0.195742</td>\n",
       "      <td>-0.063663</td>\n",
       "      <td>-0.622652</td>\n",
       "      <td>1</td>\n",
       "    </tr>\n",
       "    <tr>\n",
       "      <th>238825</th>\n",
       "      <td>-0.001416</td>\n",
       "      <td>1.100750</td>\n",
       "      <td>0.693204</td>\n",
       "      <td>-0.778804</td>\n",
       "      <td>-0.063663</td>\n",
       "      <td>0.361676</td>\n",
       "      <td>1</td>\n",
       "    </tr>\n",
       "    <tr>\n",
       "      <th>238828</th>\n",
       "      <td>-0.001416</td>\n",
       "      <td>0.443760</td>\n",
       "      <td>-1.439057</td>\n",
       "      <td>-0.778804</td>\n",
       "      <td>-0.063663</td>\n",
       "      <td>0.361676</td>\n",
       "      <td>1</td>\n",
       "    </tr>\n",
       "    <tr>\n",
       "      <th>238831</th>\n",
       "      <td>-0.001416</td>\n",
       "      <td>0.443760</td>\n",
       "      <td>-0.012546</td>\n",
       "      <td>-0.195742</td>\n",
       "      <td>-0.063663</td>\n",
       "      <td>0.025446</td>\n",
       "      <td>1</td>\n",
       "    </tr>\n",
       "    <tr>\n",
       "      <th>238834</th>\n",
       "      <td>-0.001416</td>\n",
       "      <td>-0.057699</td>\n",
       "      <td>-0.674988</td>\n",
       "      <td>-0.778804</td>\n",
       "      <td>-0.063663</td>\n",
       "      <td>-0.622652</td>\n",
       "      <td>1</td>\n",
       "    </tr>\n",
       "  </tbody>\n",
       "</table>\n",
       "<p>135532 rows × 7 columns</p>\n",
       "</div>"
      ],
      "text/plain": [
       "            var1      var2      var3      var4      var7      var8  event\n",
       "3      -0.001416 -1.164968 -0.012546 -0.195742 -0.063663 -0.622652      1\n",
       "6      -0.001416 -0.738206 -0.012546 -0.195742 -0.063663 -0.622652      1\n",
       "8      -0.001416 -0.738206 -0.012546 -0.195742 -0.063663 -0.622652      1\n",
       "9      -0.001416  1.100750 -0.012546 -0.778804 -0.063663  0.361676      1\n",
       "11     -0.001416 -1.164968 -0.674988 -0.778804 -0.063663  0.025446      1\n",
       "...          ...       ...       ...       ...       ...       ...    ...\n",
       "238823 -0.001416  0.163199 -0.012546 -0.195742 -0.063663 -0.622652      1\n",
       "238825 -0.001416  1.100750  0.693204 -0.778804 -0.063663  0.361676      1\n",
       "238828 -0.001416  0.443760 -1.439057 -0.778804 -0.063663  0.361676      1\n",
       "238831 -0.001416  0.443760 -0.012546 -0.195742 -0.063663  0.025446      1\n",
       "238834 -0.001416 -0.057699 -0.674988 -0.778804 -0.063663 -0.622652      1\n",
       "\n",
       "[135532 rows x 7 columns]"
      ]
     },
     "execution_count": 19,
     "metadata": {},
     "output_type": "execute_result"
    }
   ],
   "source": [
    "#WOE coding\n",
    "#var1\n",
    "cut_group_all=data['event'].groupby(data['var1_group']).count()\n",
    "cut_group_nonde=data['event'].groupby(data['var1_group']).sum()\n",
    "cut_group_de=cut_group_all-cut_group_nonde\n",
    "df_var1=pd.DataFrame()\n",
    "df_var1['all']=cut_group_all\n",
    "df_var1['good_sample']=cut_group_nonde\n",
    "df_var1['bad_sample']=cut_group_de\n",
    "df_var1['proportion_good']=df_var1['good_sample']/df_var1['good_sample'].sum()\n",
    "df_var1['proportion_bad']=df_var1['bad_sample']/df_var1['bad_sample'].sum()\n",
    "df_var1['woe']=np.log(df_var1['proportion_bad']/df_var1['proportion_good'])\n",
    "#var2\n",
    "cut_group_all=data['event'].groupby(data['var2_group']).count()\n",
    "cut_group_nonde=data['event'].groupby(data['var2_group']).sum()\n",
    "cut_group_de=cut_group_all-cut_group_nonde\n",
    "df_var2=pd.DataFrame()\n",
    "df_var2['all']=cut_group_all\n",
    "df_var2['good_sample']=cut_group_nonde\n",
    "df_var2['bad_sample']=cut_group_de\n",
    "df_var2['proportion_good']=df_var2['good_sample']/df_var2['good_sample'].sum()\n",
    "df_var2['proportion_bad']=df_var2['bad_sample']/df_var2['bad_sample'].sum()\n",
    "df_var2['woe']=np.log(df_var2['proportion_bad']/df_var2['proportion_good'])\n",
    "#var3\n",
    "cut_group_all=data['event'].groupby(data['var3_group']).count()\n",
    "cut_group_nonde=data['event'].groupby(data['var3_group']).sum()\n",
    "cut_group_de=cut_group_all-cut_group_nonde\n",
    "df_var3=pd.DataFrame()\n",
    "df_var3['all']=cut_group_all\n",
    "df_var3['good_sample']=cut_group_nonde\n",
    "df_var3['bad_sample']=cut_group_de\n",
    "df_var3['proportion_good']=df_var3['good_sample']/df_var3['good_sample'].sum()\n",
    "df_var3['proportion_bad']=df_var3['bad_sample']/df_var3['bad_sample'].sum()\n",
    "df_var3['woe']=np.log(df_var3['proportion_bad']/df_var3['proportion_good'])\n",
    "#var4\n",
    "cut_group_all=data['event'].groupby(data['var4_group']).count()\n",
    "cut_group_nonde=data['event'].groupby(data['var4_group']).sum()\n",
    "cut_group_de=cut_group_all-cut_group_nonde\n",
    "df_var4=pd.DataFrame()\n",
    "df_var4['all']=cut_group_all\n",
    "df_var4['good_sample']=cut_group_nonde\n",
    "df_var4['bad_sample']=cut_group_de\n",
    "df_var4['proportion_good']=df_var4['good_sample']/df_var4['good_sample'].sum()\n",
    "df_var4['proportion_bad']=df_var4['bad_sample']/df_var4['bad_sample'].sum()\n",
    "df_var4['woe']=np.log(df_var4['proportion_bad']/df_var4['proportion_good'])\n",
    "#var7\n",
    "cut_group_all=data['event'].groupby(data['var7_group']).count()\n",
    "cut_group_nonde=data['event'].groupby(data['var7_group']).sum()\n",
    "cut_group_de=cut_group_all-cut_group_nonde\n",
    "df_var7=pd.DataFrame()\n",
    "df_var7['all']=cut_group_all\n",
    "df_var7['good_sample']=cut_group_nonde\n",
    "df_var7['bad_sample']=cut_group_de\n",
    "df_var7['proportion_good']=df_var7['good_sample']/df_var7['good_sample'].sum()\n",
    "df_var7['proportion_bad']=df_var7['bad_sample']/df_var7['bad_sample'].sum()\n",
    "df_var7['woe']=np.log(df_var7['proportion_bad']/df_var7['proportion_good'])\n",
    "#var8\n",
    "cut_group_all=data['event'].groupby(data['var8_group']).count()\n",
    "cut_group_nonde=data['event'].groupby(data['var8_group']).sum()\n",
    "cut_group_de=cut_group_all-cut_group_nonde\n",
    "df_var8=pd.DataFrame()\n",
    "df_var8['all']=cut_group_all\n",
    "df_var8['good_sample']=cut_group_nonde\n",
    "df_var8['bad_sample']=cut_group_de\n",
    "df_var8['proportion_good']=df_var8['good_sample']/df_var8['good_sample'].sum()\n",
    "df_var8['proportion_bad']=df_var8['bad_sample']/df_var8['bad_sample'].sum()\n",
    "df_var8['woe']=np.log(df_var8['proportion_bad']/df_var8['proportion_good'])\n",
    "#WOE coding\n",
    "data1=pd.DataFrame()\n",
    "data1['var1']=data['var1_group']\n",
    "data1['var2']=data['var2_group']\n",
    "data1['var3']=data['var3_group']\n",
    "data1['var4']=data['var4_group']\n",
    "data1['var7']=data['var7_group']\n",
    "data1['var8']=data['var8_group']\n",
    "for index, row in data1.iterrows():\n",
    "    if row['var1'] == 0:\n",
    "        data1.loc[index, 'var1'] = df_var1.iloc[0, 5]\n",
    "    elif row['var1'] == 1:\n",
    "        data1.loc[index, 'var1'] = df_var1.iloc[1, 5]\n",
    "    elif row['var1'] == 2:\n",
    "        data1.loc[index, 'var1'] = df_var1.iloc[2, 5]\n",
    "    elif row['var1'] == 3:\n",
    "        data1.loc[index, 'var1'] = df_var1.iloc[3, 5]\n",
    "    elif row['var1'] == 4:\n",
    "        data1.loc[index, 'var1'] = df_var1.iloc[4, 5]\n",
    "    elif row['var1'] == 5:\n",
    "        data1.loc[index, 'var1'] = df_var1.iloc[5, 5]\n",
    "    if row['var2'] == 0:\n",
    "        data1.loc[index, 'var2'] = df_var2.iloc[0, 5]\n",
    "    elif row['var2'] == 1:\n",
    "        data1.loc[index, 'var2'] = df_var2.iloc[1, 5]\n",
    "    elif row['var2'] == 2:\n",
    "        data1.loc[index, 'var2'] = df_var2.iloc[2, 5]\n",
    "    elif row['var2'] == 3:\n",
    "        data1.loc[index, 'var2'] = df_var2.iloc[3, 5]\n",
    "    elif row['var2'] == 4:\n",
    "        data1.loc[index, 'var2'] = df_var2.iloc[4, 5]\n",
    "    elif row['var2'] == 5:\n",
    "        data1.loc[index, 'var2'] = df_var2.iloc[5, 5]\n",
    "    if row['var3'] == 0:\n",
    "        data1.loc[index, 'var3'] = df_var3.iloc[0, 5]\n",
    "    elif row['var3'] == 1:\n",
    "        data1.loc[index, 'var3'] = df_var3.iloc[1, 5]\n",
    "    elif row['var3'] == 2:\n",
    "        data1.loc[index, 'var3'] = df_var3.iloc[2, 5]\n",
    "    elif row['var3'] == 3:\n",
    "        data1.loc[index, 'var3'] = df_var3.iloc[3, 5]\n",
    "for index, row in data1.iterrows():\n",
    "    if row['var4'] == 0:\n",
    "        data1.loc[index, 'var4'] = df_var4.iloc[0, 5]\n",
    "    elif row['var4'] == 1:\n",
    "        data1.loc[index, 'var4'] = df_var4.iloc[1, 5]\n",
    "    elif row['var4'] == 2:\n",
    "        data1.loc[index, 'var4'] = df_var4.iloc[2, 5]\n",
    "    elif row['var4'] == 3:\n",
    "        data1.loc[index, 'var4'] = df_var4.iloc[3, 5]\n",
    "    elif row['var4'] == 4:\n",
    "        data1.loc[index, 'var4'] = df_var4.iloc[4, 5]\n",
    "    elif row['var4'] == 5:\n",
    "        data1.loc[index, 'var4'] = df_var4.iloc[5, 5]\n",
    "    elif row['var4'] == 6:\n",
    "        data1.loc[index, 'var4'] = df_var4.iloc[6, 5]\n",
    "    elif row['var4'] == 7:\n",
    "        data1.loc[index, 'var4'] = df_var4.iloc[7, 5]\n",
    "    elif row['var4'] == 8:\n",
    "        data1.loc[index, 'var4'] = df_var4.iloc[8, 5]\n",
    "    elif row['var4'] == 9:\n",
    "        data1.loc[index, 'var4'] = df_var4.iloc[9, 5]\n",
    "    elif row['var4'] == 10:\n",
    "        data1.loc[index, 'var4'] = df_var4.iloc[10, 5]\n",
    "    elif row['var4'] == 11:\n",
    "        data1.loc[index, 'var4'] = df_var4.iloc[11, 5]\n",
    "    elif row['var4'] == 12:\n",
    "        data1.loc[index, 'var4'] = df_var4.iloc[12, 5]\n",
    "    elif row['var4'] == 13:\n",
    "        data1.loc[index, 'var4'] = df_var4.iloc[13, 5]\n",
    "for index, row in data1.iterrows():\n",
    "    if row['var7'] == 0:\n",
    "        data1.loc[index, 'var7'] = df_var7.iloc[0, 5]\n",
    "    elif row['var7'] == 1:\n",
    "        data1.loc[index, 'var7'] = df_var7.iloc[1, 5]\n",
    "    elif row['var7'] == 2:\n",
    "        data1.loc[index, 'var7'] = df_var7.iloc[2, 5]\n",
    "    elif row['var7'] == 3:\n",
    "        data1.loc[index, 'var7'] = df_var7.iloc[3, 5]\n",
    "    elif row['var7'] == 4:\n",
    "        data1.loc[index, 'var7'] = df_var7.iloc[4, 5]\n",
    "    elif row['var7'] == 5:\n",
    "        data1.loc[index, 'var7'] = df_var7.iloc[5, 5]\n",
    "    elif row['var7'] == 6:\n",
    "        data1.loc[index, 'var7'] = df_var7.iloc[6, 5]\n",
    "    elif row['var7'] == 7:\n",
    "        data1.loc[index, 'var7'] = df_var7.iloc[7, 5]\n",
    "    elif row['var7'] == 8:\n",
    "        data1.loc[index, 'var7'] = df_var7.iloc[8, 5]\n",
    "    elif row['var7'] == 9:\n",
    "        data1.loc[index, 'var7'] = df_var7.iloc[9, 5]\n",
    "    elif row['var7'] == 10:\n",
    "        data1.loc[index, 'var7'] = df_var7.iloc[10, 5]\n",
    "    elif row['var7'] == 11:\n",
    "        data1.loc[index, 'var7'] = df_var7.iloc[11, 5]\n",
    "    elif row['var7'] == 12:\n",
    "        data1.loc[index, 'var7'] = df_var7.iloc[12, 5]\n",
    "    elif row['var7'] == 13:\n",
    "        data1.loc[index, 'var7'] = df_var7.iloc[13, 5]\n",
    "    elif row['var7'] == 14:\n",
    "        data1.loc[index, 'var7'] = df_var7.iloc[14, 5]\n",
    "    elif row['var7'] == 15:\n",
    "        data1.loc[index, 'var7'] = df_var7.iloc[15, 5]\n",
    "    elif row['var7'] == 16:\n",
    "        data1.loc[index, 'var7'] = df_var7.iloc[16, 5]\n",
    "    elif row['var7'] == 17:\n",
    "        data1.loc[index, 'var7'] = df_var7.iloc[17, 5]\n",
    "    elif row['var7'] == 18:\n",
    "        data1.loc[index, 'var7'] = df_var7.iloc[18, 5]\n",
    "    elif row['var7'] == 19:\n",
    "        data1.loc[index, 'var7'] = df_var7.iloc[19, 5]\n",
    "    elif row['var7'] == 20:\n",
    "        data1.loc[index, 'var7'] = df_var7.iloc[20, 5]\n",
    "    elif row['var7'] == 21:\n",
    "        data1.loc[index, 'var7'] = df_var7.iloc[21, 5]\n",
    "    elif row['var7'] == 22:\n",
    "        data1.loc[index, 'var7'] = df_var7.iloc[22, 5]\n",
    "    elif row['var7'] == 23:\n",
    "        data1.loc[index, 'var7'] = df_var7.iloc[23, 5]\n",
    "for index, row in data1.iterrows():\n",
    "    if row['var8'] == 0:\n",
    "        data1.loc[index, 'var8'] = df_var8.iloc[0, 5]\n",
    "    elif row['var8'] == 1:\n",
    "        data1.loc[index, 'var8'] = df_var8.iloc[1, 5]\n",
    "    elif row['var8'] == 2:\n",
    "        data1.loc[index, 'var8'] = df_var8.iloc[2, 5]\n",
    "    elif row['var8'] == 3:\n",
    "        data1.loc[index, 'var8'] = df_var8.iloc[3, 5]\n",
    "    elif row['var8'] == 4:\n",
    "        data1.loc[index, 'var8'] = df_var8.iloc[4, 5]\n",
    "data1['event']=data['event']\n",
    "data1"
   ]
  },
  {
   "cell_type": "code",
   "execution_count": 24,
   "id": "2b25300f",
   "metadata": {},
   "outputs": [
    {
     "data": {
      "text/plain": [
       "LogisticRegression(multi_class='ovr', random_state=1)"
      ]
     },
     "execution_count": 24,
     "metadata": {},
     "output_type": "execute_result"
    }
   ],
   "source": [
    "#traing model with logistic regression\n",
    "from sklearn.model_selection import train_test_split\n",
    "X_train, y_train = data2.iloc[:, [0,1,2,3,4,5]].values, data2.iloc[:,6].values\n",
    "from imblearn.over_sampling import RandomOverSampler\n",
    "from collections import Counter\n",
    "ros=RandomOverSampler(random_state=123)\n",
    "X_oversampled,y_oversampled=ros.fit_resample(X_train,y_train)\n",
    "from sklearn.linear_model import LogisticRegression\n",
    "lr = LogisticRegression(random_state=1, solver='lbfgs', multi_class='ovr')\n",
    "lr.fit(X_oversampled,y_oversampled)"
   ]
  },
  {
   "cell_type": "code",
   "execution_count": 22,
   "id": "11df9b95",
   "metadata": {},
   "outputs": [
    {
     "data": {
      "text/html": [
       "<div>\n",
       "<style scoped>\n",
       "    .dataframe tbody tr th:only-of-type {\n",
       "        vertical-align: middle;\n",
       "    }\n",
       "\n",
       "    .dataframe tbody tr th {\n",
       "        vertical-align: top;\n",
       "    }\n",
       "\n",
       "    .dataframe thead th {\n",
       "        text-align: right;\n",
       "    }\n",
       "</style>\n",
       "<table border=\"1\" class=\"dataframe\">\n",
       "  <thead>\n",
       "    <tr style=\"text-align: right;\">\n",
       "      <th></th>\n",
       "      <th>var1</th>\n",
       "      <th>var2</th>\n",
       "      <th>var3</th>\n",
       "      <th>var4</th>\n",
       "      <th>var7</th>\n",
       "      <th>var8</th>\n",
       "      <th>event</th>\n",
       "    </tr>\n",
       "  </thead>\n",
       "  <tbody>\n",
       "    <tr>\n",
       "      <th>0</th>\n",
       "      <td>-0.001416</td>\n",
       "      <td>-1.164968</td>\n",
       "      <td>0.693204</td>\n",
       "      <td>-0.195742</td>\n",
       "      <td>-0.063663</td>\n",
       "      <td>0.025446</td>\n",
       "      <td>1</td>\n",
       "    </tr>\n",
       "    <tr>\n",
       "      <th>1</th>\n",
       "      <td>-0.610789</td>\n",
       "      <td>0.163199</td>\n",
       "      <td>-0.012546</td>\n",
       "      <td>-0.778804</td>\n",
       "      <td>-0.063663</td>\n",
       "      <td>0.361676</td>\n",
       "      <td>1</td>\n",
       "    </tr>\n",
       "    <tr>\n",
       "      <th>2</th>\n",
       "      <td>-0.001416</td>\n",
       "      <td>-1.164968</td>\n",
       "      <td>-1.439057</td>\n",
       "      <td>-0.195742</td>\n",
       "      <td>-0.063663</td>\n",
       "      <td>0.025446</td>\n",
       "      <td>1</td>\n",
       "    </tr>\n",
       "    <tr>\n",
       "      <th>3</th>\n",
       "      <td>-0.001416</td>\n",
       "      <td>-0.738206</td>\n",
       "      <td>0.693204</td>\n",
       "      <td>-0.195742</td>\n",
       "      <td>-0.063663</td>\n",
       "      <td>-0.622652</td>\n",
       "      <td>1</td>\n",
       "    </tr>\n",
       "    <tr>\n",
       "      <th>4</th>\n",
       "      <td>-0.001416</td>\n",
       "      <td>-1.164968</td>\n",
       "      <td>-0.012546</td>\n",
       "      <td>0.176743</td>\n",
       "      <td>-0.063663</td>\n",
       "      <td>-0.622652</td>\n",
       "      <td>1</td>\n",
       "    </tr>\n",
       "    <tr>\n",
       "      <th>...</th>\n",
       "      <td>...</td>\n",
       "      <td>...</td>\n",
       "      <td>...</td>\n",
       "      <td>...</td>\n",
       "      <td>...</td>\n",
       "      <td>...</td>\n",
       "      <td>...</td>\n",
       "    </tr>\n",
       "    <tr>\n",
       "      <th>59704</th>\n",
       "      <td>-0.001416</td>\n",
       "      <td>-0.738206</td>\n",
       "      <td>-0.012546</td>\n",
       "      <td>0.176743</td>\n",
       "      <td>-0.063663</td>\n",
       "      <td>0.361676</td>\n",
       "      <td>1</td>\n",
       "    </tr>\n",
       "    <tr>\n",
       "      <th>59705</th>\n",
       "      <td>-0.610789</td>\n",
       "      <td>0.163199</td>\n",
       "      <td>-0.012546</td>\n",
       "      <td>0.176743</td>\n",
       "      <td>-0.063663</td>\n",
       "      <td>0.361676</td>\n",
       "      <td>1</td>\n",
       "    </tr>\n",
       "    <tr>\n",
       "      <th>59706</th>\n",
       "      <td>-0.001416</td>\n",
       "      <td>-1.164968</td>\n",
       "      <td>-0.012546</td>\n",
       "      <td>0.176743</td>\n",
       "      <td>-0.063663</td>\n",
       "      <td>0.361676</td>\n",
       "      <td>1</td>\n",
       "    </tr>\n",
       "    <tr>\n",
       "      <th>59707</th>\n",
       "      <td>-0.610789</td>\n",
       "      <td>0.163199</td>\n",
       "      <td>-0.012546</td>\n",
       "      <td>0.176743</td>\n",
       "      <td>-0.063663</td>\n",
       "      <td>0.361676</td>\n",
       "      <td>1</td>\n",
       "    </tr>\n",
       "    <tr>\n",
       "      <th>59708</th>\n",
       "      <td>-0.001416</td>\n",
       "      <td>-0.057699</td>\n",
       "      <td>-0.012546</td>\n",
       "      <td>0.176743</td>\n",
       "      <td>-0.063663</td>\n",
       "      <td>0.361676</td>\n",
       "      <td>1</td>\n",
       "    </tr>\n",
       "  </tbody>\n",
       "</table>\n",
       "<p>59709 rows × 7 columns</p>\n",
       "</div>"
      ],
      "text/plain": [
       "           var1      var2      var3      var4      var7      var8  event\n",
       "0     -0.001416 -1.164968  0.693204 -0.195742 -0.063663  0.025446      1\n",
       "1     -0.610789  0.163199 -0.012546 -0.778804 -0.063663  0.361676      1\n",
       "2     -0.001416 -1.164968 -1.439057 -0.195742 -0.063663  0.025446      1\n",
       "3     -0.001416 -0.738206  0.693204 -0.195742 -0.063663 -0.622652      1\n",
       "4     -0.001416 -1.164968 -0.012546  0.176743 -0.063663 -0.622652      1\n",
       "...         ...       ...       ...       ...       ...       ...    ...\n",
       "59704 -0.001416 -0.738206 -0.012546  0.176743 -0.063663  0.361676      1\n",
       "59705 -0.610789  0.163199 -0.012546  0.176743 -0.063663  0.361676      1\n",
       "59706 -0.001416 -1.164968 -0.012546  0.176743 -0.063663  0.361676      1\n",
       "59707 -0.610789  0.163199 -0.012546  0.176743 -0.063663  0.361676      1\n",
       "59708 -0.001416 -0.057699 -0.012546  0.176743 -0.063663  0.361676      1\n",
       "\n",
       "[59709 rows x 7 columns]"
      ]
     },
     "execution_count": 22,
     "metadata": {},
     "output_type": "execute_result"
    }
   ],
   "source": [
    "#Handling the test set\n",
    "test_data =test_data.fillna(-1)\n",
    "bins_var1 = [-np.inf, -1, 20, 40, 60, 80, np.inf]\n",
    "test_data['var1_group'] = pd.cut(test_data['var1'], bins=bins_var1, labels=False)\n",
    "\n",
    "bins_var2 = [-np.inf, -1, 6134, 189900, 1010800, 3683678, np.inf]\n",
    "test_data['var2_group'] = pd.cut(test_data['var2'], bins=bins_var2, labels=False)\n",
    "\n",
    "bin_var3=[-np.inf, -1, 1.04, 3.46, np.inf]\n",
    "test_data['var3_group'] = pd.cut(test_data['var3'], bins=bin_var3, labels=False)\n",
    "\n",
    "test_data['var4_group'] = pd.factorize(test_data['var4'])[0]\n",
    "\n",
    "test_data['var7_group'] = pd.factorize(test_data['var7'])[0]\n",
    "\n",
    "bin_var8=[-np.inf, -1, 40,  80, np.inf]\n",
    "test_data['var8_group'] = pd.cut(test_data['var8'], bins=bin_var8, labels=False)\n",
    "\n",
    "data2=pd.DataFrame()\n",
    "data2['var1']=test_data['var1_group']\n",
    "data2['var2']=test_data['var2_group']\n",
    "data2['var3']=test_data['var3_group']\n",
    "data2['var4']=test_data['var4_group']\n",
    "data2['var7']=test_data['var7_group']\n",
    "data2['var8']=test_data['var8_group']\n",
    "for index, row in data2.iterrows():\n",
    "    if row['var1'] == 0:\n",
    "        data2.loc[index, 'var1'] = df_var1.iloc[0, 5]\n",
    "    elif row['var1'] == 1:\n",
    "        data2.loc[index, 'var1'] = df_var1.iloc[1, 5]\n",
    "    elif row['var1'] == 2:\n",
    "        data2.loc[index, 'var1'] = df_var1.iloc[2, 5]\n",
    "    elif row['var1'] == 3:\n",
    "        data2.loc[index, 'var1'] = df_var1.iloc[3, 5]\n",
    "    elif row['var1'] == 4:\n",
    "        data2.loc[index, 'var1'] = df_var1.iloc[4, 5]\n",
    "    if row['var2'] == 0:\n",
    "        data2.loc[index, 'var2'] = df_var2.iloc[0, 5]\n",
    "    elif row['var2'] == 1:\n",
    "        data2.loc[index, 'var2'] = df_var2.iloc[1, 5]\n",
    "    elif row['var2'] == 2:\n",
    "        data2.loc[index, 'var2'] = df_var2.iloc[2, 5]\n",
    "    elif row['var2'] == 3:\n",
    "        data2.loc[index, 'var2'] = df_var2.iloc[3, 5]\n",
    "    elif row['var2'] == 4:\n",
    "        data2.loc[index, 'var2'] = df_var2.iloc[4, 5]\n",
    "    elif row['var2'] == 5:\n",
    "        data2.loc[index, 'var2'] = df_var2.iloc[5, 5]    \n",
    "    if row['var3'] == 0:\n",
    "        data2.loc[index, 'var3'] = df_var3.iloc[0, 5]\n",
    "    elif row['var3'] == 1:\n",
    "        data2.loc[index, 'var3'] = df_var3.iloc[1, 5]\n",
    "    elif row['var3'] == 2:\n",
    "        data2.loc[index, 'var3'] = df_var3.iloc[2, 5]\n",
    "    elif row['var3'] == 3:\n",
    "        data2.loc[index, 'var3'] = df_var3.iloc[3, 5]\n",
    "for index, row in data2.iterrows():\n",
    "    if row['var4'] == 0:\n",
    "        data2.loc[index, 'var4'] = df_var4.iloc[0, 5]\n",
    "    elif row['var4'] == 1:\n",
    "        data2.loc[index, 'var4'] = df_var4.iloc[1, 5]\n",
    "    elif row['var4'] == 2:\n",
    "        data2.loc[index, 'var4'] = df_var4.iloc[2, 5]\n",
    "    elif row['var4'] == 3:\n",
    "        data2.loc[index, 'var4'] = df_var4.iloc[3, 5]\n",
    "    elif row['var4'] == 4:\n",
    "        data2.loc[index, 'var4'] = df_var4.iloc[4, 5]\n",
    "    elif row['var4'] == 5:\n",
    "        data2.loc[index, 'var4'] = df_var4.iloc[5, 5]\n",
    "    elif row['var4'] == 6:\n",
    "        data2.loc[index, 'var4'] = df_var4.iloc[6, 5]\n",
    "    elif row['var4'] == 7:\n",
    "        data2.loc[index, 'var4'] = df_var4.iloc[7, 5]\n",
    "    elif row['var4'] == 8:\n",
    "        data2.loc[index, 'var4'] = df_var4.iloc[8, 5]\n",
    "    elif row['var4'] == 9:\n",
    "        data2.loc[index, 'var4'] = df_var4.iloc[9, 5]\n",
    "    elif row['var4'] == 10:\n",
    "        data2.loc[index, 'var4'] = df_var4.iloc[10, 5]\n",
    "    elif row['var4'] == 11:\n",
    "        data2.loc[index, 'var4'] = df_var4.iloc[11, 5]\n",
    "    elif row['var4'] == 12:\n",
    "        data2.loc[index, 'var4'] = df_var4.iloc[12, 5]\n",
    "    elif row['var4'] == 13:\n",
    "        data2.loc[index, 'var4'] = df_var4.iloc[13, 5]\n",
    "for index, row in data2.iterrows():\n",
    "    if row['var7'] == 0:\n",
    "        data2.loc[index, 'var7'] = df_var7.iloc[0, 5]\n",
    "    elif row['var7'] == 1:\n",
    "        data2.loc[index, 'var7'] = df_var7.iloc[1, 5]\n",
    "    elif row['var7'] == 2:\n",
    "        data2.loc[index, 'var7'] = df_var7.iloc[2, 5]\n",
    "    elif row['var7'] == 3:\n",
    "        data2.loc[index, 'var7'] = df_var7.iloc[3, 5]\n",
    "    elif row['var7'] == 4:\n",
    "        data2.loc[index, 'var7'] = df_var7.iloc[4, 5]\n",
    "    elif row['var7'] == 5:\n",
    "        data2.loc[index, 'var7'] = df_var7.iloc[5, 5]\n",
    "    elif row['var7'] == 6:\n",
    "        data2.loc[index, 'var7'] = df_var7.iloc[6, 5]\n",
    "    elif row['var7'] == 7:\n",
    "        data2.loc[index, 'var7'] = df_var7.iloc[7, 5]\n",
    "    elif row['var7'] == 8:\n",
    "        data2.loc[index, 'var7'] = df_var7.iloc[8, 5]\n",
    "    elif row['var7'] == 9:\n",
    "        data2.loc[index, 'var7'] = df_var7.iloc[9, 5]\n",
    "    elif row['var7'] == 10:\n",
    "        data2.loc[index, 'var7'] = df_var7.iloc[10, 5]\n",
    "    elif row['var7'] == 11:\n",
    "        data2.loc[index, 'var7'] = df_var7.iloc[11, 5]\n",
    "    elif row['var7'] == 12:\n",
    "        data2.loc[index, 'var7'] = df_var7.iloc[12, 5]\n",
    "    elif row['var7'] == 13:\n",
    "        data2.loc[index, 'var7'] = df_var7.iloc[13, 5]\n",
    "    elif row['var7'] == 14:\n",
    "        data2.loc[index, 'var7'] = df_var7.iloc[14, 5]\n",
    "    elif row['var7'] == 15:\n",
    "        data2.loc[index, 'var7'] = df_var7.iloc[15, 5]\n",
    "    elif row['var7'] == 16:\n",
    "        data2.loc[index, 'var7'] = df_var7.iloc[16, 5]\n",
    "    elif row['var7'] == 17:\n",
    "        data2.loc[index, 'var7'] = df_var7.iloc[17, 5]\n",
    "    elif row['var7'] == 18:\n",
    "        data2.loc[index, 'var7'] = df_var7.iloc[18, 5]\n",
    "    elif row['var7'] == 19:\n",
    "        data2.loc[index, 'var7'] = df_var7.iloc[19, 5]\n",
    "    elif row['var7'] == 20:\n",
    "        data2.loc[index, 'var7'] = df_var7.iloc[20, 5]\n",
    "    elif row['var7'] == 21:\n",
    "        data2.loc[index, 'var7'] = df_var7.iloc[21, 5]\n",
    "    elif row['var7'] == 22:\n",
    "        data2.loc[index, 'var7'] = df_var7.iloc[22, 5]\n",
    "    elif row['var7'] == 23:\n",
    "        data2.loc[index, 'var7'] = df_var7.iloc[23, 5]\n",
    "for index, row in data2.iterrows():\n",
    "    if row['var8'] == 0:\n",
    "        data2.loc[index, 'var8'] = df_var8.iloc[0, 5]\n",
    "    elif row['var8'] == 1:\n",
    "        data2.loc[index, 'var8'] = df_var8.iloc[1, 5]\n",
    "    elif row['var8'] == 2:\n",
    "        data2.loc[index, 'var8'] = df_var8.iloc[2, 5]\n",
    "    elif row['var8'] == 3:\n",
    "        data2.loc[index, 'var8'] = df_var8.iloc[3, 5]\n",
    "    elif row['var8'] == 4:\n",
    "        data2.loc[index, 'var8'] = df_var8.iloc[4, 5]\n",
    "data2['event']=test_data['event']\n",
    "data2"
   ]
  },
  {
   "cell_type": "code",
   "execution_count": 30,
   "id": "b6678fe8",
   "metadata": {},
   "outputs": [
    {
     "name": "stdout",
     "output_type": "stream",
     "text": [
      "Accuracy: 0.499\n",
      "precision: 0.490\n",
      "recall: 0.990\n",
      "F1: 0.656\n",
      "Auc: 0.71\n"
     ]
    }
   ],
   "source": [
    "from sklearn.metrics import precision_score, recall_score, f1_score , roc_auc_score\n",
    "\n",
    "X_test, y_test = data2.iloc[:, [0,1,2,3,4,5]].values, data2.iloc[:, 6].values\n",
    "y_pred =lr.predict(X_train)\n",
    "print('Accuracy: %.3f' % lr.score(X_test, y_test))\n",
    "\n",
    "precision = precision_score(y_pred, y_test)\n",
    "print('precision: %.3f' % precision)\n",
    "\n",
    "recall = recall_score(y_pred, y_test)\n",
    "print('recall: %.3f' % recall)\n",
    "\n",
    "f1 = f1_score(y_pred, y_test)\n",
    "print('F1: %.3f' % f1)\n",
    "\n",
    "y_pred_proba = lr.predict_proba(X_test)[:, 1]\n",
    "auc = roc_auc_score(y_test, y_pred_proba)\n",
    "print(\"Auc: {:.2f}\".format(auc))\n",
    "\n"
   ]
  },
  {
   "cell_type": "code",
   "execution_count": 33,
   "id": "12ad61e9",
   "metadata": {},
   "outputs": [
    {
     "data": {
      "image/png": "[encoded data removed]",
      "text/plain": [
       "<Figure size 180x180 with 1 Axes>"
      ]
     },
     "metadata": {
      "needs_background": "light"
     },
     "output_type": "display_data"
    }
   ],
   "source": [
    "from sklearn.metrics import confusion_matrix\n",
    "confmat = confusion_matrix(y_test, y_pred)\n",
    "fig, ax = plt.subplots(figsize=(2.5, 2.5))\n",
    "ax.matshow(confmat, cmap=plt.cm.Blues, alpha=0.3)\n",
    "for i in range(confmat.shape[0]):\n",
    "    for j in range(confmat.shape[1]):\n",
    "        ax.text(x=j, y=i, s=confmat[i, j], va='center', ha='center')\n",
    "\n",
    "plt.xlabel('Predicted label')\n",
    "plt.ylabel('True label')\n",
    "\n",
    "plt.tight_layout()\n",
    "plt.show()"
   ]
  },
  {
   "cell_type": "code",
   "execution_count": 114,
   "id": "c05b27bc",
   "metadata": {},
   "outputs": [
    {
     "data": {
      "text/html": [
       "<div>\n",
       "<style scoped>\n",
       "    .dataframe tbody tr th:only-of-type {\n",
       "        vertical-align: middle;\n",
       "    }\n",
       "\n",
       "    .dataframe tbody tr th {\n",
       "        vertical-align: top;\n",
       "    }\n",
       "\n",
       "    .dataframe thead th {\n",
       "        text-align: right;\n",
       "    }\n",
       "</style>\n",
       "<table border=\"1\" class=\"dataframe\">\n",
       "  <thead>\n",
       "    <tr style=\"text-align: right;\">\n",
       "      <th></th>\n",
       "      <th>Logistic Regression</th>\n",
       "      <th>PCA + Logistic Regression</th>\n",
       "      <th>Decision Tree</th>\n",
       "      <th>PCA+Decision Tree</th>\n",
       "      <th>Random Forest</th>\n",
       "      <th>PCA+Random Forest</th>\n",
       "      <th>NN</th>\n",
       "      <th>Score card model</th>\n",
       "    </tr>\n",
       "  </thead>\n",
       "  <tbody>\n",
       "    <tr>\n",
       "      <th>Accuracy</th>\n",
       "      <td>0.930</td>\n",
       "      <td>0.885</td>\n",
       "      <td>0.563</td>\n",
       "      <td>0.562</td>\n",
       "      <td>0.567</td>\n",
       "      <td>0.565</td>\n",
       "      <td>0.849</td>\n",
       "      <td>0.499</td>\n",
       "    </tr>\n",
       "    <tr>\n",
       "      <th>Precision</th>\n",
       "      <td>0.979</td>\n",
       "      <td>0.980</td>\n",
       "      <td>0.983</td>\n",
       "      <td>0.982</td>\n",
       "      <td>0.982</td>\n",
       "      <td>0.982</td>\n",
       "      <td>0.979</td>\n",
       "      <td>0.490</td>\n",
       "    </tr>\n",
       "    <tr>\n",
       "      <th>Recall</th>\n",
       "      <td>0.948</td>\n",
       "      <td>0.900</td>\n",
       "      <td>0.562</td>\n",
       "      <td>0.561</td>\n",
       "      <td>0.566</td>\n",
       "      <td>0.564</td>\n",
       "      <td>0.863</td>\n",
       "      <td>0.990</td>\n",
       "    </tr>\n",
       "    <tr>\n",
       "      <th>F1</th>\n",
       "      <td>0.964</td>\n",
       "      <td>0.938</td>\n",
       "      <td>0.715</td>\n",
       "      <td>0.714</td>\n",
       "      <td>0.718</td>\n",
       "      <td>0.717</td>\n",
       "      <td>0.917</td>\n",
       "      <td>0.656</td>\n",
       "    </tr>\n",
       "    <tr>\n",
       "      <th>Auc</th>\n",
       "      <td>0.586</td>\n",
       "      <td>0.589</td>\n",
       "      <td>0.587</td>\n",
       "      <td>0.583</td>\n",
       "      <td>0.586</td>\n",
       "      <td>0.585</td>\n",
       "      <td>0.578</td>\n",
       "      <td>0.710</td>\n",
       "    </tr>\n",
       "  </tbody>\n",
       "</table>\n",
       "</div>"
      ],
      "text/plain": [
       "           Logistic Regression  PCA + Logistic Regression  Decision Tree  \\\n",
       "Accuracy                 0.930                      0.885          0.563   \n",
       "Precision                0.979                      0.980          0.983   \n",
       "Recall                   0.948                      0.900          0.562   \n",
       "F1                       0.964                      0.938          0.715   \n",
       "Auc                      0.586                      0.589          0.587   \n",
       "\n",
       "           PCA+Decision Tree  Random Forest  PCA+Random Forest     NN  \\\n",
       "Accuracy               0.562          0.567              0.565  0.849   \n",
       "Precision              0.982          0.982              0.982  0.979   \n",
       "Recall                 0.561          0.566              0.564  0.863   \n",
       "F1                     0.714          0.718              0.717  0.917   \n",
       "Auc                    0.583          0.586              0.585  0.578   \n",
       "\n",
       "           Score card model  \n",
       "Accuracy              0.499  \n",
       "Precision             0.490  \n",
       "Recall                0.990  \n",
       "F1                    0.656  \n",
       "Auc                   0.710  "
      ]
     },
     "execution_count": 114,
     "metadata": {},
     "output_type": "execute_result"
    }
   ],
   "source": [
    "outcome_oversample['Score card model']=[0.499,0.490,0.990,0.656,0.71]\n",
    "outcome_oversample"
   ]
  },
  {
   "cell_type": "markdown",
   "id": "56efec33",
   "metadata": {},
   "source": [
    "# (9) Cloglog model"
   ]
  },
  {
   "cell_type": "code",
   "execution_count": 89,
   "id": "0b56bbd3",
   "metadata": {},
   "outputs": [
    {
     "name": "stdout",
     "output_type": "stream",
     "text": [
      "                 Generalized Linear Model Regression Results                  \n",
      "==============================================================================\n",
      "Dep. Variable:                  event   No. Observations:               465608\n",
      "Model:                            GLM   Df Residuals:                   465599\n",
      "Model Family:                Binomial   Df Model:                            8\n",
      "Link Function:                cloglog   Scale:                          1.0000\n",
      "Method:                          IRLS   Log-Likelihood:            -3.0319e+05\n",
      "Date:                Sun, 30 Apr 2023   Deviance:                   6.0639e+05\n",
      "Time:                        17:52:50   Pearson chi2:                 4.65e+05\n",
      "No. Iterations:                    17   Pseudo R-squ. (CS):            0.08051\n",
      "Covariance Type:            nonrobust                                         \n",
      "==============================================================================\n",
      "                 coef    std err          z      P>|z|      [0.025      0.975]\n",
      "------------------------------------------------------------------------------\n",
      "const         -2.8647      0.030    -94.718      0.000      -2.924      -2.805\n",
      "var1          -0.0209      0.001    -25.615      0.000      -0.023      -0.019\n",
      "var2         6.99e-09   2.31e-10     30.314      0.000    6.54e-09    7.44e-09\n",
      "var3           0.0020      0.000     16.193      0.000       0.002       0.002\n",
      "var4           0.1342      0.001    128.739      0.000       0.132       0.136\n",
      "var5        2.227e-06    2.7e-06      0.826      0.409   -3.06e-06    7.52e-06\n",
      "var6         2.41e-06   7.65e-06      0.315      0.753   -1.26e-05    1.74e-05\n",
      "var7          -0.0005      0.001     -0.546      0.585      -0.002       0.001\n",
      "var8           0.0149      0.000     46.010      0.000       0.014       0.016\n",
      "==============================================================================\n"
     ]
    }
   ],
   "source": [
    "import statsmodels.api as sm\n",
    "ros=RandomOverSampler(random_state=123)\n",
    "X_oversampled,Y_oversampled=ros.fit_resample(train_data_X,train_data_Y)    \n",
    "model = sm.GLM(Y_oversampled, sm.add_constant(X_oversampled), family=sm.families.Binomial(link=sm.families.links.cloglog()))\n",
    "result = model.fit()\n",
    "\n",
    "print(result.summary())\n",
    "\n",
    "\n",
    "y_pred = result.predict(sm.add_constant(test_data_X))\n",
    "y_pred = [1 if val > 0.5 else 0 for val in y_pred]"
   ]
  },
  {
   "cell_type": "code",
   "execution_count": 115,
   "id": "df88f60e",
   "metadata": {},
   "outputs": [
    {
     "name": "stdout",
     "output_type": "stream",
     "text": [
      "Accuracy: 0.8334086988561188\n",
      "precision: 0.979\n",
      "recall: 0.847\n",
      "F1: 0.908\n"
     ]
    }
   ],
   "source": [
    "from sklearn.metrics import precision_score, recall_score, f1_score\n",
    "\n",
    "from sklearn.metrics import accuracy_score\n",
    "\n",
    "accuracy = accuracy_score(y_test, y_pred)\n",
    "print(\"Accuracy:\", accuracy)\n",
    "\n",
    "precision = precision_score(y_test, y_pred)\n",
    "print('precision: %.3f' % precision)\n",
    "\n",
    "recall = recall_score(y_test, y_pred)\n",
    "print('recall: %.3f' % recall)\n",
    "\n",
    "f1 = f1_score(y_test, y_pred)\n",
    "print('F1: %.3f' % f1)\n",
    "\n"
   ]
  },
  {
   "cell_type": "code",
   "execution_count": 92,
   "id": "804f1c44",
   "metadata": {},
   "outputs": [
    {
     "data": {
      "image/png": "[encoded data removed]",
      "text/plain": [
       "<Figure size 180x180 with 1 Axes>"
      ]
     },
     "metadata": {
      "needs_background": "light"
     },
     "output_type": "display_data"
    }
   ],
   "source": [
    "from sklearn.metrics import confusion_matrix\n",
    "confmat = confusion_matrix(y_test, y_pred)\n",
    "fig, ax = plt.subplots(figsize=(2.5, 2.5))\n",
    "ax.matshow(confmat, cmap=plt.cm.Blues, alpha=0.3)\n",
    "for i in range(confmat.shape[0]):\n",
    "    for j in range(confmat.shape[1]):\n",
    "        ax.text(x=j, y=i, s=confmat[i, j], va='center', ha='center')\n",
    "\n",
    "plt.xlabel('Predicted label')\n",
    "plt.ylabel('True label')\n",
    "\n",
    "plt.tight_layout()\n",
    "plt.show()"
   ]
  },
  {
   "cell_type": "code",
   "execution_count": 121,
   "id": "9bd7427c",
   "metadata": {},
   "outputs": [
    {
     "data": {
      "text/html": [
       "<div>\n",
       "<style scoped>\n",
       "    .dataframe tbody tr th:only-of-type {\n",
       "        vertical-align: middle;\n",
       "    }\n",
       "\n",
       "    .dataframe tbody tr th {\n",
       "        vertical-align: top;\n",
       "    }\n",
       "\n",
       "    .dataframe thead th {\n",
       "        text-align: right;\n",
       "    }\n",
       "</style>\n",
       "<table border=\"1\" class=\"dataframe\">\n",
       "  <thead>\n",
       "    <tr style=\"text-align: right;\">\n",
       "      <th></th>\n",
       "      <th>Logistic Regression</th>\n",
       "      <th>PCA + Logistic Regression</th>\n",
       "      <th>Decision Tree</th>\n",
       "      <th>PCA+Decision Tree</th>\n",
       "      <th>Random Forest</th>\n",
       "      <th>PCA+Random Forest</th>\n",
       "      <th>NN</th>\n",
       "      <th>Score card model</th>\n",
       "      <th>Cloglog model</th>\n",
       "    </tr>\n",
       "  </thead>\n",
       "  <tbody>\n",
       "    <tr>\n",
       "      <th>Accuracy</th>\n",
       "      <td>0.930</td>\n",
       "      <td>0.885</td>\n",
       "      <td>0.563</td>\n",
       "      <td>0.562</td>\n",
       "      <td>0.567</td>\n",
       "      <td>0.565</td>\n",
       "      <td>0.849</td>\n",
       "      <td>0.499</td>\n",
       "      <td>0.833</td>\n",
       "    </tr>\n",
       "    <tr>\n",
       "      <th>Precision</th>\n",
       "      <td>0.979</td>\n",
       "      <td>0.980</td>\n",
       "      <td>0.983</td>\n",
       "      <td>0.982</td>\n",
       "      <td>0.982</td>\n",
       "      <td>0.982</td>\n",
       "      <td>0.979</td>\n",
       "      <td>0.490</td>\n",
       "      <td>0.979</td>\n",
       "    </tr>\n",
       "    <tr>\n",
       "      <th>Recall</th>\n",
       "      <td>0.948</td>\n",
       "      <td>0.900</td>\n",
       "      <td>0.562</td>\n",
       "      <td>0.561</td>\n",
       "      <td>0.566</td>\n",
       "      <td>0.564</td>\n",
       "      <td>0.863</td>\n",
       "      <td>0.990</td>\n",
       "      <td>0.847</td>\n",
       "    </tr>\n",
       "    <tr>\n",
       "      <th>F1</th>\n",
       "      <td>0.964</td>\n",
       "      <td>0.938</td>\n",
       "      <td>0.715</td>\n",
       "      <td>0.714</td>\n",
       "      <td>0.718</td>\n",
       "      <td>0.717</td>\n",
       "      <td>0.917</td>\n",
       "      <td>0.656</td>\n",
       "      <td>0.908</td>\n",
       "    </tr>\n",
       "    <tr>\n",
       "      <th>Auc</th>\n",
       "      <td>0.586</td>\n",
       "      <td>0.589</td>\n",
       "      <td>0.587</td>\n",
       "      <td>0.583</td>\n",
       "      <td>0.586</td>\n",
       "      <td>0.585</td>\n",
       "      <td>0.578</td>\n",
       "      <td>0.710</td>\n",
       "      <td>NaN</td>\n",
       "    </tr>\n",
       "  </tbody>\n",
       "</table>\n",
       "</div>"
      ],
      "text/plain": [
       "           Logistic Regression  PCA + Logistic Regression  Decision Tree  \\\n",
       "Accuracy                 0.930                      0.885          0.563   \n",
       "Precision                0.979                      0.980          0.983   \n",
       "Recall                   0.948                      0.900          0.562   \n",
       "F1                       0.964                      0.938          0.715   \n",
       "Auc                      0.586                      0.589          0.587   \n",
       "\n",
       "           PCA+Decision Tree  Random Forest  PCA+Random Forest     NN  \\\n",
       "Accuracy               0.562          0.567              0.565  0.849   \n",
       "Precision              0.982          0.982              0.982  0.979   \n",
       "Recall                 0.561          0.566              0.564  0.863   \n",
       "F1                     0.714          0.718              0.717  0.917   \n",
       "Auc                    0.583          0.586              0.585  0.578   \n",
       "\n",
       "           Score card model  Cloglog model  \n",
       "Accuracy              0.499          0.833  \n",
       "Precision             0.490          0.979  \n",
       "Recall                0.990          0.847  \n",
       "F1                    0.656          0.908  \n",
       "Auc                   0.710            NaN  "
      ]
     },
     "execution_count": 121,
     "metadata": {},
     "output_type": "execute_result"
    }
   ],
   "source": [
    "outcome_oversample['Cloglog model']=[0.833,0.979,0.847,0.908,None]\n",
    "outcome_oversample"
   ]
  },
  {
   "cell_type": "markdown",
   "id": "8b26bc3f",
   "metadata": {},
   "source": [
    "Section 2.2 Training the model with undersampling data\n",
    "--"
   ]
  },
  {
   "cell_type": "markdown",
   "id": "73d0645a",
   "metadata": {},
   "source": [
    "(1) Logistic Regression\n",
    "--"
   ]
  },
  {
   "cell_type": "code",
   "execution_count": 187,
   "id": "56348aa2",
   "metadata": {},
   "outputs": [],
   "source": [
    "param_range = [0.0001, 0.001, 0.01, 0.1, 1.0, 10.0, 100.0, 1000.0]\n",
    "\n",
    "param_grid = [{'logisticregression__penalty': ['l1'], \n",
    "               'logisticregression__C': param_range,\n",
    "               'logisticregression__solver':['liblinear']},\n",
    "              {'logisticregression__penalty': ['l2'], \n",
    "               'logisticregression__C': param_range,\n",
    "               'logisticregression__solver':['lbfgs']}]\n",
    "\n",
    "gs_LR_down = GridSearchCV(estimator=pipe_lr_o, \n",
    "                  param_grid=param_grid, \n",
    "                  scoring='f1', \n",
    "                  refit=True,\n",
    "                  cv=10,\n",
    "                  n_jobs =-1)\n",
    "\n",
    "gs_LR_down = gs_LR_down.fit(train_data_X_bal_down, train_data_Y_bal_down)"
   ]
  },
  {
   "cell_type": "code",
   "execution_count": 188,
   "id": "8b7e6ab3",
   "metadata": {},
   "outputs": [
    {
     "name": "stdout",
     "output_type": "stream",
     "text": [
      "0.6954503054487668\n",
      "{'logisticregression__C': 0.001, 'logisticregression__penalty': 'l1', 'logisticregression__solver': 'liblinear'}\n"
     ]
    }
   ],
   "source": [
    "print(gs_LR_down.best_score_)\n",
    "print(gs_LR_down.best_params_)"
   ]
  },
  {
   "cell_type": "code",
   "execution_count": 189,
   "id": "b6445d8a",
   "metadata": {},
   "outputs": [],
   "source": [
    "LR_down_best = gs_LR_down.best_estimator_"
   ]
  },
  {
   "cell_type": "code",
   "execution_count": 190,
   "id": "664cf81e",
   "metadata": {},
   "outputs": [],
   "source": [
    "warnings.filterwarnings(\"ignore\")\n",
    "Y_pred_LR_down_best = LR_down_best.predict(test_data_X)"
   ]
  },
  {
   "cell_type": "code",
   "execution_count": 191,
   "id": "fad32a0a",
   "metadata": {},
   "outputs": [
    {
     "name": "stdout",
     "output_type": "stream",
     "text": [
      "Accuracy: 0.933\n",
      "Precision: 0.979\n",
      "Recall: 0.952\n",
      "F1: 0.965\n",
      "Auc: 0.583\n"
     ]
    }
   ],
   "source": [
    "print('Accuracy: %.3f' % LR_down_best.score(test_data_X, test_data_Y))\n",
    "print('Precision: %.3f' % precision_score(y_true=test_data_Y, y_pred=Y_pred_LR_down_best))\n",
    "print('Recall: %.3f' % recall_score(y_true=test_data_Y, y_pred=Y_pred_LR_down_best))\n",
    "print('F1: %.3f' % f1_score(y_true=test_data_Y, y_pred=Y_pred_LR_down_best))\n",
    "print('Auc: %.3f' % roc_auc_score(test_data_Y,Y_pred_LR_down_best))"
   ]
  },
  {
   "cell_type": "code",
   "execution_count": 192,
   "id": "f5b0ff7d",
   "metadata": {},
   "outputs": [
    {
     "data": {
      "image/png": "[encoded data removed]",
      "text/plain": [
       "<Figure size 180x180 with 1 Axes>"
      ]
     },
     "metadata": {
      "needs_background": "light"
     },
     "output_type": "display_data"
    }
   ],
   "source": [
    "confmat = confusion_matrix(y_true=test_data_Y, y_pred=Y_pred_LR_down_best)\n",
    "fig, ax = plt.subplots(figsize=(2.5, 2.5))\n",
    "ax.matshow(confmat, cmap=plt.cm.Blues, alpha=0.3)\n",
    "for i in range(confmat.shape[0]):\n",
    "    for j in range(confmat.shape[1]):\n",
    "        ax.text(x=j, y=i, s=confmat[i, j], va='center', ha='center')\n",
    "\n",
    "plt.xlabel('Predicted label')\n",
    "plt.ylabel('True label')\n",
    "\n",
    "plt.tight_layout()\n",
    "plt.show()"
   ]
  },
  {
   "cell_type": "code",
   "execution_count": 125,
   "id": "dc2badfe",
   "metadata": {},
   "outputs": [
    {
     "data": {
      "text/html": [
       "<div>\n",
       "<style scoped>\n",
       "    .dataframe tbody tr th:only-of-type {\n",
       "        vertical-align: middle;\n",
       "    }\n",
       "\n",
       "    .dataframe tbody tr th {\n",
       "        vertical-align: top;\n",
       "    }\n",
       "\n",
       "    .dataframe thead th {\n",
       "        text-align: right;\n",
       "    }\n",
       "</style>\n",
       "<table border=\"1\" class=\"dataframe\">\n",
       "  <thead>\n",
       "    <tr style=\"text-align: right;\">\n",
       "      <th></th>\n",
       "      <th>Logistic Regression</th>\n",
       "    </tr>\n",
       "  </thead>\n",
       "  <tbody>\n",
       "    <tr>\n",
       "      <th>Accuracy</th>\n",
       "      <td>0.933</td>\n",
       "    </tr>\n",
       "    <tr>\n",
       "      <th>Precision</th>\n",
       "      <td>0.979</td>\n",
       "    </tr>\n",
       "    <tr>\n",
       "      <th>Recall</th>\n",
       "      <td>0.952</td>\n",
       "    </tr>\n",
       "    <tr>\n",
       "      <th>F1</th>\n",
       "      <td>0.965</td>\n",
       "    </tr>\n",
       "    <tr>\n",
       "      <th>Auc</th>\n",
       "      <td>0.583</td>\n",
       "    </tr>\n",
       "  </tbody>\n",
       "</table>\n",
       "</div>"
      ],
      "text/plain": [
       "           Logistic Regression\n",
       "Accuracy                 0.933\n",
       "Precision                0.979\n",
       "Recall                   0.952\n",
       "F1                       0.965\n",
       "Auc                      0.583"
      ]
     },
     "execution_count": 125,
     "metadata": {},
     "output_type": "execute_result"
    }
   ],
   "source": [
    "outcome_undersample=pd.DataFrame()\n",
    "outcome_undersample['Logistic Regression']=[0.933,0.979,0.952,0.965,0.583]\n",
    "outcome_undersample.index = ['Accuracy', 'Precision', 'Recall', 'F1', 'Auc']\n",
    "outcome_undersample"
   ]
  },
  {
   "cell_type": "markdown",
   "id": "64690da4",
   "metadata": {},
   "source": [
    "(2) PCA + Logistic Regression\n",
    "--"
   ]
  },
  {
   "cell_type": "code",
   "execution_count": 181,
   "id": "94336b87",
   "metadata": {},
   "outputs": [],
   "source": [
    "param_range = [0.0001, 0.001, 0.01, 0.1, 1.0, 10.0, 100.0, 1000.0]\n",
    "\n",
    "n_components=[2,3,4,5,6]\n",
    "\n",
    "param_grid = [{'logisticregression__penalty': ['l1'], \n",
    "               'logisticregression__C': param_range,\n",
    "               'logisticregression__solver':['liblinear'],\n",
    "               'pca__n_components':n_components},\n",
    "              {'logisticregression__penalty': ['l2'], \n",
    "               'logisticregression__C': param_range,\n",
    "               'logisticregression__solver':['lbfgs'],\n",
    "               'pca__n_components':n_components}]\n",
    "\n",
    "gs_PCA_LR_down = GridSearchCV(estimator=pipe_lr, \n",
    "                  param_grid=param_grid, \n",
    "                  scoring='f1', \n",
    "                  refit=True,\n",
    "                  cv=10,\n",
    "                  n_jobs =-1)\n",
    "\n",
    "gs_PCA_LR_down = gs_PCA_LR_down.fit(train_data_X_bal_down, train_data_Y_bal_down)"
   ]
  },
  {
   "cell_type": "code",
   "execution_count": 182,
   "id": "6a7817dc",
   "metadata": {},
   "outputs": [
    {
     "name": "stdout",
     "output_type": "stream",
     "text": [
      "0.6758656929612075\n",
      "{'logisticregression__C': 0.01, 'logisticregression__penalty': 'l1', 'logisticregression__solver': 'liblinear', 'pca__n_components': 6}\n"
     ]
    }
   ],
   "source": [
    "print(gs_PCA_LR_down.best_score_)\n",
    "print(gs_PCA_LR_down.best_params_)"
   ]
  },
  {
   "cell_type": "code",
   "execution_count": 183,
   "id": "e1080dc4",
   "metadata": {},
   "outputs": [],
   "source": [
    "PCA_LR_down_best = gs_PCA_LR_down.best_estimator_"
   ]
  },
  {
   "cell_type": "code",
   "execution_count": 184,
   "id": "7ad2bc2b",
   "metadata": {},
   "outputs": [],
   "source": [
    "warnings.filterwarnings(\"ignore\")\n",
    "Y_pred_PCA_LR_down_best = PCA_LR_down_best.predict(test_data_X)"
   ]
  },
  {
   "cell_type": "code",
   "execution_count": 185,
   "id": "04042dcd",
   "metadata": {},
   "outputs": [
    {
     "name": "stdout",
     "output_type": "stream",
     "text": [
      "Accuracy: 0.870\n",
      "Precision: 0.980\n",
      "Recall: 0.885\n",
      "F1: 0.930\n",
      "Auc: 0.582\n"
     ]
    }
   ],
   "source": [
    "print('Accuracy: %.3f' % PCA_LR_down_best.score(test_data_X, test_data_Y))\n",
    "print('Precision: %.3f' % precision_score(y_true=test_data_Y, y_pred=Y_pred_PCA_LR_down_best))\n",
    "print('Recall: %.3f' % recall_score(y_true=test_data_Y, y_pred=Y_pred_PCA_LR_down_best))\n",
    "print('F1: %.3f' % f1_score(y_true=test_data_Y, y_pred=Y_pred_PCA_LR_down_best))\n",
    "print('Auc: %.3f' % roc_auc_score(test_data_Y,Y_pred_PCA_LR_down_best))"
   ]
  },
  {
   "cell_type": "code",
   "execution_count": 186,
   "id": "eaaa363e",
   "metadata": {},
   "outputs": [
    {
     "data": {
      "image/png": "[encoded data removed]",
      "text/plain": [
       "<Figure size 180x180 with 1 Axes>"
      ]
     },
     "metadata": {
      "needs_background": "light"
     },
     "output_type": "display_data"
    }
   ],
   "source": [
    "confmat = confusion_matrix(y_true=test_data_Y, y_pred=Y_pred_PCA_LR_down_best)\n",
    "fig, ax = plt.subplots(figsize=(2.5, 2.5))\n",
    "ax.matshow(confmat, cmap=plt.cm.Blues, alpha=0.3)\n",
    "for i in range(confmat.shape[0]):\n",
    "    for j in range(confmat.shape[1]):\n",
    "        ax.text(x=j, y=i, s=confmat[i, j], va='center', ha='center')\n",
    "\n",
    "plt.xlabel('Predicted label')\n",
    "plt.ylabel('True label')\n",
    "\n",
    "plt.tight_layout()\n",
    "plt.show()"
   ]
  },
  {
   "cell_type": "code",
   "execution_count": 126,
   "id": "16b0a898",
   "metadata": {},
   "outputs": [
    {
     "data": {
      "text/html": [
       "<div>\n",
       "<style scoped>\n",
       "    .dataframe tbody tr th:only-of-type {\n",
       "        vertical-align: middle;\n",
       "    }\n",
       "\n",
       "    .dataframe tbody tr th {\n",
       "        vertical-align: top;\n",
       "    }\n",
       "\n",
       "    .dataframe thead th {\n",
       "        text-align: right;\n",
       "    }\n",
       "</style>\n",
       "<table border=\"1\" class=\"dataframe\">\n",
       "  <thead>\n",
       "    <tr style=\"text-align: right;\">\n",
       "      <th></th>\n",
       "      <th>Logistic Regression</th>\n",
       "      <th>PCA+Logistic Regression</th>\n",
       "    </tr>\n",
       "  </thead>\n",
       "  <tbody>\n",
       "    <tr>\n",
       "      <th>Accuracy</th>\n",
       "      <td>0.933</td>\n",
       "      <td>0.870</td>\n",
       "    </tr>\n",
       "    <tr>\n",
       "      <th>Precision</th>\n",
       "      <td>0.979</td>\n",
       "      <td>0.980</td>\n",
       "    </tr>\n",
       "    <tr>\n",
       "      <th>Recall</th>\n",
       "      <td>0.952</td>\n",
       "      <td>0.885</td>\n",
       "    </tr>\n",
       "    <tr>\n",
       "      <th>F1</th>\n",
       "      <td>0.965</td>\n",
       "      <td>0.930</td>\n",
       "    </tr>\n",
       "    <tr>\n",
       "      <th>Auc</th>\n",
       "      <td>0.583</td>\n",
       "      <td>0.582</td>\n",
       "    </tr>\n",
       "  </tbody>\n",
       "</table>\n",
       "</div>"
      ],
      "text/plain": [
       "           Logistic Regression  PCA+Logistic Regression\n",
       "Accuracy                 0.933                    0.870\n",
       "Precision                0.979                    0.980\n",
       "Recall                   0.952                    0.885\n",
       "F1                       0.965                    0.930\n",
       "Auc                      0.583                    0.582"
      ]
     },
     "execution_count": 126,
     "metadata": {},
     "output_type": "execute_result"
    }
   ],
   "source": [
    "outcome_undersample['PCA+Logistic Regression']=[0.870,0.980,0.885,0.930,0.582]\n",
    "outcome_undersample.index = ['Accuracy', 'Precision', 'Recall', 'F1', 'Auc']\n",
    "outcome_undersample"
   ]
  },
  {
   "cell_type": "markdown",
   "id": "adcc5ffb",
   "metadata": {},
   "source": [
    "(3) Decision Tree\n",
    "--"
   ]
  },
  {
   "cell_type": "code",
   "execution_count": 175,
   "id": "188737c8",
   "metadata": {},
   "outputs": [],
   "source": [
    "param_grid=[{'decisiontreeclassifier__max_depth': [1, 2, 3, 4, 5, 6, 7, None]}]\n",
    "\n",
    "gs_DT_down = GridSearchCV(estimator=pipe_tree_o,\n",
    "                  param_grid=param_grid,\n",
    "                  scoring='f1',\n",
    "                  cv=10,\n",
    "                  n_jobs = -1)\n",
    "\n",
    "gs_DT_down = gs_DT_down.fit(train_data_X_bal_down, train_data_Y_bal_down)"
   ]
  },
  {
   "cell_type": "code",
   "execution_count": 176,
   "id": "d45d8c55",
   "metadata": {},
   "outputs": [
    {
     "name": "stdout",
     "output_type": "stream",
     "text": [
      "0.6954557317186517\n",
      "{'decisiontreeclassifier__max_depth': 1}\n"
     ]
    }
   ],
   "source": [
    "print(gs_DT_down.best_score_)\n",
    "print(gs_DT_down.best_params_)"
   ]
  },
  {
   "cell_type": "code",
   "execution_count": 177,
   "id": "3439478d",
   "metadata": {},
   "outputs": [],
   "source": [
    "DT_down_best = gs_DT_down.best_estimator_"
   ]
  },
  {
   "cell_type": "code",
   "execution_count": 178,
   "id": "67c75237",
   "metadata": {},
   "outputs": [],
   "source": [
    "warnings.filterwarnings(\"ignore\")\n",
    "Y_pred_DT_down_best = DT_down_best.predict(test_data_X)"
   ]
  },
  {
   "cell_type": "code",
   "execution_count": 179,
   "id": "3e5a95fa",
   "metadata": {},
   "outputs": [
    {
     "name": "stdout",
     "output_type": "stream",
     "text": [
      "Accuracy: 0.955\n",
      "Precision: 0.979\n",
      "Recall: 0.975\n",
      "F1: 0.977\n",
      "Auc: 0.575\n"
     ]
    }
   ],
   "source": [
    "print('Accuracy: %.3f' % DT_down_best.score(test_data_X, test_data_Y))\n",
    "print('Precision: %.3f' % precision_score(y_true=test_data_Y, y_pred=Y_pred_DT_down_best))\n",
    "print('Recall: %.3f' % recall_score(y_true=test_data_Y, y_pred=Y_pred_DT_down_best))\n",
    "print('F1: %.3f' % f1_score(y_true=test_data_Y, y_pred=Y_pred_DT_down_best))\n",
    "print('Auc: %.3f' % roc_auc_score(test_data_Y,Y_pred_DT_down_best))"
   ]
  },
  {
   "cell_type": "code",
   "execution_count": 180,
   "id": "8cdd6391",
   "metadata": {},
   "outputs": [
    {
     "data": {
      "image/png": "[encoded data removed]",
      "text/plain": [
       "<Figure size 180x180 with 1 Axes>"
      ]
     },
     "metadata": {
      "needs_background": "light"
     },
     "output_type": "display_data"
    }
   ],
   "source": [
    "confmat = confusion_matrix(y_true=test_data_Y, y_pred=Y_pred_DT_down_best)\n",
    "fig, ax = plt.subplots(figsize=(2.5, 2.5))\n",
    "ax.matshow(confmat, cmap=plt.cm.Blues, alpha=0.3)\n",
    "for i in range(confmat.shape[0]):\n",
    "    for j in range(confmat.shape[1]):\n",
    "        ax.text(x=j, y=i, s=confmat[i, j], va='center', ha='center')\n",
    "\n",
    "plt.xlabel('Predicted label')\n",
    "plt.ylabel('True label')\n",
    "\n",
    "plt.tight_layout()\n",
    "plt.show()"
   ]
  },
  {
   "cell_type": "code",
   "execution_count": 127,
   "id": "abf3789c",
   "metadata": {},
   "outputs": [
    {
     "data": {
      "text/html": [
       "<div>\n",
       "<style scoped>\n",
       "    .dataframe tbody tr th:only-of-type {\n",
       "        vertical-align: middle;\n",
       "    }\n",
       "\n",
       "    .dataframe tbody tr th {\n",
       "        vertical-align: top;\n",
       "    }\n",
       "\n",
       "    .dataframe thead th {\n",
       "        text-align: right;\n",
       "    }\n",
       "</style>\n",
       "<table border=\"1\" class=\"dataframe\">\n",
       "  <thead>\n",
       "    <tr style=\"text-align: right;\">\n",
       "      <th></th>\n",
       "      <th>Logistic Regression</th>\n",
       "      <th>PCA+Logistic Regression</th>\n",
       "      <th>Decision tree</th>\n",
       "    </tr>\n",
       "  </thead>\n",
       "  <tbody>\n",
       "    <tr>\n",
       "      <th>Accuracy</th>\n",
       "      <td>0.933</td>\n",
       "      <td>0.870</td>\n",
       "      <td>0.955</td>\n",
       "    </tr>\n",
       "    <tr>\n",
       "      <th>Precision</th>\n",
       "      <td>0.979</td>\n",
       "      <td>0.980</td>\n",
       "      <td>0.979</td>\n",
       "    </tr>\n",
       "    <tr>\n",
       "      <th>Recall</th>\n",
       "      <td>0.952</td>\n",
       "      <td>0.885</td>\n",
       "      <td>0.975</td>\n",
       "    </tr>\n",
       "    <tr>\n",
       "      <th>F1</th>\n",
       "      <td>0.965</td>\n",
       "      <td>0.930</td>\n",
       "      <td>0.977</td>\n",
       "    </tr>\n",
       "    <tr>\n",
       "      <th>Auc</th>\n",
       "      <td>0.583</td>\n",
       "      <td>0.582</td>\n",
       "      <td>0.575</td>\n",
       "    </tr>\n",
       "  </tbody>\n",
       "</table>\n",
       "</div>"
      ],
      "text/plain": [
       "           Logistic Regression  PCA+Logistic Regression  Decision tree\n",
       "Accuracy                 0.933                    0.870          0.955\n",
       "Precision                0.979                    0.980          0.979\n",
       "Recall                   0.952                    0.885          0.975\n",
       "F1                       0.965                    0.930          0.977\n",
       "Auc                      0.583                    0.582          0.575"
      ]
     },
     "execution_count": 127,
     "metadata": {},
     "output_type": "execute_result"
    }
   ],
   "source": [
    "outcome_undersample['Decision tree']=[0.955,0.979,0.975,0.977,0.575]\n",
    "outcome_undersample"
   ]
  },
  {
   "cell_type": "markdown",
   "id": "34e0ffaa",
   "metadata": {},
   "source": [
    "(4) PCA + Decision Tree\n",
    "--"
   ]
  },
  {
   "cell_type": "code",
   "execution_count": 169,
   "id": "a4db7c4c",
   "metadata": {},
   "outputs": [],
   "source": [
    "n_components=[2,3,4,5,6]\n",
    "\n",
    "param_grid=[{'decisiontreeclassifier__max_depth': [1, 2, 3, 4, 5, 6, 7, None],\n",
    "             'pca__n_components':n_components}]\n",
    "\n",
    "gs_PCA_DT_down = GridSearchCV(estimator=pipe_tree,\n",
    "                  param_grid=param_grid,\n",
    "                  scoring='f1',\n",
    "                  cv=10,\n",
    "                  n_jobs = -1)\n",
    "\n",
    "gs_PCA_DT_down = gs_PCA_DT_down.fit(train_data_X_bal_down, train_data_Y_bal_down)"
   ]
  },
  {
   "cell_type": "code",
   "execution_count": 170,
   "id": "7edf2c16",
   "metadata": {},
   "outputs": [
    {
     "name": "stdout",
     "output_type": "stream",
     "text": [
      "0.6506437784203829\n",
      "{'decisiontreeclassifier__max_depth': 2, 'pca__n_components': 2}\n"
     ]
    }
   ],
   "source": [
    "print(gs_PCA_DT_down.best_score_)\n",
    "print(gs_PCA_DT_down.best_params_)"
   ]
  },
  {
   "cell_type": "code",
   "execution_count": 171,
   "id": "e5e728ca",
   "metadata": {},
   "outputs": [],
   "source": [
    "PCA_DT_down_best = gs_PCA_DT_down.best_estimator_"
   ]
  },
  {
   "cell_type": "code",
   "execution_count": 172,
   "id": "e77a8702",
   "metadata": {},
   "outputs": [],
   "source": [
    "warnings.filterwarnings(\"ignore\")\n",
    "Y_pred_PCA_DT_down_best = PCA_DT_down_best.predict(test_data_X)"
   ]
  },
  {
   "cell_type": "code",
   "execution_count": 173,
   "id": "48f84f3f",
   "metadata": {},
   "outputs": [
    {
     "name": "stdout",
     "output_type": "stream",
     "text": [
      "Accuracy: 0.913\n",
      "Precision: 0.980\n",
      "Recall: 0.931\n",
      "F1: 0.955\n",
      "Auc: 0.586\n"
     ]
    }
   ],
   "source": [
    "print('Accuracy: %.3f' % PCA_DT_down_best.score(test_data_X, test_data_Y))\n",
    "print('Precision: %.3f' % precision_score(y_true=test_data_Y, y_pred=Y_pred_PCA_DT_down_best))\n",
    "print('Recall: %.3f' % recall_score(y_true=test_data_Y, y_pred=Y_pred_PCA_DT_down_best))\n",
    "print('F1: %.3f' % f1_score(y_true=test_data_Y, y_pred=Y_pred_PCA_DT_down_best))\n",
    "print('Auc: %.3f' % roc_auc_score(test_data_Y,Y_pred_PCA_DT_down_best))"
   ]
  },
  {
   "cell_type": "code",
   "execution_count": 174,
   "id": "43201bff",
   "metadata": {},
   "outputs": [
    {
     "data": {
      "image/png": "[encoded data removed]",
      "text/plain": [
       "<Figure size 180x180 with 1 Axes>"
      ]
     },
     "metadata": {
      "needs_background": "light"
     },
     "output_type": "display_data"
    }
   ],
   "source": [
    "confmat = confusion_matrix(y_true=test_data_Y, y_pred=Y_pred_PCA_DT_down_best)\n",
    "fig, ax = plt.subplots(figsize=(2.5, 2.5))\n",
    "ax.matshow(confmat, cmap=plt.cm.Blues, alpha=0.3)\n",
    "for i in range(confmat.shape[0]):\n",
    "    for j in range(confmat.shape[1]):\n",
    "        ax.text(x=j, y=i, s=confmat[i, j], va='center', ha='center')\n",
    "\n",
    "plt.xlabel('Predicted label')\n",
    "plt.ylabel('True label')\n",
    "\n",
    "plt.tight_layout()\n",
    "plt.show()"
   ]
  },
  {
   "cell_type": "code",
   "execution_count": 128,
   "id": "34a9d0dc",
   "metadata": {},
   "outputs": [
    {
     "data": {
      "text/html": [
       "<div>\n",
       "<style scoped>\n",
       "    .dataframe tbody tr th:only-of-type {\n",
       "        vertical-align: middle;\n",
       "    }\n",
       "\n",
       "    .dataframe tbody tr th {\n",
       "        vertical-align: top;\n",
       "    }\n",
       "\n",
       "    .dataframe thead th {\n",
       "        text-align: right;\n",
       "    }\n",
       "</style>\n",
       "<table border=\"1\" class=\"dataframe\">\n",
       "  <thead>\n",
       "    <tr style=\"text-align: right;\">\n",
       "      <th></th>\n",
       "      <th>Logistic Regression</th>\n",
       "      <th>PCA+Logistic Regression</th>\n",
       "      <th>Decision tree</th>\n",
       "      <th>PCA+Decision tree</th>\n",
       "    </tr>\n",
       "  </thead>\n",
       "  <tbody>\n",
       "    <tr>\n",
       "      <th>Accuracy</th>\n",
       "      <td>0.933</td>\n",
       "      <td>0.870</td>\n",
       "      <td>0.955</td>\n",
       "      <td>0.913</td>\n",
       "    </tr>\n",
       "    <tr>\n",
       "      <th>Precision</th>\n",
       "      <td>0.979</td>\n",
       "      <td>0.980</td>\n",
       "      <td>0.979</td>\n",
       "      <td>0.980</td>\n",
       "    </tr>\n",
       "    <tr>\n",
       "      <th>Recall</th>\n",
       "      <td>0.952</td>\n",
       "      <td>0.885</td>\n",
       "      <td>0.975</td>\n",
       "      <td>0.931</td>\n",
       "    </tr>\n",
       "    <tr>\n",
       "      <th>F1</th>\n",
       "      <td>0.965</td>\n",
       "      <td>0.930</td>\n",
       "      <td>0.977</td>\n",
       "      <td>0.955</td>\n",
       "    </tr>\n",
       "    <tr>\n",
       "      <th>Auc</th>\n",
       "      <td>0.583</td>\n",
       "      <td>0.582</td>\n",
       "      <td>0.575</td>\n",
       "      <td>0.586</td>\n",
       "    </tr>\n",
       "  </tbody>\n",
       "</table>\n",
       "</div>"
      ],
      "text/plain": [
       "           Logistic Regression  PCA+Logistic Regression  Decision tree  \\\n",
       "Accuracy                 0.933                    0.870          0.955   \n",
       "Precision                0.979                    0.980          0.979   \n",
       "Recall                   0.952                    0.885          0.975   \n",
       "F1                       0.965                    0.930          0.977   \n",
       "Auc                      0.583                    0.582          0.575   \n",
       "\n",
       "           PCA+Decision tree  \n",
       "Accuracy               0.913  \n",
       "Precision              0.980  \n",
       "Recall                 0.931  \n",
       "F1                     0.955  \n",
       "Auc                    0.586  "
      ]
     },
     "execution_count": 128,
     "metadata": {},
     "output_type": "execute_result"
    }
   ],
   "source": [
    "outcome_undersample['PCA+Decision tree']=[0.913,0.980,0.931,0.955,0.586]\n",
    "outcome_undersample"
   ]
  },
  {
   "cell_type": "markdown",
   "id": "dcd1b4e3",
   "metadata": {},
   "source": [
    "(5) Random Forest\n",
    "--"
   ]
  },
  {
   "cell_type": "code",
   "execution_count": 199,
   "id": "dd3f3b71",
   "metadata": {},
   "outputs": [],
   "source": [
    "param_grid=[{'randomforestclassifier__n_estimators': list(range(20,30))}]\n",
    "\n",
    "gs_RF_down = GridSearchCV(estimator=pipe_forest_o,\n",
    "                  param_grid=param_grid,\n",
    "                  scoring='f1',\n",
    "                  cv=5,\n",
    "                  n_jobs=-1)\n",
    "\n",
    "gs_RF_down = gs_RF_down.fit(train_data_X_bal_down, train_data_Y_bal_down)"
   ]
  },
  {
   "cell_type": "code",
   "execution_count": 200,
   "id": "7c5853a7",
   "metadata": {},
   "outputs": [
    {
     "name": "stdout",
     "output_type": "stream",
     "text": [
      "0.5329949336453684\n",
      "{'pca__n_components': 6, 'randomforestclassifier__n_estimators': 27}\n"
     ]
    }
   ],
   "source": [
    "print(gs_PCA_RF_down.best_score_)\n",
    "print(gs_PCA_RF_down.best_params_)"
   ]
  },
  {
   "cell_type": "code",
   "execution_count": 201,
   "id": "c3961870",
   "metadata": {},
   "outputs": [],
   "source": [
    "RF_down_best = gs_RF_down.best_estimator_"
   ]
  },
  {
   "cell_type": "code",
   "execution_count": 202,
   "id": "3f34f1c8",
   "metadata": {},
   "outputs": [],
   "source": [
    "warnings.filterwarnings(\"ignore\")\n",
    "Y_pred_RF_down_best = RF_down_best.predict(test_data_X)"
   ]
  },
  {
   "cell_type": "code",
   "execution_count": 203,
   "id": "2b07c4bd",
   "metadata": {},
   "outputs": [
    {
     "name": "stdout",
     "output_type": "stream",
     "text": [
      "Accuracy: 0.439\n",
      "Precision: 0.990\n",
      "Recall: 0.428\n",
      "F1: 0.598\n",
      "Auc: 0.633\n"
     ]
    }
   ],
   "source": [
    "print('Accuracy: %.3f' % RF_down_best.score(test_data_X, test_data_Y))\n",
    "print('Precision: %.3f' % precision_score(y_true=test_data_Y, y_pred=Y_pred_RF_down_best))\n",
    "print('Recall: %.3f' % recall_score(y_true=test_data_Y, y_pred=Y_pred_RF_down_best))\n",
    "print('F1: %.3f' % f1_score(y_true=test_data_Y, y_pred=Y_pred_RF_down_best))\n",
    "print('Auc: %.3f' % roc_auc_score(test_data_Y,Y_pred_RF_down_best))"
   ]
  },
  {
   "cell_type": "code",
   "execution_count": 204,
   "id": "38b3bd55",
   "metadata": {},
   "outputs": [
    {
     "data": {
      "image/png": "[encoded data removed]",
      "text/plain": [
       "<Figure size 180x180 with 1 Axes>"
      ]
     },
     "metadata": {
      "needs_background": "light"
     },
     "output_type": "display_data"
    }
   ],
   "source": [
    "confmat = confusion_matrix(y_true=test_data_Y, y_pred=Y_pred_RF_down_best)\n",
    "fig, ax = plt.subplots(figsize=(2.5, 2.5))\n",
    "ax.matshow(confmat, cmap=plt.cm.Blues, alpha=0.3)\n",
    "for i in range(confmat.shape[0]):\n",
    "    for j in range(confmat.shape[1]):\n",
    "        ax.text(x=j, y=i, s=confmat[i, j], va='center', ha='center')\n",
    "\n",
    "plt.xlabel('Predicted label')\n",
    "plt.ylabel('True label')\n",
    "\n",
    "plt.tight_layout()\n",
    "plt.show()"
   ]
  },
  {
   "cell_type": "code",
   "execution_count": 129,
   "id": "06e584d0",
   "metadata": {},
   "outputs": [
    {
     "data": {
      "text/html": [
       "<div>\n",
       "<style scoped>\n",
       "    .dataframe tbody tr th:only-of-type {\n",
       "        vertical-align: middle;\n",
       "    }\n",
       "\n",
       "    .dataframe tbody tr th {\n",
       "        vertical-align: top;\n",
       "    }\n",
       "\n",
       "    .dataframe thead th {\n",
       "        text-align: right;\n",
       "    }\n",
       "</style>\n",
       "<table border=\"1\" class=\"dataframe\">\n",
       "  <thead>\n",
       "    <tr style=\"text-align: right;\">\n",
       "      <th></th>\n",
       "      <th>Logistic Regression</th>\n",
       "      <th>PCA+Logistic Regression</th>\n",
       "      <th>Decision tree</th>\n",
       "      <th>PCA+Decision tree</th>\n",
       "      <th>Random Forest</th>\n",
       "    </tr>\n",
       "  </thead>\n",
       "  <tbody>\n",
       "    <tr>\n",
       "      <th>Accuracy</th>\n",
       "      <td>0.933</td>\n",
       "      <td>0.870</td>\n",
       "      <td>0.955</td>\n",
       "      <td>0.913</td>\n",
       "      <td>0.439</td>\n",
       "    </tr>\n",
       "    <tr>\n",
       "      <th>Precision</th>\n",
       "      <td>0.979</td>\n",
       "      <td>0.980</td>\n",
       "      <td>0.979</td>\n",
       "      <td>0.980</td>\n",
       "      <td>0.990</td>\n",
       "    </tr>\n",
       "    <tr>\n",
       "      <th>Recall</th>\n",
       "      <td>0.952</td>\n",
       "      <td>0.885</td>\n",
       "      <td>0.975</td>\n",
       "      <td>0.931</td>\n",
       "      <td>0.428</td>\n",
       "    </tr>\n",
       "    <tr>\n",
       "      <th>F1</th>\n",
       "      <td>0.965</td>\n",
       "      <td>0.930</td>\n",
       "      <td>0.977</td>\n",
       "      <td>0.955</td>\n",
       "      <td>0.598</td>\n",
       "    </tr>\n",
       "    <tr>\n",
       "      <th>Auc</th>\n",
       "      <td>0.583</td>\n",
       "      <td>0.582</td>\n",
       "      <td>0.575</td>\n",
       "      <td>0.586</td>\n",
       "      <td>0.633</td>\n",
       "    </tr>\n",
       "  </tbody>\n",
       "</table>\n",
       "</div>"
      ],
      "text/plain": [
       "           Logistic Regression  PCA+Logistic Regression  Decision tree  \\\n",
       "Accuracy                 0.933                    0.870          0.955   \n",
       "Precision                0.979                    0.980          0.979   \n",
       "Recall                   0.952                    0.885          0.975   \n",
       "F1                       0.965                    0.930          0.977   \n",
       "Auc                      0.583                    0.582          0.575   \n",
       "\n",
       "           PCA+Decision tree  Random Forest  \n",
       "Accuracy               0.913          0.439  \n",
       "Precision              0.980          0.990  \n",
       "Recall                 0.931          0.428  \n",
       "F1                     0.955          0.598  \n",
       "Auc                    0.586          0.633  "
      ]
     },
     "execution_count": 129,
     "metadata": {},
     "output_type": "execute_result"
    }
   ],
   "source": [
    "outcome_undersample['Random Forest']=[0.439,0.990,0.428,0.598,0.633]\n",
    "outcome_undersample"
   ]
  },
  {
   "cell_type": "markdown",
   "id": "3f738b13",
   "metadata": {},
   "source": [
    "(6) PCA + Random Forest\n",
    "--"
   ]
  },
  {
   "cell_type": "code",
   "execution_count": 193,
   "id": "c07fe5c2",
   "metadata": {},
   "outputs": [],
   "source": [
    "n_components=[2,3,4,5,6]\n",
    "\n",
    "param_grid=[{'randomforestclassifier__n_estimators': list(range(20,30)),\n",
    "             'pca__n_components':n_components}]\n",
    "\n",
    "gs_PCA_RF_down = GridSearchCV(estimator=pipe_forest,\n",
    "                  param_grid=param_grid,\n",
    "                  scoring='f1',\n",
    "                  cv=5,\n",
    "                  n_jobs=-1)\n",
    "\n",
    "gs_PCA_RF_down = gs_PCA_RF_down.fit(train_data_X_bal_down, train_data_Y_bal_down)"
   ]
  },
  {
   "cell_type": "code",
   "execution_count": 194,
   "id": "fcab2a54",
   "metadata": {},
   "outputs": [
    {
     "name": "stdout",
     "output_type": "stream",
     "text": [
      "0.5329949336453684\n",
      "{'pca__n_components': 6, 'randomforestclassifier__n_estimators': 27}\n"
     ]
    }
   ],
   "source": [
    "print(gs_PCA_RF_down.best_score_)\n",
    "print(gs_PCA_RF_down.best_params_)"
   ]
  },
  {
   "cell_type": "code",
   "execution_count": 195,
   "id": "8e87da53",
   "metadata": {},
   "outputs": [],
   "source": [
    "PCA_RF_down_best = gs_PCA_RF_down.best_estimator_"
   ]
  },
  {
   "cell_type": "code",
   "execution_count": 196,
   "id": "f70f531f",
   "metadata": {},
   "outputs": [],
   "source": [
    "warnings.filterwarnings(\"ignore\")\n",
    "Y_pred_PCA_RF_down_best = PCA_RF_down_best.predict(test_data_X)"
   ]
  },
  {
   "cell_type": "code",
   "execution_count": 197,
   "id": "3281a967",
   "metadata": {},
   "outputs": [
    {
     "name": "stdout",
     "output_type": "stream",
     "text": [
      "Accuracy: 0.434\n",
      "Precision: 0.990\n",
      "Recall: 0.424\n",
      "F1: 0.594\n",
      "Auc: 0.629\n"
     ]
    }
   ],
   "source": [
    "print('Accuracy: %.3f' % PCA_RF_down_best.score(test_data_X, test_data_Y))\n",
    "print('Precision: %.3f' % precision_score(y_true=test_data_Y, y_pred=Y_pred_PCA_RF_down_best))\n",
    "print('Recall: %.3f' % recall_score(y_true=test_data_Y, y_pred=Y_pred_PCA_RF_down_best))\n",
    "print('F1: %.3f' % f1_score(y_true=test_data_Y, y_pred=Y_pred_PCA_RF_down_best))\n",
    "print('Auc: %.3f' % roc_auc_score(test_data_Y,Y_pred_PCA_RF_down_best))"
   ]
  },
  {
   "cell_type": "code",
   "execution_count": 198,
   "id": "a9d102ba",
   "metadata": {},
   "outputs": [
    {
     "data": {
      "image/png": "[encoded data removed]",
      "text/plain": [
       "<Figure size 180x180 with 1 Axes>"
      ]
     },
     "metadata": {
      "needs_background": "light"
     },
     "output_type": "display_data"
    }
   ],
   "source": [
    "confmat = confusion_matrix(y_true=test_data_Y, y_pred=Y_pred_PCA_RF_down_best)\n",
    "fig, ax = plt.subplots(figsize=(2.5, 2.5))\n",
    "ax.matshow(confmat, cmap=plt.cm.Blues, alpha=0.3)\n",
    "for i in range(confmat.shape[0]):\n",
    "    for j in range(confmat.shape[1]):\n",
    "        ax.text(x=j, y=i, s=confmat[i, j], va='center', ha='center')\n",
    "\n",
    "plt.xlabel('Predicted label')\n",
    "plt.ylabel('True label')\n",
    "\n",
    "plt.tight_layout()\n",
    "plt.show()"
   ]
  },
  {
   "cell_type": "code",
   "execution_count": 130,
   "id": "e4432317",
   "metadata": {},
   "outputs": [
    {
     "data": {
      "text/html": [
       "<div>\n",
       "<style scoped>\n",
       "    .dataframe tbody tr th:only-of-type {\n",
       "        vertical-align: middle;\n",
       "    }\n",
       "\n",
       "    .dataframe tbody tr th {\n",
       "        vertical-align: top;\n",
       "    }\n",
       "\n",
       "    .dataframe thead th {\n",
       "        text-align: right;\n",
       "    }\n",
       "</style>\n",
       "<table border=\"1\" class=\"dataframe\">\n",
       "  <thead>\n",
       "    <tr style=\"text-align: right;\">\n",
       "      <th></th>\n",
       "      <th>Logistic Regression</th>\n",
       "      <th>PCA+Logistic Regression</th>\n",
       "      <th>Decision tree</th>\n",
       "      <th>PCA+Decision tree</th>\n",
       "      <th>Random Forest</th>\n",
       "      <th>PCA+Random Forest</th>\n",
       "    </tr>\n",
       "  </thead>\n",
       "  <tbody>\n",
       "    <tr>\n",
       "      <th>Accuracy</th>\n",
       "      <td>0.933</td>\n",
       "      <td>0.870</td>\n",
       "      <td>0.955</td>\n",
       "      <td>0.913</td>\n",
       "      <td>0.439</td>\n",
       "      <td>0.434</td>\n",
       "    </tr>\n",
       "    <tr>\n",
       "      <th>Precision</th>\n",
       "      <td>0.979</td>\n",
       "      <td>0.980</td>\n",
       "      <td>0.979</td>\n",
       "      <td>0.980</td>\n",
       "      <td>0.990</td>\n",
       "      <td>0.990</td>\n",
       "    </tr>\n",
       "    <tr>\n",
       "      <th>Recall</th>\n",
       "      <td>0.952</td>\n",
       "      <td>0.885</td>\n",
       "      <td>0.975</td>\n",
       "      <td>0.931</td>\n",
       "      <td>0.428</td>\n",
       "      <td>0.424</td>\n",
       "    </tr>\n",
       "    <tr>\n",
       "      <th>F1</th>\n",
       "      <td>0.965</td>\n",
       "      <td>0.930</td>\n",
       "      <td>0.977</td>\n",
       "      <td>0.955</td>\n",
       "      <td>0.598</td>\n",
       "      <td>0.594</td>\n",
       "    </tr>\n",
       "    <tr>\n",
       "      <th>Auc</th>\n",
       "      <td>0.583</td>\n",
       "      <td>0.582</td>\n",
       "      <td>0.575</td>\n",
       "      <td>0.586</td>\n",
       "      <td>0.633</td>\n",
       "      <td>0.629</td>\n",
       "    </tr>\n",
       "  </tbody>\n",
       "</table>\n",
       "</div>"
      ],
      "text/plain": [
       "           Logistic Regression  PCA+Logistic Regression  Decision tree  \\\n",
       "Accuracy                 0.933                    0.870          0.955   \n",
       "Precision                0.979                    0.980          0.979   \n",
       "Recall                   0.952                    0.885          0.975   \n",
       "F1                       0.965                    0.930          0.977   \n",
       "Auc                      0.583                    0.582          0.575   \n",
       "\n",
       "           PCA+Decision tree  Random Forest  PCA+Random Forest  \n",
       "Accuracy               0.913          0.439              0.434  \n",
       "Precision              0.980          0.990              0.990  \n",
       "Recall                 0.931          0.428              0.424  \n",
       "F1                     0.955          0.598              0.594  \n",
       "Auc                    0.586          0.633              0.629  "
      ]
     },
     "execution_count": 130,
     "metadata": {},
     "output_type": "execute_result"
    }
   ],
   "source": [
    "outcome_undersample['PCA+Random Forest']=[0.434,0.990,0.424,0.594,0.629]\n",
    "outcome_undersample"
   ]
  },
  {
   "cell_type": "markdown",
   "id": "568a3dff",
   "metadata": {},
   "source": [
    "(7) NN\n",
    "--"
   ]
  },
  {
   "cell_type": "code",
   "execution_count": 36,
   "id": "5b8e8144",
   "metadata": {},
   "outputs": [],
   "source": [
    "from sklearn import neural_network\n",
    "\n",
    "pipe_nn = make_pipeline(StandardScaler(),\n",
    "                        neural_network.MLPClassifier(learning_rate='adaptive', warm_start=True))\n",
    "\n",
    "#param_range = [0.0001, 0.001, 0.01, 0.1, 1.0, 10.0, 100.0, 1000.0]\n",
    "\n",
    "param_grid = [{'mlpclassifier__activation':['identity', 'logistic', 'tanh', 'relu']}]\n",
    "\n",
    "gs_nn_down = GridSearchCV(estimator=pipe_nn, \n",
    "                  param_grid=param_grid, \n",
    "                  scoring='f1', \n",
    "                  refit=True,\n",
    "                  cv=10,\n",
    "                  n_jobs =-1)\n",
    "\n",
    "gs_nn_down = gs_nn_down.fit(train_data_X_bal_down, train_data_Y_bal_down)"
   ]
  },
  {
   "cell_type": "code",
   "execution_count": 37,
   "id": "ae8924fb",
   "metadata": {},
   "outputs": [
    {
     "name": "stdout",
     "output_type": "stream",
     "text": [
      "0.6647972883526774\n",
      "{'mlpclassifier__activation': 'identity'}\n"
     ]
    }
   ],
   "source": [
    "print(gs_nn_down.best_score_)\n",
    "print(gs_nn_down.best_params_)"
   ]
  },
  {
   "cell_type": "code",
   "execution_count": 38,
   "id": "04fcc236",
   "metadata": {},
   "outputs": [],
   "source": [
    "nn_down_best = gs_nn_down.best_estimator_"
   ]
  },
  {
   "cell_type": "code",
   "execution_count": 39,
   "id": "d1c36fbb",
   "metadata": {},
   "outputs": [],
   "source": [
    "Y_pred_nn_down_best = nn_down_best.predict(test_data_X)"
   ]
  },
  {
   "cell_type": "code",
   "execution_count": 40,
   "id": "6fd5fa2b",
   "metadata": {},
   "outputs": [
    {
     "name": "stdout",
     "output_type": "stream",
     "text": [
      "Accuracy: 0.885\n",
      "Precision: 0.980\n",
      "Recall: 0.901\n",
      "F1: 0.939\n",
      "Auc: 0.588\n"
     ]
    }
   ],
   "source": [
    "from sklearn.metrics import precision_score, recall_score, f1_score, roc_auc_score\n",
    "print('Accuracy: %.3f' % nn_down_best.score(test_data_X, test_data_Y))\n",
    "print('Precision: %.3f' % precision_score(y_true=test_data_Y, y_pred=Y_pred_nn_down_best))\n",
    "print('Recall: %.3f' % recall_score(y_true=test_data_Y, y_pred=Y_pred_nn_down_best))\n",
    "print('F1: %.3f' % f1_score(y_true=test_data_Y, y_pred=Y_pred_nn_down_best))\n",
    "print('Auc: %.3f' % roc_auc_score(test_data_Y,Y_pred_nn_down_best))"
   ]
  },
  {
   "cell_type": "code",
   "execution_count": 41,
   "id": "5b74b47a",
   "metadata": {},
   "outputs": [
    {
     "data": {
      "image/png": "[encoded data removed]",
      "text/plain": [
       "<Figure size 180x180 with 1 Axes>"
      ]
     },
     "metadata": {
      "needs_background": "light"
     },
     "output_type": "display_data"
    }
   ],
   "source": [
    "from sklearn.metrics import confusion_matrix\n",
    "\n",
    "confmat = confusion_matrix(y_true=test_data_Y, y_pred=Y_pred_nn_down_best)\n",
    "fig, ax = plt.subplots(figsize=(2.5, 2.5))\n",
    "ax.matshow(confmat, cmap=plt.cm.Blues, alpha=0.3)\n",
    "for i in range(confmat.shape[0]):\n",
    "    for j in range(confmat.shape[1]):\n",
    "        ax.text(x=j, y=i, s=confmat[i, j], va='center', ha='center')\n",
    "\n",
    "plt.xlabel('Predicted label')\n",
    "plt.ylabel('True label')\n",
    "\n",
    "plt.tight_layout()\n",
    "plt.show()"
   ]
  },
  {
   "cell_type": "code",
   "execution_count": 131,
   "id": "03f36c9b",
   "metadata": {},
   "outputs": [
    {
     "data": {
      "text/html": [
       "<div>\n",
       "<style scoped>\n",
       "    .dataframe tbody tr th:only-of-type {\n",
       "        vertical-align: middle;\n",
       "    }\n",
       "\n",
       "    .dataframe tbody tr th {\n",
       "        vertical-align: top;\n",
       "    }\n",
       "\n",
       "    .dataframe thead th {\n",
       "        text-align: right;\n",
       "    }\n",
       "</style>\n",
       "<table border=\"1\" class=\"dataframe\">\n",
       "  <thead>\n",
       "    <tr style=\"text-align: right;\">\n",
       "      <th></th>\n",
       "      <th>Logistic Regression</th>\n",
       "      <th>PCA+Logistic Regression</th>\n",
       "      <th>Decision tree</th>\n",
       "      <th>PCA+Decision tree</th>\n",
       "      <th>Random Forest</th>\n",
       "      <th>PCA+Random Forest</th>\n",
       "      <th>NN</th>\n",
       "    </tr>\n",
       "  </thead>\n",
       "  <tbody>\n",
       "    <tr>\n",
       "      <th>Accuracy</th>\n",
       "      <td>0.933</td>\n",
       "      <td>0.870</td>\n",
       "      <td>0.955</td>\n",
       "      <td>0.913</td>\n",
       "      <td>0.439</td>\n",
       "      <td>0.434</td>\n",
       "      <td>0.885</td>\n",
       "    </tr>\n",
       "    <tr>\n",
       "      <th>Precision</th>\n",
       "      <td>0.979</td>\n",
       "      <td>0.980</td>\n",
       "      <td>0.979</td>\n",
       "      <td>0.980</td>\n",
       "      <td>0.990</td>\n",
       "      <td>0.990</td>\n",
       "      <td>0.980</td>\n",
       "    </tr>\n",
       "    <tr>\n",
       "      <th>Recall</th>\n",
       "      <td>0.952</td>\n",
       "      <td>0.885</td>\n",
       "      <td>0.975</td>\n",
       "      <td>0.931</td>\n",
       "      <td>0.428</td>\n",
       "      <td>0.424</td>\n",
       "      <td>0.901</td>\n",
       "    </tr>\n",
       "    <tr>\n",
       "      <th>F1</th>\n",
       "      <td>0.965</td>\n",
       "      <td>0.930</td>\n",
       "      <td>0.977</td>\n",
       "      <td>0.955</td>\n",
       "      <td>0.598</td>\n",
       "      <td>0.594</td>\n",
       "      <td>0.939</td>\n",
       "    </tr>\n",
       "    <tr>\n",
       "      <th>Auc</th>\n",
       "      <td>0.583</td>\n",
       "      <td>0.582</td>\n",
       "      <td>0.575</td>\n",
       "      <td>0.586</td>\n",
       "      <td>0.633</td>\n",
       "      <td>0.629</td>\n",
       "      <td>0.588</td>\n",
       "    </tr>\n",
       "  </tbody>\n",
       "</table>\n",
       "</div>"
      ],
      "text/plain": [
       "           Logistic Regression  PCA+Logistic Regression  Decision tree  \\\n",
       "Accuracy                 0.933                    0.870          0.955   \n",
       "Precision                0.979                    0.980          0.979   \n",
       "Recall                   0.952                    0.885          0.975   \n",
       "F1                       0.965                    0.930          0.977   \n",
       "Auc                      0.583                    0.582          0.575   \n",
       "\n",
       "           PCA+Decision tree  Random Forest  PCA+Random Forest     NN  \n",
       "Accuracy               0.913          0.439              0.434  0.885  \n",
       "Precision              0.980          0.990              0.990  0.980  \n",
       "Recall                 0.931          0.428              0.424  0.901  \n",
       "F1                     0.955          0.598              0.594  0.939  \n",
       "Auc                    0.586          0.633              0.629  0.588  "
      ]
     },
     "execution_count": 131,
     "metadata": {},
     "output_type": "execute_result"
    }
   ],
   "source": [
    "outcome_undersample['NN']=[0.885,0.980,0.901,0.939,0.588]\n",
    "outcome_undersample"
   ]
  },
  {
   "cell_type": "markdown",
   "id": "db0274e4",
   "metadata": {},
   "source": [
    "(8) Score card model\n",
    "--"
   ]
  },
  {
   "cell_type": "code",
   "execution_count": 36,
   "id": "67a08cc8",
   "metadata": {},
   "outputs": [
    {
     "data": {
      "text/plain": [
       "LogisticRegression(multi_class='ovr', random_state=1)"
      ]
     },
     "execution_count": 36,
     "metadata": {},
     "output_type": "execute_result"
    }
   ],
   "source": [
    "#traing model with logistic regression\n",
    "from sklearn.model_selection import train_test_split\n",
    "X_train, y_train = data2.iloc[:, [0,1,2,3,4,5]].values, data2.iloc[:,6].values\n",
    "from imblearn.under_sampling import RandomUnderSampler\n",
    "ros=RandomUnderSampler(random_state=123)\n",
    "X_undersampled,y_undersampled=ros.fit_resample(X_train,y_train)\n",
    "from sklearn.linear_model import LogisticRegression\n",
    "lr = LogisticRegression(random_state=1, solver='lbfgs', multi_class='ovr')\n",
    "lr.fit(X_undersampled,y_undersampled)"
   ]
  },
  {
   "cell_type": "code",
   "execution_count": 37,
   "id": "3f6d7b4b",
   "metadata": {},
   "outputs": [
    {
     "name": "stdout",
     "output_type": "stream",
     "text": [
      "Accuracy: 0.485\n",
      "precision: 0.476\n",
      "recall: 0.991\n",
      "F1: 0.643\n",
      "Auc: 0.71\n"
     ]
    }
   ],
   "source": [
    "from sklearn.metrics import precision_score, recall_score, f1_score , roc_auc_score\n",
    "\n",
    "X_test, y_test = data2.iloc[:, [0,1,2,3,4,5]].values, data2.iloc[:, 6].values\n",
    "y_pred =lr.predict(X_train)\n",
    "print('Accuracy: %.3f' % lr.score(X_test, y_test))\n",
    "\n",
    "precision = precision_score(y_pred, y_test)\n",
    "print('precision: %.3f' % precision)\n",
    "\n",
    "recall = recall_score(y_pred, y_test)\n",
    "print('recall: %.3f' % recall)\n",
    "\n",
    "f1 = f1_score(y_pred, y_test)\n",
    "print('F1: %.3f' % f1)\n",
    "\n",
    "y_pred_proba = lr.predict_proba(X_test)[:, 1]\n",
    "auc = roc_auc_score(y_test, y_pred_proba)\n",
    "print(\"Auc: {:.2f}\".format(auc))\n",
    "\n"
   ]
  },
  {
   "cell_type": "code",
   "execution_count": 38,
   "id": "a54f9bf8",
   "metadata": {},
   "outputs": [
    {
     "data": {
      "image/png": "[encoded data removed]",
      "text/plain": [
       "<Figure size 180x180 with 1 Axes>"
      ]
     },
     "metadata": {
      "needs_background": "light"
     },
     "output_type": "display_data"
    }
   ],
   "source": [
    "from sklearn.metrics import confusion_matrix\n",
    "confmat = confusion_matrix(y_test, y_pred)\n",
    "fig, ax = plt.subplots(figsize=(2.5, 2.5))\n",
    "ax.matshow(confmat, cmap=plt.cm.Blues, alpha=0.3)\n",
    "for i in range(confmat.shape[0]):\n",
    "    for j in range(confmat.shape[1]):\n",
    "        ax.text(x=j, y=i, s=confmat[i, j], va='center', ha='center')\n",
    "\n",
    "plt.xlabel('Predicted label')\n",
    "plt.ylabel('True label')\n",
    "\n",
    "plt.tight_layout()\n",
    "plt.show()"
   ]
  },
  {
   "cell_type": "code",
   "execution_count": 132,
   "id": "33e15a3d",
   "metadata": {},
   "outputs": [
    {
     "data": {
      "text/html": [
       "<div>\n",
       "<style scoped>\n",
       "    .dataframe tbody tr th:only-of-type {\n",
       "        vertical-align: middle;\n",
       "    }\n",
       "\n",
       "    .dataframe tbody tr th {\n",
       "        vertical-align: top;\n",
       "    }\n",
       "\n",
       "    .dataframe thead th {\n",
       "        text-align: right;\n",
       "    }\n",
       "</style>\n",
       "<table border=\"1\" class=\"dataframe\">\n",
       "  <thead>\n",
       "    <tr style=\"text-align: right;\">\n",
       "      <th></th>\n",
       "      <th>Logistic Regression</th>\n",
       "      <th>PCA+Logistic Regression</th>\n",
       "      <th>Decision tree</th>\n",
       "      <th>PCA+Decision tree</th>\n",
       "      <th>Random Forest</th>\n",
       "      <th>PCA+Random Forest</th>\n",
       "      <th>NN</th>\n",
       "      <th>Score card model</th>\n",
       "    </tr>\n",
       "  </thead>\n",
       "  <tbody>\n",
       "    <tr>\n",
       "      <th>Accuracy</th>\n",
       "      <td>0.933</td>\n",
       "      <td>0.870</td>\n",
       "      <td>0.955</td>\n",
       "      <td>0.913</td>\n",
       "      <td>0.439</td>\n",
       "      <td>0.434</td>\n",
       "      <td>0.885</td>\n",
       "      <td>0.485</td>\n",
       "    </tr>\n",
       "    <tr>\n",
       "      <th>Precision</th>\n",
       "      <td>0.979</td>\n",
       "      <td>0.980</td>\n",
       "      <td>0.979</td>\n",
       "      <td>0.980</td>\n",
       "      <td>0.990</td>\n",
       "      <td>0.990</td>\n",
       "      <td>0.980</td>\n",
       "      <td>0.476</td>\n",
       "    </tr>\n",
       "    <tr>\n",
       "      <th>Recall</th>\n",
       "      <td>0.952</td>\n",
       "      <td>0.885</td>\n",
       "      <td>0.975</td>\n",
       "      <td>0.931</td>\n",
       "      <td>0.428</td>\n",
       "      <td>0.424</td>\n",
       "      <td>0.901</td>\n",
       "      <td>0.991</td>\n",
       "    </tr>\n",
       "    <tr>\n",
       "      <th>F1</th>\n",
       "      <td>0.965</td>\n",
       "      <td>0.930</td>\n",
       "      <td>0.977</td>\n",
       "      <td>0.955</td>\n",
       "      <td>0.598</td>\n",
       "      <td>0.594</td>\n",
       "      <td>0.939</td>\n",
       "      <td>0.643</td>\n",
       "    </tr>\n",
       "    <tr>\n",
       "      <th>Auc</th>\n",
       "      <td>0.583</td>\n",
       "      <td>0.582</td>\n",
       "      <td>0.575</td>\n",
       "      <td>0.586</td>\n",
       "      <td>0.633</td>\n",
       "      <td>0.629</td>\n",
       "      <td>0.588</td>\n",
       "      <td>0.710</td>\n",
       "    </tr>\n",
       "  </tbody>\n",
       "</table>\n",
       "</div>"
      ],
      "text/plain": [
       "           Logistic Regression  PCA+Logistic Regression  Decision tree  \\\n",
       "Accuracy                 0.933                    0.870          0.955   \n",
       "Precision                0.979                    0.980          0.979   \n",
       "Recall                   0.952                    0.885          0.975   \n",
       "F1                       0.965                    0.930          0.977   \n",
       "Auc                      0.583                    0.582          0.575   \n",
       "\n",
       "           PCA+Decision tree  Random Forest  PCA+Random Forest     NN  \\\n",
       "Accuracy               0.913          0.439              0.434  0.885   \n",
       "Precision              0.980          0.990              0.990  0.980   \n",
       "Recall                 0.931          0.428              0.424  0.901   \n",
       "F1                     0.955          0.598              0.594  0.939   \n",
       "Auc                    0.586          0.633              0.629  0.588   \n",
       "\n",
       "           Score card model  \n",
       "Accuracy              0.485  \n",
       "Precision             0.476  \n",
       "Recall                0.991  \n",
       "F1                    0.643  \n",
       "Auc                   0.710  "
      ]
     },
     "execution_count": 132,
     "metadata": {},
     "output_type": "execute_result"
    }
   ],
   "source": [
    "outcome_undersample['Score card model']=[0.485,0.476,0.991,0.643,0.71]\n",
    "outcome_undersample"
   ]
  },
  {
   "cell_type": "markdown",
   "id": "086339f1",
   "metadata": {},
   "source": [
    "# (9) Cloglog model"
   ]
  },
  {
   "cell_type": "code",
   "execution_count": 138,
   "id": "bb2fd380",
   "metadata": {},
   "outputs": [
    {
     "name": "stdout",
     "output_type": "stream",
     "text": [
      "                 Generalized Linear Model Regression Results                  \n",
      "==============================================================================\n",
      "Dep. Variable:                  event   No. Observations:                12064\n",
      "Model:                            GLM   Df Residuals:                    12055\n",
      "Model Family:                Binomial   Df Model:                            8\n",
      "Link Function:                cloglog   Scale:                          1.0000\n",
      "Method:                          IRLS   Log-Likelihood:                -7805.6\n",
      "Date:                Sun, 30 Apr 2023   Deviance:                       15611.\n",
      "Time:                        20:00:51   Pearson chi2:                 1.20e+04\n",
      "No. Iterations:                     9   Pseudo R-squ. (CS):            0.08814\n",
      "Covariance Type:            nonrobust                                         \n",
      "==============================================================================\n",
      "                 coef    std err          z      P>|z|      [0.025      0.975]\n",
      "------------------------------------------------------------------------------\n",
      "const         -1.8683      0.209     -8.947      0.000      -2.278      -1.459\n",
      "var1          -0.0299      0.006     -5.285      0.000      -0.041      -0.019\n",
      "var2        5.735e-09   1.42e-09      4.042      0.000    2.95e-09    8.52e-09\n",
      "var3           0.0018      0.001      2.573      0.010       0.000       0.003\n",
      "var4           0.1380      0.007     20.877      0.000       0.125       0.151\n",
      "var5        2.521e-05   3.28e-05      0.769      0.442   -3.91e-05    8.95e-05\n",
      "var6          -0.0307      0.003     -9.273      0.000      -0.037      -0.024\n",
      "var7          -0.0061      0.005     -1.150      0.250      -0.016       0.004\n",
      "var8           0.0142      0.002      6.938      0.000       0.010       0.018\n",
      "==============================================================================\n"
     ]
    }
   ],
   "source": [
    "import statsmodels.api as sm\n",
    "ros=RandomUnderSampler(random_state=123)\n",
    "X_downsampled,Y_downsampled=ros.fit_resample(train_data_X,train_data_Y)    \n",
    "model = sm.GLM(Y_downsampled, sm.add_constant(X_downsampled), family=sm.families.Binomial(link=sm.families.links.cloglog()))\n",
    "result = model.fit()\n",
    "\n",
    "print(result.summary())\n",
    "\n",
    "\n",
    "y_pred = result.predict(sm.add_constant(test_data_X))\n",
    "y_pred = [1 if val > 0.5 else 0 for val in y_pred]"
   ]
  },
  {
   "cell_type": "code",
   "execution_count": 140,
   "id": "fe5f1af0",
   "metadata": {},
   "outputs": [
    {
     "name": "stdout",
     "output_type": "stream",
     "text": [
      "Accuracy: 0.8332747157045002\n",
      "precision: 0.979\n",
      "recall: 0.847\n",
      "F1: 0.908\n"
     ]
    }
   ],
   "source": [
    "from sklearn.metrics import precision_score, recall_score, f1_score\n",
    "\n",
    "from sklearn.metrics import accuracy_score\n",
    "\n",
    "accuracy = accuracy_score(y_test, y_pred)\n",
    "print(\"Accuracy:\", accuracy)\n",
    "\n",
    "precision = precision_score(y_test, y_pred)\n",
    "print('precision: %.3f' % precision)\n",
    "\n",
    "recall = recall_score(y_test, y_pred)\n",
    "print('recall: %.3f' % recall)\n",
    "\n",
    "f1 = f1_score(y_test, y_pred)\n",
    "print('F1: %.3f' % f1)\n",
    "\n"
   ]
  },
  {
   "cell_type": "code",
   "execution_count": 88,
   "id": "957208da",
   "metadata": {},
   "outputs": [
    {
     "data": {
      "image/png": "[encoded data removed]",
      "text/plain": [
       "<Figure size 180x180 with 1 Axes>"
      ]
     },
     "metadata": {
      "needs_background": "light"
     },
     "output_type": "display_data"
    }
   ],
   "source": [
    "from sklearn.metrics import confusion_matrix\n",
    "confmat = confusion_matrix(y_test, y_pred)\n",
    "fig, ax = plt.subplots(figsize=(2.5, 2.5))\n",
    "ax.matshow(confmat, cmap=plt.cm.Blues, alpha=0.3)\n",
    "for i in range(confmat.shape[0]):\n",
    "    for j in range(confmat.shape[1]):\n",
    "        ax.text(x=j, y=i, s=confmat[i, j], va='center', ha='center')\n",
    "\n",
    "plt.xlabel('Predicted label')\n",
    "plt.ylabel('True label')\n",
    "\n",
    "plt.tight_layout()\n",
    "plt.show()"
   ]
  },
  {
   "cell_type": "code",
   "execution_count": 134,
   "id": "9c271a55",
   "metadata": {},
   "outputs": [
    {
     "data": {
      "text/html": [
       "<div>\n",
       "<style scoped>\n",
       "    .dataframe tbody tr th:only-of-type {\n",
       "        vertical-align: middle;\n",
       "    }\n",
       "\n",
       "    .dataframe tbody tr th {\n",
       "        vertical-align: top;\n",
       "    }\n",
       "\n",
       "    .dataframe thead th {\n",
       "        text-align: right;\n",
       "    }\n",
       "</style>\n",
       "<table border=\"1\" class=\"dataframe\">\n",
       "  <thead>\n",
       "    <tr style=\"text-align: right;\">\n",
       "      <th></th>\n",
       "      <th>Logistic Regression</th>\n",
       "      <th>PCA+Logistic Regression</th>\n",
       "      <th>Decision tree</th>\n",
       "      <th>PCA+Decision tree</th>\n",
       "      <th>Random Forest</th>\n",
       "      <th>PCA+Random Forest</th>\n",
       "      <th>NN</th>\n",
       "      <th>Score card model</th>\n",
       "      <th>Cloglog model</th>\n",
       "    </tr>\n",
       "  </thead>\n",
       "  <tbody>\n",
       "    <tr>\n",
       "      <th>Accuracy</th>\n",
       "      <td>0.933</td>\n",
       "      <td>0.870</td>\n",
       "      <td>0.955</td>\n",
       "      <td>0.913</td>\n",
       "      <td>0.439</td>\n",
       "      <td>0.434</td>\n",
       "      <td>0.885</td>\n",
       "      <td>0.485</td>\n",
       "      <td>0.833</td>\n",
       "    </tr>\n",
       "    <tr>\n",
       "      <th>Precision</th>\n",
       "      <td>0.979</td>\n",
       "      <td>0.980</td>\n",
       "      <td>0.979</td>\n",
       "      <td>0.980</td>\n",
       "      <td>0.990</td>\n",
       "      <td>0.990</td>\n",
       "      <td>0.980</td>\n",
       "      <td>0.476</td>\n",
       "      <td>0.979</td>\n",
       "    </tr>\n",
       "    <tr>\n",
       "      <th>Recall</th>\n",
       "      <td>0.952</td>\n",
       "      <td>0.885</td>\n",
       "      <td>0.975</td>\n",
       "      <td>0.931</td>\n",
       "      <td>0.428</td>\n",
       "      <td>0.424</td>\n",
       "      <td>0.901</td>\n",
       "      <td>0.991</td>\n",
       "      <td>0.847</td>\n",
       "    </tr>\n",
       "    <tr>\n",
       "      <th>F1</th>\n",
       "      <td>0.965</td>\n",
       "      <td>0.930</td>\n",
       "      <td>0.977</td>\n",
       "      <td>0.955</td>\n",
       "      <td>0.598</td>\n",
       "      <td>0.594</td>\n",
       "      <td>0.939</td>\n",
       "      <td>0.643</td>\n",
       "      <td>0.908</td>\n",
       "    </tr>\n",
       "    <tr>\n",
       "      <th>Auc</th>\n",
       "      <td>0.583</td>\n",
       "      <td>0.582</td>\n",
       "      <td>0.575</td>\n",
       "      <td>0.586</td>\n",
       "      <td>0.633</td>\n",
       "      <td>0.629</td>\n",
       "      <td>0.588</td>\n",
       "      <td>0.710</td>\n",
       "      <td>NaN</td>\n",
       "    </tr>\n",
       "  </tbody>\n",
       "</table>\n",
       "</div>"
      ],
      "text/plain": [
       "           Logistic Regression  PCA+Logistic Regression  Decision tree  \\\n",
       "Accuracy                 0.933                    0.870          0.955   \n",
       "Precision                0.979                    0.980          0.979   \n",
       "Recall                   0.952                    0.885          0.975   \n",
       "F1                       0.965                    0.930          0.977   \n",
       "Auc                      0.583                    0.582          0.575   \n",
       "\n",
       "           PCA+Decision tree  Random Forest  PCA+Random Forest     NN  \\\n",
       "Accuracy               0.913          0.439              0.434  0.885   \n",
       "Precision              0.980          0.990              0.990  0.980   \n",
       "Recall                 0.931          0.428              0.424  0.901   \n",
       "F1                     0.955          0.598              0.594  0.939   \n",
       "Auc                    0.586          0.633              0.629  0.588   \n",
       "\n",
       "           Score card model  Cloglog model  \n",
       "Accuracy              0.485          0.833  \n",
       "Precision             0.476          0.979  \n",
       "Recall                0.991          0.847  \n",
       "F1                    0.643          0.908  \n",
       "Auc                   0.710            NaN  "
      ]
     },
     "execution_count": 134,
     "metadata": {},
     "output_type": "execute_result"
    }
   ],
   "source": [
    "outcome_undersample['Cloglog model']=[0.833,0.979,0.847,0.908,None]\n",
    "outcome_undersample"
   ]
  },
  {
   "cell_type": "markdown",
   "id": "df5fd044",
   "metadata": {},
   "source": [
    "# Section 3: Results display"
   ]
  },
  {
   "cell_type": "markdown",
   "id": "92a43ed2",
   "metadata": {},
   "source": [
    "## 3.1 Model results with oversampling"
   ]
  },
  {
   "cell_type": "code",
   "execution_count": 136,
   "id": "95ff15e3",
   "metadata": {},
   "outputs": [
    {
     "data": {
      "text/html": [
       "<div>\n",
       "<style scoped>\n",
       "    .dataframe tbody tr th:only-of-type {\n",
       "        vertical-align: middle;\n",
       "    }\n",
       "\n",
       "    .dataframe tbody tr th {\n",
       "        vertical-align: top;\n",
       "    }\n",
       "\n",
       "    .dataframe thead th {\n",
       "        text-align: right;\n",
       "    }\n",
       "</style>\n",
       "<table border=\"1\" class=\"dataframe\">\n",
       "  <thead>\n",
       "    <tr style=\"text-align: right;\">\n",
       "      <th></th>\n",
       "      <th>Logistic Regression</th>\n",
       "      <th>PCA + Logistic Regression</th>\n",
       "      <th>Decision Tree</th>\n",
       "      <th>PCA+Decision Tree</th>\n",
       "      <th>Random Forest</th>\n",
       "      <th>PCA+Random Forest</th>\n",
       "      <th>NN</th>\n",
       "      <th>Score card model</th>\n",
       "      <th>Cloglog model</th>\n",
       "    </tr>\n",
       "  </thead>\n",
       "  <tbody>\n",
       "    <tr>\n",
       "      <th>Accuracy</th>\n",
       "      <td>0.930</td>\n",
       "      <td>0.885</td>\n",
       "      <td>0.563</td>\n",
       "      <td>0.562</td>\n",
       "      <td>0.567</td>\n",
       "      <td>0.565</td>\n",
       "      <td>0.849</td>\n",
       "      <td>0.499</td>\n",
       "      <td>0.833</td>\n",
       "    </tr>\n",
       "    <tr>\n",
       "      <th>Precision</th>\n",
       "      <td>0.979</td>\n",
       "      <td>0.980</td>\n",
       "      <td>0.983</td>\n",
       "      <td>0.982</td>\n",
       "      <td>0.982</td>\n",
       "      <td>0.982</td>\n",
       "      <td>0.979</td>\n",
       "      <td>0.490</td>\n",
       "      <td>0.979</td>\n",
       "    </tr>\n",
       "    <tr>\n",
       "      <th>Recall</th>\n",
       "      <td>0.948</td>\n",
       "      <td>0.900</td>\n",
       "      <td>0.562</td>\n",
       "      <td>0.561</td>\n",
       "      <td>0.566</td>\n",
       "      <td>0.564</td>\n",
       "      <td>0.863</td>\n",
       "      <td>0.990</td>\n",
       "      <td>0.847</td>\n",
       "    </tr>\n",
       "    <tr>\n",
       "      <th>F1</th>\n",
       "      <td>0.964</td>\n",
       "      <td>0.938</td>\n",
       "      <td>0.715</td>\n",
       "      <td>0.714</td>\n",
       "      <td>0.718</td>\n",
       "      <td>0.717</td>\n",
       "      <td>0.917</td>\n",
       "      <td>0.656</td>\n",
       "      <td>0.908</td>\n",
       "    </tr>\n",
       "    <tr>\n",
       "      <th>Auc</th>\n",
       "      <td>0.586</td>\n",
       "      <td>0.589</td>\n",
       "      <td>0.587</td>\n",
       "      <td>0.583</td>\n",
       "      <td>0.586</td>\n",
       "      <td>0.585</td>\n",
       "      <td>0.578</td>\n",
       "      <td>0.710</td>\n",
       "      <td>NaN</td>\n",
       "    </tr>\n",
       "  </tbody>\n",
       "</table>\n",
       "</div>"
      ],
      "text/plain": [
       "           Logistic Regression  PCA + Logistic Regression  Decision Tree  \\\n",
       "Accuracy                 0.930                      0.885          0.563   \n",
       "Precision                0.979                      0.980          0.983   \n",
       "Recall                   0.948                      0.900          0.562   \n",
       "F1                       0.964                      0.938          0.715   \n",
       "Auc                      0.586                      0.589          0.587   \n",
       "\n",
       "           PCA+Decision Tree  Random Forest  PCA+Random Forest     NN  \\\n",
       "Accuracy               0.562          0.567              0.565  0.849   \n",
       "Precision              0.982          0.982              0.982  0.979   \n",
       "Recall                 0.561          0.566              0.564  0.863   \n",
       "F1                     0.714          0.718              0.717  0.917   \n",
       "Auc                    0.583          0.586              0.585  0.578   \n",
       "\n",
       "           Score card model  Cloglog model  \n",
       "Accuracy              0.499          0.833  \n",
       "Precision             0.490          0.979  \n",
       "Recall                0.990          0.847  \n",
       "F1                    0.656          0.908  \n",
       "Auc                   0.710            NaN  "
      ]
     },
     "execution_count": 136,
     "metadata": {},
     "output_type": "execute_result"
    }
   ],
   "source": [
    "outcome_oversample.name = 'Model results with oversampling'\n",
    "outcome_oversample"
   ]
  },
  {
   "cell_type": "markdown",
   "id": "f7cea5a2",
   "metadata": {},
   "source": [
    "## 3.2 Model results with undersampling"
   ]
  },
  {
   "cell_type": "code",
   "execution_count": 137,
   "id": "f5116f71",
   "metadata": {},
   "outputs": [
    {
     "data": {
      "text/html": [
       "<div>\n",
       "<style scoped>\n",
       "    .dataframe tbody tr th:only-of-type {\n",
       "        vertical-align: middle;\n",
       "    }\n",
       "\n",
       "    .dataframe tbody tr th {\n",
       "        vertical-align: top;\n",
       "    }\n",
       "\n",
       "    .dataframe thead th {\n",
       "        text-align: right;\n",
       "    }\n",
       "</style>\n",
       "<table border=\"1\" class=\"dataframe\">\n",
       "  <thead>\n",
       "    <tr style=\"text-align: right;\">\n",
       "      <th></th>\n",
       "      <th>Logistic Regression</th>\n",
       "      <th>PCA+Logistic Regression</th>\n",
       "      <th>Decision tree</th>\n",
       "      <th>PCA+Decision tree</th>\n",
       "      <th>Random Forest</th>\n",
       "      <th>PCA+Random Forest</th>\n",
       "      <th>NN</th>\n",
       "      <th>Score card model</th>\n",
       "      <th>Cloglog model</th>\n",
       "    </tr>\n",
       "  </thead>\n",
       "  <tbody>\n",
       "    <tr>\n",
       "      <th>Accuracy</th>\n",
       "      <td>0.933</td>\n",
       "      <td>0.870</td>\n",
       "      <td>0.955</td>\n",
       "      <td>0.913</td>\n",
       "      <td>0.439</td>\n",
       "      <td>0.434</td>\n",
       "      <td>0.885</td>\n",
       "      <td>0.485</td>\n",
       "      <td>0.833</td>\n",
       "    </tr>\n",
       "    <tr>\n",
       "      <th>Precision</th>\n",
       "      <td>0.979</td>\n",
       "      <td>0.980</td>\n",
       "      <td>0.979</td>\n",
       "      <td>0.980</td>\n",
       "      <td>0.990</td>\n",
       "      <td>0.990</td>\n",
       "      <td>0.980</td>\n",
       "      <td>0.476</td>\n",
       "      <td>0.979</td>\n",
       "    </tr>\n",
       "    <tr>\n",
       "      <th>Recall</th>\n",
       "      <td>0.952</td>\n",
       "      <td>0.885</td>\n",
       "      <td>0.975</td>\n",
       "      <td>0.931</td>\n",
       "      <td>0.428</td>\n",
       "      <td>0.424</td>\n",
       "      <td>0.901</td>\n",
       "      <td>0.991</td>\n",
       "      <td>0.847</td>\n",
       "    </tr>\n",
       "    <tr>\n",
       "      <th>F1</th>\n",
       "      <td>0.965</td>\n",
       "      <td>0.930</td>\n",
       "      <td>0.977</td>\n",
       "      <td>0.955</td>\n",
       "      <td>0.598</td>\n",
       "      <td>0.594</td>\n",
       "      <td>0.939</td>\n",
       "      <td>0.643</td>\n",
       "      <td>0.908</td>\n",
       "    </tr>\n",
       "    <tr>\n",
       "      <th>Auc</th>\n",
       "      <td>0.583</td>\n",
       "      <td>0.582</td>\n",
       "      <td>0.575</td>\n",
       "      <td>0.586</td>\n",
       "      <td>0.633</td>\n",
       "      <td>0.629</td>\n",
       "      <td>0.588</td>\n",
       "      <td>0.710</td>\n",
       "      <td>NaN</td>\n",
       "    </tr>\n",
       "  </tbody>\n",
       "</table>\n",
       "</div>"
      ],
      "text/plain": [
       "           Logistic Regression  PCA+Logistic Regression  Decision tree  \\\n",
       "Accuracy                 0.933                    0.870          0.955   \n",
       "Precision                0.979                    0.980          0.979   \n",
       "Recall                   0.952                    0.885          0.975   \n",
       "F1                       0.965                    0.930          0.977   \n",
       "Auc                      0.583                    0.582          0.575   \n",
       "\n",
       "           PCA+Decision tree  Random Forest  PCA+Random Forest     NN  \\\n",
       "Accuracy               0.913          0.439              0.434  0.885   \n",
       "Precision              0.980          0.990              0.990  0.980   \n",
       "Recall                 0.931          0.428              0.424  0.901   \n",
       "F1                     0.955          0.598              0.594  0.939   \n",
       "Auc                    0.586          0.633              0.629  0.588   \n",
       "\n",
       "           Score card model  Cloglog model  \n",
       "Accuracy              0.485          0.833  \n",
       "Precision             0.476          0.979  \n",
       "Recall                0.991          0.847  \n",
       "F1                    0.643          0.908  \n",
       "Auc                   0.710            NaN  "
      ]
     },
     "execution_count": 137,
     "metadata": {},
     "output_type": "execute_result"
    }
   ],
   "source": [
    "outcome_undersample.name = 'Model results with undersampling'\n",
    "outcome_undersample"
   ]
  }
 ],
 "metadata": {
  "kernelspec": {
   "display_name": "Python 3 (ipykernel)",
   "language": "python",
   "name": "python3"
  },
  "language_info": {
   "codemirror_mode": {
    "name": "ipython",
    "version": 3
   },
   "file_extension": ".py",
   "mimetype": "text/x-python",
   "name": "python",
   "nbconvert_exporter": "python",
   "pygments_lexer": "ipython3",
   "version": "3.9.12"
  }
 },
 "nbformat": 4,
 "nbformat_minor": 5
}
